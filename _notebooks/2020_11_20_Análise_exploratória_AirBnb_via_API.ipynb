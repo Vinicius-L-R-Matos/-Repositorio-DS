{
  "nbformat": 4,
  "nbformat_minor": 0,
  "metadata": {
    "colab": {
      "name": "Análise exploratória AirBnb via API.ipynb",
      "provenance": [],
      "authorship_tag": "ABX9TyNR+cSTsJgDkyLg4HxJB1rT",
      "include_colab_link": true
    },
    "kernelspec": {
      "name": "python3",
      "display_name": "Python 3"
    },
    "language_info": {
      "name": "python"
    }
  },
  "cells": [
    {
      "cell_type": "markdown",
      "metadata": {
        "id": "view-in-github",
        "colab_type": "text"
      },
      "source": [
        "<a href=\"https://colab.research.google.com/github/Vinicius-L-R-Matos/-Repositorio-DS/blob/master/_notebooks/2020_11_20_An%C3%A1lise_explorat%C3%B3ria_AirBnb_via_API.ipynb\" target=\"_parent\"><img src=\"https://colab.research.google.com/assets/colab-badge.svg\" alt=\"Open In Colab\"/></a>"
      ]
    },
    {
      "cell_type": "markdown",
      "metadata": {
        "id": "xBAs7OF8UwVl"
      },
      "source": [
        "\n",
        "# Análise exploratória AirBnb via API\n",
        "> \"Como acessei um serviço para analizar dados\"\n",
        "\n",
        "- toc: false\n",
        "- branch: master\n",
        "- badges: true\n",
        "- comments: false\n",
        "- categories: [fastpages, jupyter, Data exploration]\n",
        "- hide: false\n",
        "- author: Vinicius Matos\n",
        "\n",
        "---"
      ]
    },
    {
      "cell_type": "markdown",
      "metadata": {
        "id": "Wyzsveei8MlM"
      },
      "source": [
        "API é um objeto criado por empresas quando tem a intenção de que outros criadores de software desenvolvam produtos associados ao seu serviço. \n",
        "\n",
        "Para isso disponibilizam os códigos e instruções para serem usados em outros sites da maneira mais prática para seus usuários.\n",
        "\n",
        "A palavra API traduzida é algo como Interface de Programação de Aplicativos.\n",
        "\n",
        "Como exercício realizei toda a preparação e limpeza dos dados do dataset a seguir do [Airbnb](https://www.airbnb.com.br/)\n",
        "\n",
        "**Dataset**\n",
        "\n",
        "Este conjunto de dados descreve a atividade de listagem e as métricas em NYC para o ano de 2019.\n",
        "\n",
        "Este arquivo de dados inclui todas as informações necessárias para descobrir mais sobre hosts, disponibilidade geográfica, métricas necessárias para fazer previsões e tirar conclusões."
      ]
    },
    {
      "cell_type": "markdown",
      "metadata": {
        "id": "pNsp-Smb9LAq"
      },
      "source": [
        "# Pré requisitos:"
      ]
    },
    {
      "cell_type": "markdown",
      "metadata": {
        "id": "i4Yj55sg9L3L"
      },
      "source": [
        "O resultado fica bem fiel. Para usar, necessita de:\n",
        "\n",
        "- Notebook do Colab aberto\n",
        "- Noções de Python\n",
        "- Conexão com a interet\n",
        "- Url da API que deseja usar"
      ]
    },
    {
      "cell_type": "markdown",
      "metadata": {
        "id": "1S8s4lA-9YLb"
      },
      "source": [
        "# 1 - Importando as bibliotecas:"
      ]
    },
    {
      "cell_type": "markdown",
      "metadata": {
        "id": "Q7KTgbmm9amm"
      },
      "source": [
        "Duas blibliotecas são necessárias aqui. Pandas e Numpy."
      ]
    },
    {
      "cell_type": "code",
      "metadata": {
        "id": "oq9j_k7-8tRE"
      },
      "source": [
        "#Importação de Bibliotecas necessárias\n",
        "import pandas as pd\n",
        "import numpy as np"
      ],
      "execution_count": 1,
      "outputs": []
    },
    {
      "cell_type": "markdown",
      "metadata": {
        "id": "KMHTLNOD9rE2"
      },
      "source": [
        "# 2 - Acessando os repositórios:"
      ]
    },
    {
      "cell_type": "markdown",
      "metadata": {
        "id": "OUacPy0x9iOu"
      },
      "source": [
        "Declarei a url da API, que no caso é um arquivo csv, como uma variável."
      ]
    },
    {
      "cell_type": "code",
      "metadata": {
        "id": "p7BK3R9x7_eG"
      },
      "source": [
        "airbnb_url = 'https://raw.githubusercontent.com/ManarOmar/New-York-Airbnb-2019/master/AB_NYC_2019.csv'\n",
        "# este é o acesso público para a API\n",
        "airbnb_ori = pd.read_csv(airbnb_url)\n",
        "airbnb = airbnb_ori.copy()\n",
        "wrong_spelling = ['manhatann', 'brookln', 'Blookn', 'Quinns','Broonx'] * 10\n",
        "random_index = airbnb.sample(50, random_state = 10).index\n",
        "airbnb.loc[random_index,'neighbourhood_group'] = wrong_spelling\n",
        "airbnb.loc[random_index,'name'] = 'nan'"
      ],
      "execution_count": 2,
      "outputs": []
    },
    {
      "cell_type": "markdown",
      "metadata": {
        "id": "2WawCxDMJXmS"
      },
      "source": [
        "Ao nomear o aquivo para outra variável, posso realizari comando \"print()\", paraconhecer melhor o incio e algumas métricas."
      ]
    },
    {
      "cell_type": "code",
      "metadata": {
        "colab": {
          "base_uri": "https://localhost:8080/"
        },
        "id": "VUk93qORJv-a",
        "outputId": "985974f1-3556-41eb-d15c-9b6ec9ffc884"
      },
      "source": [
        "#Testando se está ok\n",
        "\n",
        "print(airbnb)"
      ],
      "execution_count": 3,
      "outputs": [
        {
          "output_type": "stream",
          "name": "stdout",
          "text": [
            "             id  ... availability_365\n",
            "0          2539  ...              365\n",
            "1          2595  ...              355\n",
            "2          3647  ...              365\n",
            "3          3831  ...              194\n",
            "4          5022  ...                0\n",
            "...         ...  ...              ...\n",
            "48890  36484665  ...                9\n",
            "48891  36485057  ...               36\n",
            "48892  36485431  ...               27\n",
            "48893  36485609  ...                2\n",
            "48894  36487245  ...               23\n",
            "\n",
            "[48895 rows x 16 columns]\n"
          ]
        }
      ]
    },
    {
      "cell_type": "markdown",
      "metadata": {
        "id": "wFPuShQ4DUT6"
      },
      "source": [
        "# 3 - Carregando as aplicações:\n"
      ]
    },
    {
      "cell_type": "markdown",
      "metadata": {
        "id": "FL_1qDd_-pVY"
      },
      "source": [
        "Declaro uma df, que será a base para relaizar a análise. Ela abre o mesmo arquivo que fiz upload notebook."
      ]
    },
    {
      "cell_type": "code",
      "metadata": {
        "id": "fKRnntN68Le6"
      },
      "source": [
        "#df = pd.read_csv('airbnb', index_col=0)\n",
        "df = pd.read_csv('AB_NYC_2019.csv', index_col=0)\n"
      ],
      "execution_count": 9,
      "outputs": []
    },
    {
      "cell_type": "markdown",
      "metadata": {
        "id": "UmEL5suqBBd4"
      },
      "source": [
        "Tudo certo. Hora de manipular as linhas."
      ]
    },
    {
      "cell_type": "markdown",
      "metadata": {
        "id": "jpkM8EIIDh0P"
      },
      "source": [
        "# 4 - Definindo os argumentos:"
      ]
    },
    {
      "cell_type": "markdown",
      "metadata": {
        "id": "xCKIBiOhBKCw"
      },
      "source": [
        "Aqui coloquei na ordem os imóveis com maior quantidade de reviews."
      ]
    },
    {
      "cell_type": "code",
      "metadata": {
        "id": "iO8o07za8ih6",
        "colab": {
          "base_uri": "https://localhost:8080/"
        },
        "outputId": "e18c4472-ee40-422e-f5e3-673a001c90a7"
      },
      "source": [
        "df.sort_values('number_of_reviews', ascending=False, inplace=True)\n",
        "print(df.head())"
      ],
      "execution_count": 12,
      "outputs": [
        {
          "output_type": "stream",
          "name": "stdout",
          "text": [
            "                                    name  ...  availability_365\n",
            "id                                        ...                  \n",
            "9145202          Room near JFK Queen Bed  ...               333\n",
            "903972        Great Bedroom in Manhattan  ...               293\n",
            "903947    Beautiful Bedroom in Manhattan  ...               342\n",
            "891117      Private Bedroom in Manhattan  ...               339\n",
            "10101135         Room Near JFK Twin Beds  ...               173\n",
            "\n",
            "[5 rows x 15 columns]\n"
          ]
        }
      ]
    },
    {
      "cell_type": "markdown",
      "metadata": {
        "id": "dPm362keBhw8"
      },
      "source": [
        "Demonstrndo que propriedades não foram afetadas."
      ]
    },
    {
      "cell_type": "code",
      "metadata": {
        "colab": {
          "base_uri": "https://localhost:8080/"
        },
        "id": "O5QwkThL8ljF",
        "outputId": "7df454a9-b3a9-4bf7-89c8-fbb05b3b2d88"
      },
      "source": [
        "print(df.shape)"
      ],
      "execution_count": 11,
      "outputs": [
        {
          "output_type": "stream",
          "name": "stdout",
          "text": [
            "(48895, 15)\n"
          ]
        }
      ]
    },
    {
      "cell_type": "markdown",
      "metadata": {
        "id": "PViu-1GFBr-d"
      },
      "source": [
        "Agora quero conhecer estatísticas simples com a função \"describe()\" "
      ]
    },
    {
      "cell_type": "code",
      "metadata": {
        "colab": {
          "base_uri": "https://localhost:8080/",
          "height": 320
        },
        "id": "rMGV0mywKifu",
        "outputId": "902d826d-3802-4f82-f8ca-8b964fe0cbd1"
      },
      "source": [
        "df.describe()"
      ],
      "execution_count": null,
      "outputs": [
        {
          "output_type": "execute_result",
          "data": {
            "text/html": [
              "<div>\n",
              "<style scoped>\n",
              "    .dataframe tbody tr th:only-of-type {\n",
              "        vertical-align: middle;\n",
              "    }\n",
              "\n",
              "    .dataframe tbody tr th {\n",
              "        vertical-align: top;\n",
              "    }\n",
              "\n",
              "    .dataframe thead th {\n",
              "        text-align: right;\n",
              "    }\n",
              "</style>\n",
              "<table border=\"1\" class=\"dataframe\">\n",
              "  <thead>\n",
              "    <tr style=\"text-align: right;\">\n",
              "      <th></th>\n",
              "      <th>host_id</th>\n",
              "      <th>latitude</th>\n",
              "      <th>longitude</th>\n",
              "      <th>price</th>\n",
              "      <th>minimum_nights</th>\n",
              "      <th>number_of_reviews</th>\n",
              "      <th>reviews_per_month</th>\n",
              "      <th>calculated_host_listings_count</th>\n",
              "      <th>availability_365</th>\n",
              "    </tr>\n",
              "  </thead>\n",
              "  <tbody>\n",
              "    <tr>\n",
              "      <th>count</th>\n",
              "      <td>4.889500e+04</td>\n",
              "      <td>48895.000000</td>\n",
              "      <td>48895.000000</td>\n",
              "      <td>48895.000000</td>\n",
              "      <td>48895.000000</td>\n",
              "      <td>48895.000000</td>\n",
              "      <td>38843.000000</td>\n",
              "      <td>48895.000000</td>\n",
              "      <td>48895.000000</td>\n",
              "    </tr>\n",
              "    <tr>\n",
              "      <th>mean</th>\n",
              "      <td>6.762001e+07</td>\n",
              "      <td>40.728949</td>\n",
              "      <td>-73.952170</td>\n",
              "      <td>152.720687</td>\n",
              "      <td>7.029962</td>\n",
              "      <td>23.274466</td>\n",
              "      <td>1.373221</td>\n",
              "      <td>7.143982</td>\n",
              "      <td>112.781327</td>\n",
              "    </tr>\n",
              "    <tr>\n",
              "      <th>std</th>\n",
              "      <td>7.861097e+07</td>\n",
              "      <td>0.054530</td>\n",
              "      <td>0.046157</td>\n",
              "      <td>240.154170</td>\n",
              "      <td>20.510550</td>\n",
              "      <td>44.550582</td>\n",
              "      <td>1.680442</td>\n",
              "      <td>32.952519</td>\n",
              "      <td>131.622289</td>\n",
              "    </tr>\n",
              "    <tr>\n",
              "      <th>min</th>\n",
              "      <td>2.438000e+03</td>\n",
              "      <td>40.499790</td>\n",
              "      <td>-74.244420</td>\n",
              "      <td>0.000000</td>\n",
              "      <td>1.000000</td>\n",
              "      <td>0.000000</td>\n",
              "      <td>0.010000</td>\n",
              "      <td>1.000000</td>\n",
              "      <td>0.000000</td>\n",
              "    </tr>\n",
              "    <tr>\n",
              "      <th>25%</th>\n",
              "      <td>7.822033e+06</td>\n",
              "      <td>40.690100</td>\n",
              "      <td>-73.983070</td>\n",
              "      <td>69.000000</td>\n",
              "      <td>1.000000</td>\n",
              "      <td>1.000000</td>\n",
              "      <td>0.190000</td>\n",
              "      <td>1.000000</td>\n",
              "      <td>0.000000</td>\n",
              "    </tr>\n",
              "    <tr>\n",
              "      <th>50%</th>\n",
              "      <td>3.079382e+07</td>\n",
              "      <td>40.723070</td>\n",
              "      <td>-73.955680</td>\n",
              "      <td>106.000000</td>\n",
              "      <td>3.000000</td>\n",
              "      <td>5.000000</td>\n",
              "      <td>0.720000</td>\n",
              "      <td>1.000000</td>\n",
              "      <td>45.000000</td>\n",
              "    </tr>\n",
              "    <tr>\n",
              "      <th>75%</th>\n",
              "      <td>1.074344e+08</td>\n",
              "      <td>40.763115</td>\n",
              "      <td>-73.936275</td>\n",
              "      <td>175.000000</td>\n",
              "      <td>5.000000</td>\n",
              "      <td>24.000000</td>\n",
              "      <td>2.020000</td>\n",
              "      <td>2.000000</td>\n",
              "      <td>227.000000</td>\n",
              "    </tr>\n",
              "    <tr>\n",
              "      <th>max</th>\n",
              "      <td>2.743213e+08</td>\n",
              "      <td>40.913060</td>\n",
              "      <td>-73.712990</td>\n",
              "      <td>10000.000000</td>\n",
              "      <td>1250.000000</td>\n",
              "      <td>629.000000</td>\n",
              "      <td>58.500000</td>\n",
              "      <td>327.000000</td>\n",
              "      <td>365.000000</td>\n",
              "    </tr>\n",
              "  </tbody>\n",
              "</table>\n",
              "</div>"
            ],
            "text/plain": [
              "            host_id  ...  availability_365\n",
              "count  4.889500e+04  ...      48895.000000\n",
              "mean   6.762001e+07  ...        112.781327\n",
              "std    7.861097e+07  ...        131.622289\n",
              "min    2.438000e+03  ...          0.000000\n",
              "25%    7.822033e+06  ...          0.000000\n",
              "50%    3.079382e+07  ...         45.000000\n",
              "75%    1.074344e+08  ...        227.000000\n",
              "max    2.743213e+08  ...        365.000000\n",
              "\n",
              "[8 rows x 9 columns]"
            ]
          },
          "metadata": {},
          "execution_count": 13
        }
      ]
    },
    {
      "cell_type": "markdown",
      "metadata": {
        "id": "aXdnopXCB4dy"
      },
      "source": [
        "E para conhecer o nome das colunas e quantidade de itens em cada, uso a função \"info()\" "
      ]
    },
    {
      "cell_type": "code",
      "metadata": {
        "colab": {
          "base_uri": "https://localhost:8080/"
        },
        "id": "750Z5jsUJDSj",
        "outputId": "e0c5c54b-6ccc-4451-cb2c-4e6791a7e30e"
      },
      "source": [
        "df.info()"
      ],
      "execution_count": 13,
      "outputs": [
        {
          "output_type": "stream",
          "name": "stdout",
          "text": [
            "<class 'pandas.core.frame.DataFrame'>\n",
            "Int64Index: 48895 entries, 9145202 to 36487245\n",
            "Data columns (total 15 columns):\n",
            " #   Column                          Non-Null Count  Dtype  \n",
            "---  ------                          --------------  -----  \n",
            " 0   name                            48879 non-null  object \n",
            " 1   host_id                         48895 non-null  int64  \n",
            " 2   host_name                       48874 non-null  object \n",
            " 3   neighbourhood_group             48895 non-null  object \n",
            " 4   neighbourhood                   48895 non-null  object \n",
            " 5   latitude                        48895 non-null  float64\n",
            " 6   longitude                       48895 non-null  float64\n",
            " 7   room_type                       48895 non-null  object \n",
            " 8   price                           48895 non-null  int64  \n",
            " 9   minimum_nights                  48895 non-null  int64  \n",
            " 10  number_of_reviews               48895 non-null  int64  \n",
            " 11  last_review                     38843 non-null  object \n",
            " 12  reviews_per_month               38843 non-null  float64\n",
            " 13  calculated_host_listings_count  48895 non-null  int64  \n",
            " 14  availability_365                48895 non-null  int64  \n",
            "dtypes: float64(3), int64(6), object(6)\n",
            "memory usage: 6.0+ MB\n"
          ]
        }
      ]
    },
    {
      "cell_type": "markdown",
      "metadata": {
        "id": "rWcy1H5rCJUT"
      },
      "source": [
        "Quero ver agora apenas os 5 primeiros valores, com todas as colunas. "
      ]
    },
    {
      "cell_type": "code",
      "metadata": {
        "colab": {
          "base_uri": "https://localhost:8080/",
          "height": 501
        },
        "id": "D007uFFRI8pT",
        "outputId": "4fe42f97-56db-43f5-bd0e-360d537dd9cd"
      },
      "source": [
        "df.head(5)"
      ],
      "execution_count": 14,
      "outputs": [
        {
          "output_type": "execute_result",
          "data": {
            "text/html": [
              "<div>\n",
              "<style scoped>\n",
              "    .dataframe tbody tr th:only-of-type {\n",
              "        vertical-align: middle;\n",
              "    }\n",
              "\n",
              "    .dataframe tbody tr th {\n",
              "        vertical-align: top;\n",
              "    }\n",
              "\n",
              "    .dataframe thead th {\n",
              "        text-align: right;\n",
              "    }\n",
              "</style>\n",
              "<table border=\"1\" class=\"dataframe\">\n",
              "  <thead>\n",
              "    <tr style=\"text-align: right;\">\n",
              "      <th></th>\n",
              "      <th>name</th>\n",
              "      <th>host_id</th>\n",
              "      <th>host_name</th>\n",
              "      <th>neighbourhood_group</th>\n",
              "      <th>neighbourhood</th>\n",
              "      <th>latitude</th>\n",
              "      <th>longitude</th>\n",
              "      <th>room_type</th>\n",
              "      <th>price</th>\n",
              "      <th>minimum_nights</th>\n",
              "      <th>number_of_reviews</th>\n",
              "      <th>last_review</th>\n",
              "      <th>reviews_per_month</th>\n",
              "      <th>calculated_host_listings_count</th>\n",
              "      <th>availability_365</th>\n",
              "    </tr>\n",
              "    <tr>\n",
              "      <th>id</th>\n",
              "      <th></th>\n",
              "      <th></th>\n",
              "      <th></th>\n",
              "      <th></th>\n",
              "      <th></th>\n",
              "      <th></th>\n",
              "      <th></th>\n",
              "      <th></th>\n",
              "      <th></th>\n",
              "      <th></th>\n",
              "      <th></th>\n",
              "      <th></th>\n",
              "      <th></th>\n",
              "      <th></th>\n",
              "      <th></th>\n",
              "    </tr>\n",
              "  </thead>\n",
              "  <tbody>\n",
              "    <tr>\n",
              "      <th>9145202</th>\n",
              "      <td>Room near JFK Queen Bed</td>\n",
              "      <td>47621202</td>\n",
              "      <td>Dona</td>\n",
              "      <td>Queens</td>\n",
              "      <td>Jamaica</td>\n",
              "      <td>40.66730</td>\n",
              "      <td>-73.76831</td>\n",
              "      <td>Private room</td>\n",
              "      <td>47</td>\n",
              "      <td>1</td>\n",
              "      <td>629</td>\n",
              "      <td>2019-07-05</td>\n",
              "      <td>14.58</td>\n",
              "      <td>2</td>\n",
              "      <td>333</td>\n",
              "    </tr>\n",
              "    <tr>\n",
              "      <th>903972</th>\n",
              "      <td>Great Bedroom in Manhattan</td>\n",
              "      <td>4734398</td>\n",
              "      <td>Jj</td>\n",
              "      <td>Manhattan</td>\n",
              "      <td>Harlem</td>\n",
              "      <td>40.82085</td>\n",
              "      <td>-73.94025</td>\n",
              "      <td>Private room</td>\n",
              "      <td>49</td>\n",
              "      <td>1</td>\n",
              "      <td>607</td>\n",
              "      <td>2019-06-21</td>\n",
              "      <td>7.75</td>\n",
              "      <td>3</td>\n",
              "      <td>293</td>\n",
              "    </tr>\n",
              "    <tr>\n",
              "      <th>903947</th>\n",
              "      <td>Beautiful Bedroom in Manhattan</td>\n",
              "      <td>4734398</td>\n",
              "      <td>Jj</td>\n",
              "      <td>Manhattan</td>\n",
              "      <td>Harlem</td>\n",
              "      <td>40.82124</td>\n",
              "      <td>-73.93838</td>\n",
              "      <td>Private room</td>\n",
              "      <td>49</td>\n",
              "      <td>1</td>\n",
              "      <td>597</td>\n",
              "      <td>2019-06-23</td>\n",
              "      <td>7.72</td>\n",
              "      <td>3</td>\n",
              "      <td>342</td>\n",
              "    </tr>\n",
              "    <tr>\n",
              "      <th>891117</th>\n",
              "      <td>Private Bedroom in Manhattan</td>\n",
              "      <td>4734398</td>\n",
              "      <td>Jj</td>\n",
              "      <td>Manhattan</td>\n",
              "      <td>Harlem</td>\n",
              "      <td>40.82264</td>\n",
              "      <td>-73.94041</td>\n",
              "      <td>Private room</td>\n",
              "      <td>49</td>\n",
              "      <td>1</td>\n",
              "      <td>594</td>\n",
              "      <td>2019-06-15</td>\n",
              "      <td>7.57</td>\n",
              "      <td>3</td>\n",
              "      <td>339</td>\n",
              "    </tr>\n",
              "    <tr>\n",
              "      <th>10101135</th>\n",
              "      <td>Room Near JFK Twin Beds</td>\n",
              "      <td>47621202</td>\n",
              "      <td>Dona</td>\n",
              "      <td>Queens</td>\n",
              "      <td>Jamaica</td>\n",
              "      <td>40.66939</td>\n",
              "      <td>-73.76975</td>\n",
              "      <td>Private room</td>\n",
              "      <td>47</td>\n",
              "      <td>1</td>\n",
              "      <td>576</td>\n",
              "      <td>2019-06-27</td>\n",
              "      <td>13.40</td>\n",
              "      <td>2</td>\n",
              "      <td>173</td>\n",
              "    </tr>\n",
              "  </tbody>\n",
              "</table>\n",
              "</div>"
            ],
            "text/plain": [
              "                                    name  ...  availability_365\n",
              "id                                        ...                  \n",
              "9145202          Room near JFK Queen Bed  ...               333\n",
              "903972        Great Bedroom in Manhattan  ...               293\n",
              "903947    Beautiful Bedroom in Manhattan  ...               342\n",
              "891117      Private Bedroom in Manhattan  ...               339\n",
              "10101135         Room Near JFK Twin Beds  ...               173\n",
              "\n",
              "[5 rows x 15 columns]"
            ]
          },
          "metadata": {},
          "execution_count": 14
        }
      ]
    },
    {
      "cell_type": "markdown",
      "metadata": {
        "id": "8IBFxA2WCWzU"
      },
      "source": [
        "E os últimos."
      ]
    },
    {
      "cell_type": "code",
      "metadata": {
        "colab": {
          "base_uri": "https://localhost:8080/",
          "height": 553
        },
        "id": "531_WF7LJRm3",
        "outputId": "d6bb5c78-04e9-4264-fbe9-a41ec6d05c3d"
      },
      "source": [
        "df.tail(5)"
      ],
      "execution_count": 15,
      "outputs": [
        {
          "output_type": "execute_result",
          "data": {
            "text/html": [
              "<div>\n",
              "<style scoped>\n",
              "    .dataframe tbody tr th:only-of-type {\n",
              "        vertical-align: middle;\n",
              "    }\n",
              "\n",
              "    .dataframe tbody tr th {\n",
              "        vertical-align: top;\n",
              "    }\n",
              "\n",
              "    .dataframe thead th {\n",
              "        text-align: right;\n",
              "    }\n",
              "</style>\n",
              "<table border=\"1\" class=\"dataframe\">\n",
              "  <thead>\n",
              "    <tr style=\"text-align: right;\">\n",
              "      <th></th>\n",
              "      <th>name</th>\n",
              "      <th>host_id</th>\n",
              "      <th>host_name</th>\n",
              "      <th>neighbourhood_group</th>\n",
              "      <th>neighbourhood</th>\n",
              "      <th>latitude</th>\n",
              "      <th>longitude</th>\n",
              "      <th>room_type</th>\n",
              "      <th>price</th>\n",
              "      <th>minimum_nights</th>\n",
              "      <th>number_of_reviews</th>\n",
              "      <th>last_review</th>\n",
              "      <th>reviews_per_month</th>\n",
              "      <th>calculated_host_listings_count</th>\n",
              "      <th>availability_365</th>\n",
              "    </tr>\n",
              "    <tr>\n",
              "      <th>id</th>\n",
              "      <th></th>\n",
              "      <th></th>\n",
              "      <th></th>\n",
              "      <th></th>\n",
              "      <th></th>\n",
              "      <th></th>\n",
              "      <th></th>\n",
              "      <th></th>\n",
              "      <th></th>\n",
              "      <th></th>\n",
              "      <th></th>\n",
              "      <th></th>\n",
              "      <th></th>\n",
              "      <th></th>\n",
              "      <th></th>\n",
              "    </tr>\n",
              "  </thead>\n",
              "  <tbody>\n",
              "    <tr>\n",
              "      <th>34337032</th>\n",
              "      <td>1 Bed/ 1 Bath / Columbus Circle/ Balcony</td>\n",
              "      <td>131647128</td>\n",
              "      <td>Emily</td>\n",
              "      <td>Manhattan</td>\n",
              "      <td>Upper West Side</td>\n",
              "      <td>40.77076</td>\n",
              "      <td>-73.98671</td>\n",
              "      <td>Entire home/apt</td>\n",
              "      <td>190</td>\n",
              "      <td>30</td>\n",
              "      <td>0</td>\n",
              "      <td>NaN</td>\n",
              "      <td>NaN</td>\n",
              "      <td>25</td>\n",
              "      <td>181</td>\n",
              "    </tr>\n",
              "    <tr>\n",
              "      <th>34337151</th>\n",
              "      <td>STUNNING 2BR ON MCCARREN PARK WITH PARKING SPOT!</td>\n",
              "      <td>62014210</td>\n",
              "      <td>Sara</td>\n",
              "      <td>Brooklyn</td>\n",
              "      <td>Greenpoint</td>\n",
              "      <td>40.72155</td>\n",
              "      <td>-73.94671</td>\n",
              "      <td>Entire home/apt</td>\n",
              "      <td>700</td>\n",
              "      <td>15</td>\n",
              "      <td>0</td>\n",
              "      <td>NaN</td>\n",
              "      <td>NaN</td>\n",
              "      <td>1</td>\n",
              "      <td>24</td>\n",
              "    </tr>\n",
              "    <tr>\n",
              "      <th>2958912</th>\n",
              "      <td>STUNNING! 1BD Jr in Midtown East NY</td>\n",
              "      <td>15100977</td>\n",
              "      <td>Nataliya</td>\n",
              "      <td>Manhattan</td>\n",
              "      <td>Midtown</td>\n",
              "      <td>40.75969</td>\n",
              "      <td>-73.96644</td>\n",
              "      <td>Entire home/apt</td>\n",
              "      <td>140</td>\n",
              "      <td>300</td>\n",
              "      <td>0</td>\n",
              "      <td>NaN</td>\n",
              "      <td>NaN</td>\n",
              "      <td>1</td>\n",
              "      <td>365</td>\n",
              "    </tr>\n",
              "    <tr>\n",
              "      <th>34337805</th>\n",
              "      <td>Ridgewood Love</td>\n",
              "      <td>7505535</td>\n",
              "      <td>Magnificent Mohamad</td>\n",
              "      <td>Queens</td>\n",
              "      <td>Ridgewood</td>\n",
              "      <td>40.70513</td>\n",
              "      <td>-73.90100</td>\n",
              "      <td>Private room</td>\n",
              "      <td>149</td>\n",
              "      <td>1</td>\n",
              "      <td>0</td>\n",
              "      <td>NaN</td>\n",
              "      <td>NaN</td>\n",
              "      <td>1</td>\n",
              "      <td>180</td>\n",
              "    </tr>\n",
              "    <tr>\n",
              "      <th>36487245</th>\n",
              "      <td>Trendy duplex in the very heart of Hell's Kitchen</td>\n",
              "      <td>68119814</td>\n",
              "      <td>Christophe</td>\n",
              "      <td>Manhattan</td>\n",
              "      <td>Hell's Kitchen</td>\n",
              "      <td>40.76404</td>\n",
              "      <td>-73.98933</td>\n",
              "      <td>Private room</td>\n",
              "      <td>90</td>\n",
              "      <td>7</td>\n",
              "      <td>0</td>\n",
              "      <td>NaN</td>\n",
              "      <td>NaN</td>\n",
              "      <td>1</td>\n",
              "      <td>23</td>\n",
              "    </tr>\n",
              "  </tbody>\n",
              "</table>\n",
              "</div>"
            ],
            "text/plain": [
              "                                                       name  ...  availability_365\n",
              "id                                                           ...                  \n",
              "34337032           1 Bed/ 1 Bath / Columbus Circle/ Balcony  ...               181\n",
              "34337151   STUNNING 2BR ON MCCARREN PARK WITH PARKING SPOT!  ...                24\n",
              "2958912                 STUNNING! 1BD Jr in Midtown East NY  ...               365\n",
              "34337805                                     Ridgewood Love  ...               180\n",
              "36487245  Trendy duplex in the very heart of Hell's Kitchen  ...                23\n",
              "\n",
              "[5 rows x 15 columns]"
            ]
          },
          "metadata": {},
          "execution_count": 15
        }
      ]
    },
    {
      "cell_type": "markdown",
      "metadata": {
        "id": "yvYv8Se6ChmB"
      },
      "source": [
        "Aquele que possui todos os maiores valores."
      ]
    },
    {
      "cell_type": "code",
      "metadata": {
        "colab": {
          "base_uri": "https://localhost:8080/"
        },
        "id": "df2oj_2HKS9A",
        "outputId": "c3aefc6d-b8ff-461b-aad5-b75d21dd6f3d"
      },
      "source": [
        "df.max()\n"
      ],
      "execution_count": 16,
      "outputs": [
        {
          "output_type": "execute_result",
          "data": {
            "text/plain": [
              "host_id                               274321313\n",
              "neighbourhood_group               Staten Island\n",
              "neighbourhood                          Woodside\n",
              "latitude                                40.9131\n",
              "longitude                               -73.713\n",
              "room_type                           Shared room\n",
              "price                                     10000\n",
              "minimum_nights                             1250\n",
              "number_of_reviews                           629\n",
              "reviews_per_month                          58.5\n",
              "calculated_host_listings_count              327\n",
              "availability_365                            365\n",
              "dtype: object"
            ]
          },
          "metadata": {},
          "execution_count": 16
        }
      ]
    },
    {
      "cell_type": "markdown",
      "metadata": {
        "id": "KNdrzUjHCqbK"
      },
      "source": [
        "Aquele que possui os mínimos."
      ]
    },
    {
      "cell_type": "code",
      "metadata": {
        "colab": {
          "base_uri": "https://localhost:8080/"
        },
        "id": "r8zaW7KQKYE-",
        "outputId": "3fb52781-180d-41bd-b40c-2ad2ccb16814"
      },
      "source": [
        "df.min()"
      ],
      "execution_count": null,
      "outputs": [
        {
          "output_type": "execute_result",
          "data": {
            "text/plain": [
              "host_id                                      2438\n",
              "neighbourhood_group                         Bronx\n",
              "neighbourhood                            Allerton\n",
              "latitude                                  40.4998\n",
              "longitude                                -74.2444\n",
              "room_type                         Entire home/apt\n",
              "price                                           0\n",
              "minimum_nights                                  1\n",
              "number_of_reviews                               0\n",
              "reviews_per_month                            0.01\n",
              "calculated_host_listings_count                  1\n",
              "availability_365                                0\n",
              "dtype: object"
            ]
          },
          "metadata": {},
          "execution_count": 12
        }
      ]
    },
    {
      "cell_type": "markdown",
      "metadata": {
        "id": "0TGKk8MSCw5Q"
      },
      "source": [
        "Se existem valores duplicados."
      ]
    },
    {
      "cell_type": "code",
      "metadata": {
        "colab": {
          "base_uri": "https://localhost:8080/"
        },
        "id": "jXC-n4p-K7Ob",
        "outputId": "1aaa1c7f-02a6-41cc-85c0-8da00fb456b4"
      },
      "source": [
        "## Validação de Duplicadas \n",
        "duplicados = df[df.duplicated()]\n",
        "print(duplicados)"
      ],
      "execution_count": 17,
      "outputs": [
        {
          "output_type": "stream",
          "name": "stdout",
          "text": [
            "Empty DataFrame\n",
            "Columns: [name, host_id, host_name, neighbourhood_group, neighbourhood, latitude, longitude, room_type, price, minimum_nights, number_of_reviews, last_review, reviews_per_month, calculated_host_listings_count, availability_365]\n",
            "Index: []\n"
          ]
        }
      ]
    },
    {
      "cell_type": "markdown",
      "metadata": {
        "id": "CIXZi7zvC2UD"
      },
      "source": [
        "Nenhum. Ótimo! Mas ainda podem existir nomes duplicados."
      ]
    },
    {
      "cell_type": "code",
      "metadata": {
        "colab": {
          "base_uri": "https://localhost:8080/"
        },
        "id": "nVqb6qT3LEk_",
        "outputId": "168bc7ce-23b2-405f-8b87-f790cc19e674"
      },
      "source": [
        "#Para saber se existem nomes iguais em descrissão de locação\n",
        "print(df[df.duplicated(subset=['name'])])"
      ],
      "execution_count": 18,
      "outputs": [
        {
          "output_type": "stream",
          "name": "stdout",
          "text": [
            "                                                      name  ...  availability_365\n",
            "id                                                          ...                  \n",
            "9434513                2000sq $2 million 3 story townhouse  ...               363\n",
            "1330056                Spacious Loft 5 min to Union Square  ...               359\n",
            "482765                       Beautiful Brooklyn Brownstone  ...                12\n",
            "18946416                     Beautiful Brooklyn Brownstone  ...               274\n",
            "18091991                                         Cozy Room  ...               128\n",
            "...                                                    ...  ...               ...\n",
            "35461209  Freshly furnished private room - GREAT Location!  ...               219\n",
            "2925138                            Steps from Central Park  ...                 0\n",
            "35461527        Artsy Private BR in Fort Greene Cumberland  ...               342\n",
            "35461700        Artsy Private BR in Fort Greene Cumberland  ...               341\n",
            "35461620        Artsy Private BR in Fort Greene Cumberland  ...               305\n",
            "\n",
            "[989 rows x 15 columns]\n"
          ]
        }
      ]
    },
    {
      "cell_type": "code",
      "metadata": {
        "id": "Xg94FfyADGVB"
      },
      "source": [
        "Contabilizadas 989 ocorrências. "
      ],
      "execution_count": null,
      "outputs": []
    },
    {
      "cell_type": "markdown",
      "metadata": {
        "id": "V0gQc85aDrGe"
      },
      "source": [
        "# Conclusão"
      ]
    },
    {
      "cell_type": "markdown",
      "metadata": {
        "id": "Bmtl3oZGDtUJ"
      },
      "source": [
        "A aplicação roda perfeitamente e possibilita ainda exportar a dados gerados para demais usos.\n",
        "\n",
        "Acredito que desta forma será mais simples usar este processo mais vezes, ou quem sabe passar à frente.\n",
        "\n",
        "O processo pode ser acessado em Notebook Colab no início desta postagem e reproduzido livremente.\n",
        "\n",
        "A API tem quantidade relevante de nomes duplicados. Pode afetar análises que deendam disso. "
      ]
    }
  ]
}