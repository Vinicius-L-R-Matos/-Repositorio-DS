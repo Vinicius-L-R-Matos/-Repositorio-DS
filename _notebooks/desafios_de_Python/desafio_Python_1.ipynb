{
  "nbformat": 4,
  "nbformat_minor": 0,
  "metadata": {
    "colab": {
      "name": "desafio_Python_1.ipynb",
      "provenance": [],
      "authorship_tag": "ABX9TyM+oauIHyzRKtkccnhT7f63",
      "include_colab_link": true
    },
    "kernelspec": {
      "name": "python3",
      "display_name": "Python 3"
    },
    "language_info": {
      "name": "python"
    }
  },
  "cells": [
    {
      "cell_type": "markdown",
      "metadata": {
        "id": "view-in-github",
        "colab_type": "text"
      },
      "source": [
        "<a href=\"https://colab.research.google.com/github/Vinicius-L-R-Matos/Portifolio-DS/blob/master/_notebooks/desafios_de_Python/desafio_Python_1.ipynb\" target=\"_parent\"><img src=\"https://colab.research.google.com/assets/colab-badge.svg\" alt=\"Open In Colab\"/></a>"
      ]
    },
    {
      "cell_type": "code",
      "metadata": {
        "id": "h7R2MoixUgvC"
      },
      "source": [
        "# Escreva um programa em Python para contabilizar a quantidade de ocorrências de cada palavra.\n",
        "\n",
        "palavras = [\n",
        "   'red', 'green', 'black', 'pink', 'black', 'white', 'black', 'eyes',\n",
        "   'white', 'black', 'orange', 'pink', 'pink', 'red', 'red', 'white', 'orange',\n",
        "   'white', \"black\", 'pink', 'green', 'green', 'pink', 'green', 'pink',\n",
        "   'white', 'orange', \"orange\", 'red'\n",
        "]\n"
      ],
      "execution_count": 5,
      "outputs": []
    },
    {
      "cell_type": "code",
      "metadata": {
        "id": "nUxKhdXwU0c0"
      },
      "source": [
        "from collections import Counter"
      ],
      "execution_count": 2,
      "outputs": []
    },
    {
      "cell_type": "code",
      "metadata": {
        "colab": {
          "base_uri": "https://localhost:8080/"
        },
        "id": "jKzBMUGrVbvi",
        "outputId": "744f2991-03ff-4b9a-afbd-61ac062b2330"
      },
      "source": [
        "k = Counter(palavras).keys()\n",
        "v = Counter(palavras).values()\n",
        "\n",
        "print(k)\n",
        "print(v)"
      ],
      "execution_count": 7,
      "outputs": [
        {
          "output_type": "stream",
          "name": "stdout",
          "text": [
            "dict_keys(['red', 'green', 'black', 'pink', 'white', 'eyes', 'orange'])\n",
            "dict_values([4, 4, 5, 6, 5, 1, 4])\n"
          ]
        }
      ]
    },
    {
      "cell_type": "code",
      "metadata": {
        "colab": {
          "base_uri": "https://localhost:8080/"
        },
        "id": "c6bDQ0QCHKdI",
        "outputId": "feaa2bc8-76a8-4152-c8f1-bf787150b3c8"
      },
      "source": [
        "d = dict_from_list = dict(zip(k, v))\n",
        "\n",
        "print(d)\n"
      ],
      "execution_count": 11,
      "outputs": [
        {
          "output_type": "stream",
          "name": "stdout",
          "text": [
            "{'red': 4, 'green': 4, 'black': 5, 'pink': 6, 'white': 5, 'eyes': 1, 'orange': 4}\n"
          ]
        }
      ]
    },
    {
      "cell_type": "code",
      "metadata": {
        "colab": {
          "base_uri": "https://localhost:8080/"
        },
        "id": "W4SCnME_HvuW",
        "outputId": "072595a6-f672-4fc1-ff55-bc76629cc6ba"
      },
      "source": [
        "for i in sorted(d, key = d.get, reverse=True):\n",
        "    print(i, d[i])"
      ],
      "execution_count": 12,
      "outputs": [
        {
          "output_type": "stream",
          "name": "stdout",
          "text": [
            "pink 6\n",
            "black 5\n",
            "white 5\n",
            "red 4\n",
            "green 4\n",
            "orange 4\n",
            "eyes 1\n"
          ]
        }
      ]
    }
  ]
}
