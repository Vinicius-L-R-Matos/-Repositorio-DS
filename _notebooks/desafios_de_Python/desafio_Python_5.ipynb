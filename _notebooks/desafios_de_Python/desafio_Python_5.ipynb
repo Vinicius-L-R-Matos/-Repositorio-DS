{
  "nbformat": 4,
  "nbformat_minor": 0,
  "metadata": {
    "colab": {
      "name": "desafio_Python_1.ipynb",
      "provenance": [],
      "authorship_tag": "ABX9TyOWPTP4HjALLdzHSayjJkN/",
      "include_colab_link": true
    },
    "kernelspec": {
      "name": "python3",
      "display_name": "Python 3"
    },
    "language_info": {
      "name": "python"
    }
  },
  "cells": [
    {
      "cell_type": "markdown",
      "metadata": {
        "id": "view-in-github",
        "colab_type": "text"
      },
      "source": [
        "<a href=\"https://colab.research.google.com/github/Vinicius-L-R-Matos/Portifolio-DS/blob/master/_notebooks/desafios_de_Python/desafio_Python_5.ipynb\" target=\"_parent\"><img src=\"https://colab.research.google.com/assets/colab-badge.svg\" alt=\"Open In Colab\"/></a>"
      ]
    },
    {
      "cell_type": "markdown",
      "metadata": {
        "id": "R5ZbnqeJyepH"
      },
      "source": [
        "# Desafio 5\n",
        "\n",
        "Você trabalha em uma loja de sapatos e deve contatar uma série de clientes. Seus números de telefone estão na lista abaixo. No entanto, é possível notar números duplicados na lista dada. Você seria capaz de remover estes duplicados para evitar que clientes sejam contatados mais de uma vez?"
      ]
    },
    {
      "cell_type": "code",
      "metadata": {
        "id": "mUhOzgZzyVgz"
      },
      "source": [
        "numeros_telefone = [\n",
        "'(765) 368-1506',\n",
        "'(285) 608-2448',\n",
        "'(255) 826-9050',\n",
        "'(554) 994-1517',\n",
        "'(285) 608-2448',\n",
        "'(596) 336-5508',\n",
        "'(511) 821-7870',\n",
        "'(410) 665-4447',\n",
        "'(821) 642-8987',\n",
        "'(285) 608-2448',\n",
        "'(311) 799-3883',\n",
        "'(935) 875-2054',\n",
        "'(464) 788-2397',\n",
        "'(765) 368-1506',\n",
        "'(650) 684-1437',\n",
        "'(812) 816-0881',\n",
        "'(285) 608-2448',\n",
        "'(885) 407-1719',\n",
        "'(943) 769-1061',\n",
        "'(596) 336-5508',\n",
        "'(765) 368-1506',\n",
        "'(255) 826-9050',\n",
        "]"
      ],
      "execution_count": 1,
      "outputs": []
    },
    {
      "cell_type": "code",
      "metadata": {
        "colab": {
          "base_uri": "https://localhost:8080/"
        },
        "id": "3WRzsTWNyqQY",
        "outputId": "cada0bce-1703-41d1-fa08-3f4d3f2bee5c"
      },
      "source": [
        "#transformando em array e usando 'set()'\n",
        "u = set(numeros_telefone)\n",
        "print(u)\n",
        "print(len(u))"
      ],
      "execution_count": 35,
      "outputs": [
        {
          "output_type": "stream",
          "name": "stdout",
          "text": [
            "{'(596) 336-5508', '(885) 407-1719', '(943) 769-1061', '(311) 799-3883', '(821) 642-8987', '(285) 608-2448', '(511) 821-7870', '(765) 368-1506', '(935) 875-2054', '(410) 665-4447', '(812) 816-0881', '(650) 684-1437', '(255) 826-9050', '(464) 788-2397', '(554) 994-1517'}\n",
            "15\n"
          ]
        }
      ]
    },
    {
      "cell_type": "code",
      "metadata": {
        "colab": {
          "base_uri": "https://localhost:8080/"
        },
        "id": "uqEQD8042b71",
        "outputId": "93a54611-6808-44de-eba6-16baa2d64516"
      },
      "source": [
        "#convertendo para lista\n",
        "lu = list(u)\n",
        "print(lu)"
      ],
      "execution_count": 36,
      "outputs": [
        {
          "output_type": "stream",
          "name": "stdout",
          "text": [
            "['(596) 336-5508', '(885) 407-1719', '(943) 769-1061', '(311) 799-3883', '(821) 642-8987', '(285) 608-2448', '(511) 821-7870', '(765) 368-1506', '(935) 875-2054', '(410) 665-4447', '(812) 816-0881', '(650) 684-1437', '(255) 826-9050', '(464) 788-2397', '(554) 994-1517']\n"
          ]
        }
      ]
    },
    {
      "cell_type": "code",
      "metadata": {
        "colab": {
          "base_uri": "https://localhost:8080/"
        },
        "id": "Je1lPtys2qyp",
        "outputId": "2af71995-1ea1-4a8b-d30b-415d65c4039d"
      },
      "source": [
        "print(\"números repetidos: \", int(len(numeros_telefone)) - int(len(lu)))\n",
        "print(\"números únicos: \", len(lu))\n",
        "print(lu)"
      ],
      "execution_count": 37,
      "outputs": [
        {
          "output_type": "stream",
          "name": "stdout",
          "text": [
            "números repetidos:  7\n",
            "números únicos:  15\n",
            "['(596) 336-5508', '(885) 407-1719', '(943) 769-1061', '(311) 799-3883', '(821) 642-8987', '(285) 608-2448', '(511) 821-7870', '(765) 368-1506', '(935) 875-2054', '(410) 665-4447', '(812) 816-0881', '(650) 684-1437', '(255) 826-9050', '(464) 788-2397', '(554) 994-1517']\n"
          ]
        }
      ]
    }
  ]
}
