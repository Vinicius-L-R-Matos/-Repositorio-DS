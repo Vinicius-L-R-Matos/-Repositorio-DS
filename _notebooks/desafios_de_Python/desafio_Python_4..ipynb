{
  "nbformat": 4,
  "nbformat_minor": 0,
  "metadata": {
    "colab": {
      "name": "Untitled3.ipynb",
      "provenance": [],
      "authorship_tag": "ABX9TyPqvKk/gwVCUZxypDaINnGo",
      "include_colab_link": true
    },
    "kernelspec": {
      "name": "python3",
      "display_name": "Python 3"
    },
    "language_info": {
      "name": "python"
    }
  },
  "cells": [
    {
      "cell_type": "markdown",
      "metadata": {
        "id": "view-in-github",
        "colab_type": "text"
      },
      "source": [
        "<a href=\"https://colab.research.google.com/github/Vinicius-L-R-Matos/Portifolio-DS/blob/master/_notebooks/desafios_de_Python/desafio_Python_4..ipynb\" target=\"_parent\"><img src=\"https://colab.research.google.com/assets/colab-badge.svg\" alt=\"Open In Colab\"/></a>"
      ]
    },
    {
      "cell_type": "code",
      "metadata": {
        "id": "ES2qZJM8N_1w"
      },
      "source": [
        "#Desafio 4\n",
        "#Escreva uma função cuja entrada é uma string e a saída é outra string com as palavras em ordem inversa.\n",
        "\n",
        "#Exemplo:\n",
        "\n",
        "#inverte_texto(\"Python é legal\") ➞ \"legal é Python\"\n",
        "\n"
      ],
      "execution_count": null,
      "outputs": []
    },
    {
      "cell_type": "code",
      "metadata": {
        "colab": {
          "base_uri": "https://localhost:8080/"
        },
        "id": "re__cyuuOLMt",
        "outputId": "9afae289-e298-4a37-84fe-f24cc596778d"
      },
      "source": [
        "frase = 'Teremos jogo hoje à noite'\n",
        "\n",
        "#Verifica o tamanho da frase\n",
        "tamanho = len(frase.split())\n",
        "\n",
        "#Coloca as palavras da frase em uma lista \n",
        "lista = frase.split()\n",
        "\n",
        "#Cria variável\n",
        "lista_nova = \"\"\n",
        "\n",
        "#Cria lista inversa\n",
        "lista_nova = lista[::-1]\n",
        "\n",
        "#Transforma a lista inversa em uma string\n",
        "frase_invertida = ' '.join(lista_nova)\n",
        "\n",
        "#Imprime a frase invertida\n",
        "print('A Frase invertida ficou assim: ', frase_invertida)\n",
        "\n",
        "print('Tamanho da Frase: ', tamanho, 'palavras')\n"
      ],
      "execution_count": 5,
      "outputs": [
        {
          "output_type": "stream",
          "name": "stdout",
          "text": [
            "A Frase invertida ficou assim:  noite à hoje jogo Teremos\n",
            "Tamanho da Frase:  5 palavras\n"
          ]
        }
      ]
    }
  ]
}
