{
  "nbformat": 4,
  "nbformat_minor": 0,
  "metadata": {
    "colab": {
      "name": "desafio_Python_3.ipynb",
      "provenance": [],
      "authorship_tag": "ABX9TyOtaTnN2vCUa6Ccfj5SAS9M",
      "include_colab_link": true
    },
    "kernelspec": {
      "name": "python3",
      "display_name": "Python 3"
    },
    "language_info": {
      "name": "python"
    }
  },
  "cells": [
    {
      "cell_type": "markdown",
      "metadata": {
        "id": "view-in-github",
        "colab_type": "text"
      },
      "source": [
        "<a href=\"https://colab.research.google.com/github/Vinicius-L-R-Matos/Portifolio-DS/blob/master/_notebooks/desafios_de_Python/desafio_Python_3.ipynb\" target=\"_parent\"><img src=\"https://colab.research.google.com/assets/colab-badge.svg\" alt=\"Open In Colab\"/></a>"
      ]
    },
    {
      "cell_type": "code",
      "metadata": {
        "id": "YHFruqvHMvv5"
      },
      "source": [
        "#Desafio 3\n",
        "#Escreva uma função que receba uma lista como entrada e retorne uma nova lista ordenada e sem valores duplicados.\n",
        "\n",
        "\n",
        "lista = [1,2,3,4,3,30,3,4,5,6,9,3,2,1,2,4,5,15,6,6,3,13,4,45,5]\n",
        "\n",
        "# Seu código"
      ],
      "execution_count": 3,
      "outputs": []
    },
    {
      "cell_type": "code",
      "metadata": {
        "colab": {
          "base_uri": "https://localhost:8080/"
        },
        "id": "dXGty9djM_wx",
        "outputId": "75530c69-f058-47c1-dac1-1e6b4f955ab0"
      },
      "source": [
        "unique_numbers = list(set(lista))\n",
        "print(unique_numbers)"
      ],
      "execution_count": 4,
      "outputs": [
        {
          "output_type": "stream",
          "name": "stdout",
          "text": [
            "[1, 2, 3, 4, 5, 6, 9, 13, 45, 15, 30]\n"
          ]
        }
      ]
    }
  ]
}
