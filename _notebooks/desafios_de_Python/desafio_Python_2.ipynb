{
  "nbformat": 4,
  "nbformat_minor": 0,
  "metadata": {
    "colab": {
      "name": "desafio_Python_2.ipynb",
      "provenance": [],
      "authorship_tag": "ABX9TyOi72mnBRSbtxSEN7go9FcV",
      "include_colab_link": true
    },
    "kernelspec": {
      "name": "python3",
      "display_name": "Python 3"
    },
    "language_info": {
      "name": "python"
    }
  },
  "cells": [
    {
      "cell_type": "markdown",
      "metadata": {
        "id": "view-in-github",
        "colab_type": "text"
      },
      "source": [
        "<a href=\"https://colab.research.google.com/github/Vinicius-L-R-Matos/Portifolio-DS/blob/master/_notebooks/desafios_de_Python/desafio_Python_2.ipynb\" target=\"_parent\"><img src=\"https://colab.research.google.com/assets/colab-badge.svg\" alt=\"Open In Colab\"/></a>"
      ]
    },
    {
      "cell_type": "code",
      "metadata": {
        "colab": {
          "base_uri": "https://localhost:8080/",
          "height": 52
        },
        "id": "kPFMaLW6Illq",
        "outputId": "56b1e5ec-08a8-45b7-a677-7776588d7046"
      },
      "source": [
        "\n",
        "\"\"\"Desafio 2\n",
        "Escreva uma função que receba um número inteiro de horas e converta esse número para segundos.\n",
        "\n",
        "Exemplo:\n",
        "\n",
        "convert(5) ➞ 18000\n",
        "\n",
        "convert(3) ➞ 10800\n",
        "\n",
        "convert(2) ➞ 7200\"\"\""
      ],
      "execution_count": 1,
      "outputs": [
        {
          "output_type": "execute_result",
          "data": {
            "application/vnd.google.colaboratory.intrinsic+json": {
              "type": "string"
            },
            "text/plain": [
              "'Desafio 2\\nEscreva uma função que receba um número inteiro de horas e converta esse número para segundos.\\n\\nExemplo:\\n\\nconvert(5) ➞ 18000\\n\\nconvert(3) ➞ 10800\\n\\nconvert(2) ➞ 7200'"
            ]
          },
          "metadata": {},
          "execution_count": 1
        }
      ]
    },
    {
      "cell_type": "code",
      "metadata": {
        "id": "OkvKwuPBIvrG"
      },
      "source": [
        "def convert_to_sec(number):\n",
        "    pass # Seu código\n",
        "    "
      ],
      "execution_count": null,
      "outputs": []
    },
    {
      "cell_type": "code",
      "metadata": {
        "colab": {
          "base_uri": "https://localhost:8080/"
        },
        "id": "YRlNKXnVJF8J",
        "outputId": "04766698-7b63-4eae-fcd9-d11cceb96621"
      },
      "source": [
        "number = 7\n",
        "\n",
        "def convert_to_sec(number):\n",
        "  s = number * 60 * 60\n",
        "  return s\n",
        "\n",
        "print(convert_to_sec(number))\n"
      ],
      "execution_count": 18,
      "outputs": [
        {
          "output_type": "stream",
          "name": "stdout",
          "text": [
            "25200\n"
          ]
        }
      ]
    }
  ]
}
