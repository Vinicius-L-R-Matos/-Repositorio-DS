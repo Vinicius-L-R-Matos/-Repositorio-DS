{
  "nbformat": 4,
  "nbformat_minor": 0,
  "metadata": {
    "colab": {
      "name": "desafio_Python_6.ipynb",
      "provenance": [],
      "authorship_tag": "ABX9TyNaE9nlj3AP2wAIPwKgR0d5",
      "include_colab_link": true
    },
    "kernelspec": {
      "name": "python3",
      "display_name": "Python 3"
    },
    "language_info": {
      "name": "python"
    }
  },
  "cells": [
    {
      "cell_type": "markdown",
      "metadata": {
        "id": "view-in-github",
        "colab_type": "text"
      },
      "source": [
        "<a href=\"https://colab.research.google.com/github/Vinicius-L-R-Matos/-Repositorio-DS/blob/master/_notebooks/desafios_de_Python/desafio_Python_6.ipynb\" target=\"_parent\"><img src=\"https://colab.research.google.com/assets/colab-badge.svg\" alt=\"Open In Colab\"/></a>"
      ]
    },
    {
      "cell_type": "markdown",
      "metadata": {
        "id": "H2XV_T2N4ttd"
      },
      "source": [
        "# Desafio 6\n",
        "Crie uma função que receba duas listas e retorne uma lista que contenha apenas os elementos comuns entre as listas (sem repetição). A função deve suportar lista de tamanhos diferentes.\n",
        "\n",
        "Listas"
      ]
    },
    {
      "cell_type": "code",
      "metadata": {
        "id": "Q4cOSyt74od8"
      },
      "source": [
        "a = [1, 1, 2, 3, 5, 8, 13, 21, 34, 55, 89]\n",
        "b = [1, 2, 3, 4, 5, 6, 7, 8, 9, 10, 11, 12, 13]"
      ],
      "execution_count": null,
      "outputs": []
    },
    {
      "cell_type": "code",
      "metadata": {
        "colab": {
          "base_uri": "https://localhost:8080/"
        },
        "id": "chfmC0S0WFaj",
        "outputId": "6abc159e-89ce-408f-f7f9-6a078c7189f1"
      },
      "source": [
        "# solução mais simples\n",
        "i = set(a) & set(b)\n",
        "print(i)"
      ],
      "execution_count": null,
      "outputs": [
        {
          "output_type": "stream",
          "name": "stdout",
          "text": [
            "{1, 2, 3, 5, 8, 13}\n"
          ]
        }
      ]
    },
    {
      "cell_type": "markdown",
      "metadata": {
        "id": "VkBuI4aDWWZ3"
      },
      "source": [
        "operadores de join de lista com set.\n",
        "- & = itens comuns\n",
        "- | = itens exclussivos\n",
        "- ^ = só tem 1a\n",
        "- - = só na 2a"
      ]
    },
    {
      "cell_type": "code",
      "metadata": {
        "colab": {
          "base_uri": "https://localhost:8080/"
        },
        "id": "5TAuXq6z4zL-",
        "outputId": "3c8a4e10-d79d-4f41-9686-84bf247cd56a"
      },
      "source": [
        "# solução mais completa\n",
        "comuns = []\n",
        "def uniao(x,y):\n",
        "  if len(y) > len(x):\n",
        "    for i in y:\n",
        "      if i in x:\n",
        "        comuns.append(i)\n",
        "        print(\"append: \",i)\n",
        "        print(comuns)\n",
        "  else:\n",
        "    for i in x:\n",
        "      if i in y:\n",
        "        comuns.append(i)\n",
        "        print(\"append: \",i)\n",
        "        print(comuns)\n",
        "\n",
        "uniao(a,b)\n",
        "\n",
        "print(\"argumentos comuns: \", comuns)"
      ],
      "execution_count": null,
      "outputs": [
        {
          "output_type": "stream",
          "name": "stdout",
          "text": [
            "append:  1\n",
            "[1]\n",
            "append:  2\n",
            "[1, 2]\n",
            "append:  3\n",
            "[1, 2, 3]\n",
            "append:  5\n",
            "[1, 2, 3, 5]\n",
            "append:  8\n",
            "[1, 2, 3, 5, 8]\n",
            "append:  13\n",
            "[1, 2, 3, 5, 8, 13]\n",
            "argumentos comuns:  [1, 2, 3, 5, 8, 13]\n"
          ]
        }
      ]
    },
    {
      "cell_type": "code",
      "metadata": {
        "colab": {
          "base_uri": "https://localhost:8080/"
        },
        "id": "UoF7KbCnXoCh",
        "outputId": "93b18678-db04-4792-fe02-3ee30cb46082"
      },
      "source": [
        "# comando linear, restringido, encapsulado, simple if\n",
        "c = [x for x in b if x in a]\n",
        "print(c)"
      ],
      "execution_count": null,
      "outputs": [
        {
          "output_type": "stream",
          "name": "stdout",
          "text": [
            "[1, 2, 3, 5, 8, 13]\n"
          ]
        }
      ]
    },
    {
      "cell_type": "code",
      "metadata": {
        "colab": {
          "base_uri": "https://localhost:8080/"
        },
        "id": "zlkH1fW1f0qL",
        "outputId": "5fafaac6-9f35-40bb-993e-745f7fa3528f"
      },
      "source": [
        "# de modo a funcionar, não importanto qual lista é maior\n",
        "f = [x for x in b if x in a and x in b]\n",
        "\n",
        "print(set(f))"
      ],
      "execution_count": null,
      "outputs": [
        {
          "output_type": "stream",
          "name": "stdout",
          "text": [
            "{1, 2, 3, 5, 8, 13}\n"
          ]
        }
      ]
    }
  ]
}