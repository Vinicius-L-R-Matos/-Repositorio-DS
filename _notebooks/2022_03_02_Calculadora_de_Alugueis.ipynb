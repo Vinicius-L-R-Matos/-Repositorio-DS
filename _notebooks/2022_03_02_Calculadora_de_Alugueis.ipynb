{
  "nbformat": 4,
  "nbformat_minor": 0,
  "metadata": {
    "colab": {
      "name": "Calculadora de Alugueis.ipynb",
      "provenance": [],
      "include_colab_link": true
    },
    "kernelspec": {
      "name": "python3",
      "display_name": "Python 3"
    },
    "language_info": {
      "name": "python"
    }
  },
  "cells": [
    {
      "cell_type": "markdown",
      "metadata": {
        "id": "view-in-github",
        "colab_type": "text"
      },
      "source": [
        "<a href=\"https://colab.research.google.com/github/Vinicius-L-R-Matos/-Repositorio-DS/blob/master/_notebooks/2022_03_02_Calculadora_de_Alugueis.ipynb\" target=\"_parent\"><img src=\"https://colab.research.google.com/assets/colab-badge.svg\" alt=\"Open In Colab\"/></a>"
      ]
    },
    {
      "cell_type": "markdown",
      "source": [
        "#Calculadora de Alugueis\n",
        "\n",
        "> \"Da coleta até a aplicação: Um estudo de caso\"\n",
        "\n",
        "- toc: false\n",
        "- branch: master\n",
        "- badges: true\n",
        "- comments: false\n",
        "- categories: [fastpages, jupyter, Data exploration]\n",
        "- hide: false\n",
        "- author: Vinicius Matos\n",
        "\n",
        "---"
      ],
      "metadata": {
        "id": "I-7Nt1Hi0A4q"
      }
    },
    {
      "cell_type": "markdown",
      "source": [
        "##Introdução\n",
        "\n",
        "Existe uma lenda que corre entre os matemáticos desde o século 13. \n",
        "Ela que chegou à nossa língua por meio do livro: O Homem que Calculava, de 1937.\n",
        "\n",
        "O autor é: Malba Tahan, um pseudônimo do engenheiro carioca: Júlio Cesar de Mello e Souza (1895-1974).\n",
        "\n",
        "Conta-se que o rei da província de Telengana, no sul da Índia, não estava bem. Tinha acabado de perder um filho no campo de batalha e agora passava seus dias remoendo a tristeza.\n",
        "\n",
        "As notícias sobre a depressão do monarca espalharam-se pelo reino. Um jovem, então, foi ao palácio e pediu uma audiência. \n",
        "\n",
        "Dizia ser Lahur Sessa e que acabara de Invententar um jogo, que poderia trazer novas alegrias ao rei. \n",
        "\n",
        "Ele trazia um tabuleiro quadrado, dividido em 64 casas. Mais 32 peças, representando soldados, cavalaria, torres de defesa. Ente outros. Era um protótipode 'Chaturanga' (Que deu origem ao nosso atual 'Xadrez'). \n",
        "\n",
        "Ele então viu, jogou e adorou. Ficou tão contente que ofereceu o que ele quisesse como recompensa: ouro, terras ou um palácio. Deu sua palavra. Não importando a quantidade. \n",
        "\n",
        "O jovem disse que não lhe interessava nenhum desses luxos. Bastavam-lhe grãos de trigo. \n",
        "\n",
        "O soberano riu com soberba e logo aceitou. Foi então que o inventor revelou:\n",
        "Que deveria preencher cada casa do tabuleiro com o dobro da quantidade de grãos da anteriormente preenchida, até que todas as 64 estivessem completas.\n",
        "\n",
        "Então, assim se seguiu:\n",
        "- Casa 1ª, 1 grão de trigo;\n",
        "- Casa 2ª, 2 grãos de trigo;\n",
        "- Casa 3ª, 4 grãos de trigo;\n",
        "- Casa 4ª, 8 grãos de trigo;\n",
        "- ...\n",
        "- Casa 9ª, 512 grãos;\n",
        "- ...\n",
        "- Casa 18ª, 262 mil;\n",
        "- ...\n",
        "- Casa 27ª, 134 milhões;\n",
        "- ...\n",
        "- Casa 33ª, 8,5 bilhões;\n",
        "- ...\n",
        "\n",
        "No quadrado final, a Casa 64ª, fechava-se a conta: \n",
        "18.446.744.073.709.551.615 grãos de trigo.\n",
        "18 sextilhões. Podemos arredondar para o número 18 seguido de 21 'zeros'.\n",
        "\n",
        "Para dar uma ideia do que esse número significa: Estima-se hoje que o número de grãos de areia na Terra seja de 18 quintilhões.  Ou 18 seguido de 18 'zeros'.\n",
        "\n",
        "Sem perceber, o monarcarca arcou com uma dívida infundada. Impossível de ser paga. Pois era o equivalente a todos os grãos de areia de mil planetas Terra. \n",
        "\n",
        "Algo mundano como um tabuleiro de 64 casas pode carregar dentro de si um número que, para os nossos cérebros, é indiscernível do infinito.  \n",
        "\n",
        "É uma história que ensina sobre investimento. Sobre atribuir valor. Arcar com escolhas e sobre arrependimento. A somatória das pequenas coisas podendo afetar o todo.\n",
        "\n",
        "Todos querem lucras como o inventor da história.\n",
        "\n",
        "Ninguém quer pagar a soma do monarca.\n",
        "\n"
      ],
      "metadata": {
        "id": "w9yNgOyYF_BI"
      }
    },
    {
      "cell_type": "markdown",
      "source": [
        "## Sobre este notebook\n",
        "\n",
        "Portanto, um tabuleiro que ajudasse a atribuir preços justos, afim de que não mais se vangloriem os inventores ou saiam derrotados os monarcas, poderia ajudar aqueles que buscam obter, negociar ou arrendar seus bens. Entre o cenário todos os tipos possíveis, mais comum: Um imóvel.\n",
        "\n",
        "Seria possível criar uma máquina que me entregue o valor justo, competitivo ou atraente de um imóvel por meio dos dados diponíveis?\n",
        "\n",
        "Para tal, foi desenvolvido este notebook. Ele parte do zero, para um sistema que procesa as informações e entrega a classificação.\n",
        "\n",
        "Ele foi separado em diferentes estágios até sua função plena:\n",
        "\n",
        "1. Raspagem de dados\n",
        "2. Manipulação dos dados\n",
        "3. Modelagem\n",
        "4. Otimização\n",
        "5. Salvando\n",
        "6. Deploy"
      ],
      "metadata": {
        "id": "Mq_zm2SFMaVw"
      }
    },
    {
      "cell_type": "markdown",
      "source": [
        "Abaixo uma lista de todos os módulos usados para este projeto:"
      ],
      "metadata": {
        "id": "4CMxqIwsZ9qd"
      }
    },
    {
      "cell_type": "code",
      "source": [
        "# requirements\n",
        "\"\"\"\n",
        "click==8.0.3\n",
        "Flask==2.0.3\n",
        "gunicorn==20.1.0\n",
        "importlib-metadata==4.11.1\n",
        "itsdangerous==2.0.1\n",
        "Jinja2==3.0.3\n",
        "joblib==1.1.0\n",
        "MarkupSafe==2.0.1\n",
        "numpy==1.21.5\n",
        "pandas==1.3.5\n",
        "python-dateutil==2.8.2\n",
        "pytz==2021.3\n",
        "scikit-learn==1.0.2\n",
        "scipy==1.7.3\n",
        "six==1.16.0\n",
        "sklearn==0.0\n",
        "threadpoolctl==3.1.0\n",
        "typing-extensions==4.1.1\n",
        "Werkzeug==2.0.3\n",
        "zipp==3.7.0\n",
        "\"\"\""
      ],
      "metadata": {
        "id": "nSrs7WOp4D_N"
      },
      "execution_count": null,
      "outputs": []
    },
    {
      "cell_type": "markdown",
      "source": [
        "##1.Raspagem de dados"
      ],
      "metadata": {
        "id": "8kyLrVJk0Fst"
      }
    },
    {
      "cell_type": "markdown",
      "source": [
        "Aqui usaremos a biblioteca 'Selenium' para realizar a obtenção dos dados. \n",
        "Por meio disso será possível acessar o site e obter informações contidas em campos do 'html' contidos em sua estrutura, visível nas ferramentas para o desenvolvedor e armazena-los em variáveis que serão usadas mais à frente. "
      ],
      "metadata": {
        "id": "VvpCflB3bHNN"
      }
    },
    {
      "cell_type": "code",
      "source": [
        "# Importando de espera para não sobrecarregar o site a ser acessado:\n",
        "# Importando Pandas:\n",
        "from time import sleep\n",
        "import pandas as pd"
      ],
      "metadata": {
        "id": "je19JVkw0ARy"
      },
      "execution_count": null,
      "outputs": []
    },
    {
      "cell_type": "code",
      "source": [
        "# Importando Selenium:\n",
        "from selenium import webdriver\n",
        "from selenium.webdriver.common.keys import Keys\n",
        "from selenium.webdriver.common.by import By\n",
        "from selenium.webdriver.support.ui import WebDriverWait\n",
        "from selenium.webdriver.support import expected_conditions as EC\n",
        "from selenium.common.exceptions import TimeoutException\n",
        "from selenium.webdriver.chrome.options import Options\n",
        "\n",
        "# Definindo url a ser usada:\n",
        "url = 'https://www.zapimoveis.com.br/aluguel/imoveis/rj+rio-de-janeiro/?gclid=EAIaIQobChMIr87tpubZ9QIVDwuRCh2R_QFZEAAYAyAAEgLqgPD_BwE&utm_referrer=https%3A%2F%2Fwww.google.com%2F'\n",
        "\n",
        "# Entrando na página:\n",
        "driver = webdriver.Chrome(executable_path='chromedriver')\n",
        "driver.get(url)\n",
        "\n",
        "# Esperar o carregamento da página:\n",
        "try:\n",
        "    element = WebDriverWait(driver, 10).until(\n",
        "        EC.presence_of_element_located((By.CLASS_NAME, \"simple-card__price\"))\n",
        "    )\n",
        "except TimeoutException:\n",
        "    print('O carregamento da página demorou muito tempo')"
      ],
      "metadata": {
        "id": "f6UCjMV00MIZ"
      },
      "execution_count": null,
      "outputs": []
    },
    {
      "cell_type": "code",
      "source": [
        "# pegar a lista de cards:\n",
        "cards = driver.find_elements_by_class_name('card-container')\n",
        "\n",
        "# criar um dataframe:\n",
        "df = pd.DataFrame(columns=[\n",
        "    'preco', \n",
        "    'condominio', \n",
        "    'endereço', \n",
        "    'area', \n",
        "    'quartos',\n",
        "    'vagas', \n",
        "    'banheiros'\n",
        "    ]\n",
        ")\n",
        "    "
      ],
      "metadata": {
        "id": "wkgJ87EF0QMf"
      },
      "execution_count": null,
      "outputs": []
    },
    {
      "cell_type": "code",
      "source": [
        "# criar um dataframe:\n",
        "df = pd.DataFrame(columns=[\n",
        "    'preco', \n",
        "    'condominio', \n",
        "    'endereço', \n",
        "    'area', \n",
        "    'quartos',\n",
        "    'vagas', \n",
        "    'banheiros'\n",
        "    ]\n",
        ")"
      ],
      "metadata": {
        "id": "v82G-sat0VuH"
      },
      "execution_count": null,
      "outputs": []
    },
    {
      "cell_type": "code",
      "source": [
        "len_df = len(df)\n",
        "i = 0\n",
        "while len_df < 10000:\n",
        "    # scroll down:\n",
        "    driver.execute_script(\"window.scrollTo(0, document.body.scrollHeight);\")\n",
        "    sleep(1)\n",
        "    driver.execute_script(\"window.scrollTo(0, document.body.scrollHeight);\")\n",
        "    sleep(1)\n",
        "    driver.execute_script(\"window.scrollTo(0, document.body.scrollHeight);\")\n",
        "    # pegar a lista de cards:\n",
        "    cards = driver.find_elements_by_class_name('card-container')\n",
        "\n",
        "    for card in cards:\n",
        "        # search for itemprop=\"floorSize\" in card[1]:\n",
        "        try:\n",
        "            floor_size = card.find_elements_by_class_name('js-areas')[0].text\n",
        "        except:\n",
        "            break\n",
        "        try:\n",
        "            bedrooms = card.find_elements_by_class_name('js-bedrooms')[0].text\n",
        "        except Exception:\n",
        "            bedrooms = 0\n",
        "        try:\n",
        "            parking_spaces = card.find_elements_by_class_name('js-parking-spaces')[0].text\n",
        "        except Exception:\n",
        "            parking_spaces = 0\n",
        "        try:\n",
        "            bathrooms = card.find_elements_by_class_name('js-bathrooms')[0].text\n",
        "        except Exception:\n",
        "            bathrooms = 0\n",
        "        price = card.find_element_by_class_name('simple-card__price').text\n",
        "        try:\n",
        "            condominio = card.find_element_by_class_name('card-price__value').text\n",
        "        except Exception:\n",
        "            condominio = 0\n",
        "       \n",
        "        address = card.find_element_by_class_name('simple-card__address').text\n",
        "\n",
        "        # print('price:', price, 'condominio:', condominio, 'address:', address)\n",
        "\n",
        "        # print('floor_size:', floor_size, 'bedrooms:', bedrooms, 'parking_spaces:', parking_spaces, 'bathrooms:', bathrooms)\n",
        "        \n",
        "        # adicionar os dados ao dataframe:\n",
        "        df = df.append({\n",
        "            'preco': price,\n",
        "            'condominio': condominio,\n",
        "            'endereço': address,\n",
        "            'area': floor_size,\n",
        "            'quartos': bedrooms,\n",
        "            'vagas': parking_spaces,\n",
        "            'banheiros': bathrooms\n",
        "        }, ignore_index=True)\n",
        "    len_df = len(df)\n",
        "    print('len_df:', len_df, '/10000')\n",
        "    # display(df)\n",
        "    sleep(3)\n",
        "    # click in button with class pagination__button--next\n",
        "    url = f'https://www.zapimoveis.com.br/aluguel/imoveis/rj+rio-de-janeiro/?pagina={(i+2)}&onde=,Rio%20de%20Janeiro,Rio%20de%20Janeiro,,,,,CITY,BR%3ERio%20de%20Janeiro%3ENULL%3ERio%20de%20Janeiro,-22.906847,-43.172897&transacao=Aluguel&tipo=Im%C3%B3vel%20usado'\n",
        "    driver.get(url)\n",
        "    i += 1\n",
        "    sleep(3)"
      ],
      "metadata": {
        "id": "WJzPAKTK0Yoz"
      },
      "execution_count": null,
      "outputs": []
    },
    {
      "cell_type": "code",
      "source": [
        "# get unique rows:\n",
        "df.drop_duplicates(keep='first', inplace=True)\n",
        "df.to_csv('lista_de_alugueis.csv', index=False)"
      ],
      "metadata": {
        "id": "rYx-TMsC0e1C"
      },
      "execution_count": null,
      "outputs": []
    },
    {
      "cell_type": "markdown",
      "source": [
        "##2. Manipulação dos dados"
      ],
      "metadata": {
        "id": "OhTp2-Q40lT8"
      }
    },
    {
      "cell_type": "code",
      "source": [
        "import pandas as pd\n",
        "\n",
        "df = pd.read_csv('lista_de_alugueis.csv')"
      ],
      "metadata": {
        "id": "z8pmeDvS0xVW"
      },
      "execution_count": null,
      "outputs": []
    },
    {
      "cell_type": "code",
      "source": [
        "df.head(15)"
      ],
      "metadata": {
        "id": "WH0LZeAo00aT"
      },
      "execution_count": null,
      "outputs": []
    },
    {
      "cell_type": "code",
      "source": [
        "# remove all characters except numbers on 'preco', 'condominio' and 'area' columns:\n",
        "df['preco'] = df['preco'].str.replace(r'[^0-9]', '')\n",
        "df['condominio'] = df['condominio'].str.replace(r'[^0-9]', '')\n",
        "df['area'] = df['area'].str.replace(r'[^0-9]', '')\n",
        "\n",
        "df.head(1)"
      ],
      "metadata": {
        "id": "r5VEDl6A03IX"
      },
      "execution_count": null,
      "outputs": []
    },
    {
      "cell_type": "code",
      "source": [
        "df['preco_total'] = pd.to_numeric(df['preco']) + pd.to_numeric(df['condominio'])\n",
        "df.head(5)"
      ],
      "metadata": {
        "id": "20ZhYaI7054r"
      },
      "execution_count": null,
      "outputs": []
    },
    {
      "cell_type": "code",
      "source": [
        "for index, row in df.iterrows():\n",
        "    if ', Rio de Janeiro' in row['endereço']:\n",
        "        df.loc[index, 'endereço'] = row['endereço'].replace(', Rio de Janeiro', '')\n",
        "    else:\n",
        "        df.loc[index, 'endereço'] = row['endereço'].split(',')[1]\n",
        "\n",
        "df.head(5)"
      ],
      "metadata": {
        "id": "75iyNK2307-R"
      },
      "execution_count": null,
      "outputs": []
    },
    {
      "cell_type": "code",
      "source": [
        "# change 'endereco' column to 'bairro':\n",
        "df['bairro'] = df['endereço']\n",
        "df.drop('endereço', axis=1, inplace=True)\n",
        "# remove all ' ' from 'bairro' column:\n",
        "df['bairro'] = df['bairro'].str.replace(' ', '')\n",
        "df.head(1)"
      ],
      "metadata": {
        "id": "MZkVw6aB0-S9"
      },
      "execution_count": null,
      "outputs": []
    },
    {
      "cell_type": "code",
      "source": [
        "# rename preco_total column to 'aluguel':\n",
        "df.rename(columns={'preco_total': 'aluguel'}, inplace=True)\n",
        "\n",
        "df = df[['aluguel', 'bairro', 'area', 'quartos', 'vagas', 'banheiros']]"
      ],
      "metadata": {
        "id": "Fj4N8rFj1Aad"
      },
      "execution_count": null,
      "outputs": []
    },
    {
      "cell_type": "code",
      "source": [
        "# for each bairro create column with the name of bairro and 1 if the row has bairro name, 0 otherwise:\n",
        "dummies = pd.get_dummies(df, columns=['bairro'], drop_first=False, sparse=True)\n",
        "dummies = pd.concat([df['bairro'], dummies], axis=1)\n",
        "dummies"
      ],
      "metadata": {
        "id": "bl_0IIB31EEd"
      },
      "execution_count": null,
      "outputs": []
    },
    {
      "cell_type": "code",
      "source": [
        "# organize columns and save to csv:\n",
        "dummies.to_csv('lista_de_alugueis_processada.csv', index=False)"
      ],
      "metadata": {
        "id": "3g55D7BU1HwG"
      },
      "execution_count": null,
      "outputs": []
    },
    {
      "cell_type": "markdown",
      "source": [
        "##3. Modelagem"
      ],
      "metadata": {
        "id": "FHLll84V1RG2"
      }
    },
    {
      "cell_type": "code",
      "source": [
        "import pandas as pd\n",
        "import numpy as nd\n",
        "import seaborn as sns\n",
        "import matplotlib.pyplot as plt\n",
        "from sklearn.model_selection import train_test_split\n",
        "# import sklearn logistic regression\n",
        "from sklearn.linear_model import LogisticRegression\n",
        "# import sklearn k-nearst neighbors\n",
        "from sklearn.neighbors import KNeighborsClassifier\n",
        "# import sklearn support vector machine\n",
        "from sklearn.svm import SVC\n",
        "# import sklearn naive bayes\n",
        "from sklearn.naive_bayes import GaussianNB\n",
        "# import sklearn decision tree\n",
        "from sklearn.tree import DecisionTreeClassifier\n",
        "# import sklearn random forest\n",
        "from sklearn.ensemble import RandomForestClassifier"
      ],
      "metadata": {
        "id": "2sM7lEj11IvL"
      },
      "execution_count": null,
      "outputs": []
    },
    {
      "cell_type": "code",
      "source": [
        "alugueis = pd.read_csv('lista_de_alugueis_processada.csv')\n",
        "alugueis.head(5)"
      ],
      "metadata": {
        "id": "1LCtj9Ye1ZWH"
      },
      "execution_count": null,
      "outputs": []
    },
    {
      "cell_type": "code",
      "source": [
        "alugueis.shape"
      ],
      "metadata": {
        "id": "v9glgoRM1bqm"
      },
      "execution_count": null,
      "outputs": []
    },
    {
      "cell_type": "code",
      "source": [
        "alugueis.isnull().sum()"
      ],
      "metadata": {
        "id": "hmQ8wLIh1etp"
      },
      "execution_count": null,
      "outputs": []
    },
    {
      "cell_type": "code",
      "source": [
        "def var_summary(x):\n",
        "    return pd.Series([x.count(), x.isnull().sum(), x.sum(), x.mean(), x.median(),  x.std(), x.var(), x.min(), x.dropna().quantile(0.01), x.dropna().quantile(0.05),x.dropna().quantile(0.10),x.dropna().quantile(0.25),x.dropna().quantile(0.50),x.dropna().quantile(0.75), x.dropna().quantile(0.90),x.dropna().quantile(0.95), x.dropna().quantile(0.99),x.max()], \n",
        "                  index=['N', 'NMISS', 'SUM', 'MEAN','MEDIAN', 'STD', 'VAR', 'MIN', 'P1' , 'P5' ,'P10' ,'P25' ,'P50' ,'P75' ,'P90' ,'P95' ,'P99' ,'MAX'])\n",
        "\n",
        "numerical_features = ['aluguel', 'area', 'quartos', 'vagas', 'banheiros']\n",
        "alugueis[numerical_features].apply(lambda x: var_summary(x)).T"
      ],
      "metadata": {
        "id": "gy3lMJLS1hG3"
      },
      "execution_count": null,
      "outputs": []
    },
    {
      "cell_type": "code",
      "source": [
        "alugueis.dtypes"
      ],
      "metadata": {
        "id": "2L_dFqC71k6t"
      },
      "execution_count": null,
      "outputs": []
    },
    {
      "cell_type": "code",
      "source": [
        "# separate categorical and numerical alugueis\n",
        "categorical_features = ['bairro']\n",
        "numerical_features = ['area', 'quartos', 'banheiros', 'vagas', 'aluguel']"
      ],
      "metadata": {
        "id": "Qt_H3XYf1oYP"
      },
      "execution_count": null,
      "outputs": []
    },
    {
      "cell_type": "code",
      "source": [
        "sns.set_style('whitegrid')\n",
        "# plot one histogram for each numerical feature\n",
        "for feature in numerical_features:\n",
        "    sns.distplot(alugueis[feature], hist=False, label=feature)\n",
        "    plt.show()"
      ],
      "metadata": {
        "id": "nD5lE1Ol1rGj"
      },
      "execution_count": null,
      "outputs": []
    },
    {
      "cell_type": "code",
      "source": [
        "# for each categorical_features, find the count of '1's:\n",
        "bairros = []\n",
        "for feature in categorical_features:\n",
        "    bairros.append([feature, alugueis[feature].sum()])\n",
        "\n",
        "# order list by bairros[1] in descending order\n",
        "bairros.sort(key=lambda x: x[1], reverse=True)\n",
        "bairros"
      ],
      "metadata": {
        "id": "oGMnNJYk1xt_"
      },
      "execution_count": null,
      "outputs": []
    },
    {
      "cell_type": "code",
      "source": [
        "avg_rents = alugueis.groupby('bairro').mean().reset_index()[['bairro', 'aluguel']]\n",
        "avg_rents['aluguel'] = [round(r) for r in avg_rents.aluguel]\n",
        "avg_rents.sort_values(by=['aluguel'], ascending=False, inplace=True)\n",
        "\n",
        "# plot boxplot for each bairro\n",
        "sns.barplot(x='bairro', y='aluguel', data=avg_rents.head(15))\n",
        "# rotate x-axis labels\n",
        "plt.xticks(rotation=90)\n",
        "plt.show()"
      ],
      "metadata": {
        "id": "cLKAFG-c1ys3"
      },
      "execution_count": null,
      "outputs": []
    },
    {
      "cell_type": "markdown",
      "source": [
        "Os preço medio em bairros acima como Guadalupe, Pavuna e Santo Cristo se justificam por terem muitos imóveis inteiros em aluguel, como galpões e prédios."
      ],
      "metadata": {
        "id": "pQr8HSci1-GG"
      }
    },
    {
      "cell_type": "code",
      "source": [
        "# correlation matrix\n",
        "corr = alugueis[numerical_features].corr()\n",
        "plt.figure(figsize=(6,6))\n",
        "sns.heatmap(corr, cmap='RdBu_r', annot=True, vmax=1, vmin=-1)\n",
        "plt.show()"
      ],
      "metadata": {
        "id": "7z_fAld_13ZR"
      },
      "execution_count": null,
      "outputs": []
    },
    {
      "cell_type": "markdown",
      "source": [
        "fatores como area, banheiro e vagas aparentam ter um efeito maior no preço do aluguel. Porém sem dúvida o bairro do imóvel também tem um peso.\n",
        "Fiquei curioso em entender como o numero de quartos não se correlaciona com o preço, e irei plotar um gráfico para verificar:"
      ],
      "metadata": {
        "id": "kEdH1EfC2IWp"
      }
    },
    {
      "cell_type": "code",
      "source": [
        "# See linear regression plot for quartos and aluguel:\n",
        "sns.lmplot(x='quartos', y='aluguel', data=alugueis)\n",
        "plt.show()"
      ],
      "metadata": {
        "id": "J2s9VPj22Bxt"
      },
      "execution_count": null,
      "outputs": []
    },
    {
      "cell_type": "markdown",
      "source": [
        "Os galpões parecem de alguma maneira afetar essa variável, penso em remover os imóveis que não possuem nenhum quarto de nossa análise, abaixo considerarei essa opção"
      ],
      "metadata": {
        "id": "VBOUlChu2OGv"
      }
    },
    {
      "cell_type": "code",
      "source": [
        "# remove from alugueis all rows with 0 quartos and apply var summary\n",
        "alugueis_modificada = alugueis[alugueis.quartos != 0]\n",
        "alugueis_modificada[numerical_features].apply(lambda x: var_summary(x)).T"
      ],
      "metadata": {
        "id": "C0-iKFPd2Llh"
      },
      "execution_count": null,
      "outputs": []
    },
    {
      "cell_type": "code",
      "source": [
        "# See linear regression plot for quartos and aluguel:\n",
        "sns.lmplot(x='quartos', y='aluguel', data=alugueis_modificada)\n",
        "plt.show()"
      ],
      "metadata": {
        "id": "E3rN2UDG2UF1"
      },
      "execution_count": null,
      "outputs": []
    },
    {
      "cell_type": "code",
      "source": [
        "# correlation matrix\n",
        "corr = alugueis_modificada[numerical_features].corr()\n",
        "plt.figure(figsize=(6,6))\n",
        "sns.heatmap(corr, cmap='RdBu_r', annot=True, vmax=1, vmin=-1)\n",
        "plt.show()"
      ],
      "metadata": {
        "id": "fzpbvToM2Whm"
      },
      "execution_count": null,
      "outputs": []
    },
    {
      "cell_type": "markdown",
      "source": [
        "Como a matriz de correlação aparenta fazer um pouco mais de sentido, criarei o modelo com base em alugueis_modificada"
      ],
      "metadata": {
        "id": "qQ7lpfNo2an1"
      }
    },
    {
      "cell_type": "code",
      "source": [
        "# separe os dados em treino e teste\n",
        "train_set, test_set = train_test_split(alugueis, test_size=0.2, random_state=1)"
      ],
      "metadata": {
        "id": "xHGjhfuU2XGW"
      },
      "execution_count": null,
      "outputs": []
    },
    {
      "cell_type": "code",
      "source": [
        "features = train_set.drop(['bairro'], axis=1).columns.tolist()\n",
        "\n",
        "# add all models imported above\n",
        "models = [\n",
        "    LogisticRegression(),\n",
        "    KNeighborsClassifier(),\n",
        "    SVC(),\n",
        "    GaussianNB(),\n",
        "    DecisionTreeClassifier(),\n",
        "    RandomForestClassifier()\n",
        "]\n",
        "\n",
        "# create a list of model names\n",
        "model_names = [\n",
        "    'Logistic Regression',\n",
        "    'K-Nearest Neighbors',\n",
        "    'Support Vector Machine',\n",
        "    'Naive Bayes',\n",
        "    'Decision Tree',\n",
        "    'Random Forest'\n",
        "]\n",
        "\n",
        "# create a dataframe to store the results\n",
        "results = pd.DataFrame(columns=['Model', 'Score'])\n",
        "\n",
        "# loop through the models\n",
        "for model, name in zip(models, model_names):\n",
        "    # train the model\n",
        "    model.fit(train_set[features], train_set['aluguel'])\n",
        "    # make predictions\n",
        "    predictions = model.predict(test_set[features])\n",
        "    # calculate the score\n",
        "    score = model.score(test_set[features], test_set['aluguel'])\n",
        "    # store the results\n",
        "    results = results.append({'Model': name, 'Score': score}, ignore_index=True)\n",
        "\n",
        "results"
      ],
      "metadata": {
        "id": "4Ohj-zW02k55"
      },
      "execution_count": null,
      "outputs": []
    },
    {
      "cell_type": "markdown",
      "source": [
        "##4. Otimização"
      ],
      "metadata": {
        "id": "fBjE_B7f2q4i"
      }
    },
    {
      "cell_type": "code",
      "source": [
        "#import gridsearchcv\n",
        "from sklearn.model_selection import GridSearchCV\n",
        "\n",
        "# hyperparameter tuning for decision tree classifier:\n",
        "# create a list of hyperparameters\n",
        "hyperparameters = {\n",
        "    'min_samples_leaf': [1, 2, 4, 8, 16, 32, 64],\n",
        "    'min_samples_split': [2, 5, 10, 15, 20],\n",
        "    'criterion': ['gini', 'entropy'],\n",
        "    'max_features': [None, \"auto\", \"sqrt\", \"log2\"],\n",
        "    'class_weight': [None, 'balanced']\n",
        "\n",
        "}\n",
        "\n",
        "def decision_tree_classifier(hyperparameters):\n",
        "    # create a decision tree classifier\n",
        "    clf = DecisionTreeClassifier()\n",
        "    # create a grid search object\n",
        "    gs = GridSearchCV(clf, hyperparameters, cv=5, n_jobs=-1)\n",
        "    # fit the data\n",
        "    gs.fit(train_set[features], train_set['aluguel'])\n",
        "    # return the grid search object\n",
        "    return gs\n",
        "\n",
        "# get results:\n",
        "gs = decision_tree_classifier(hyperparameters)\n",
        "print('Best Score is ',gs.best_score_)\n",
        "print(gs.best_params_, 'are the params')"
      ],
      "metadata": {
        "id": "xd3CeRBJ2tbS"
      },
      "execution_count": null,
      "outputs": []
    },
    {
      "cell_type": "code",
      "source": [
        "def var_summary(x):\n",
        "    return pd.Series([x.count(), x.isnull().sum(), x.sum(), x.mean(), x.median(),  x.std(), x.var(), x.min(), x.dropna().quantile(0.01), x.dropna().quantile(0.05),x.dropna().quantile(0.10),x.dropna().quantile(0.25),x.dropna().quantile(0.50),x.dropna().quantile(0.75), x.dropna().quantile(0.90),x.dropna().quantile(0.95), x.dropna().quantile(0.99),x.max()], \n",
        "                  index=['N', 'NMISS', 'SUM', 'MEAN','MEDIAN', 'STD', 'VAR', 'MIN', 'P1' , 'P5' ,'P10' ,'P25' ,'P50' ,'P75' ,'P90' ,'P95' ,'P99' ,'MAX'])\n",
        "\n",
        "\n",
        "# see the list of predictions in comparison with the test set\n",
        "predictions = gs.predict(test_set[features])\n",
        "\n",
        "# create a dataframe to compare predictions with 'aluguel'\n",
        "compare = pd.DataFrame(test_set['aluguel'])\n",
        "compare['predictions'] = predictions\n",
        "compare['error'] = compare['aluguel'] - compare['predictions']\n",
        "compare['percent_error'] = ((compare['error'] / compare['aluguel'] ) * 100)\n",
        "compare.apply(lambda x: var_summary(x)).T"
      ],
      "metadata": {
        "id": "kt0-JDDG2wxM"
      },
      "execution_count": null,
      "outputs": []
    },
    {
      "cell_type": "markdown",
      "source": [
        "A media do erro na previsão é de 0,07%, com desvio padrão de 4.5 pontos percentuais, o que sifnifica que em 95% das previsões o valor do aluguel tem uma diferença de menos de 1% para o valor real de um apartamento nas condições apresentadas"
      ],
      "metadata": {
        "id": "00e8R7ZV25os"
      }
    },
    {
      "cell_type": "markdown",
      "source": [
        "##5. Salvando"
      ],
      "metadata": {
        "id": "GKILpwsC3Cpy"
      }
    },
    {
      "cell_type": "code",
      "source": [
        "from sklearn import model_selection, datasets\n",
        "from sklearn.ensemble import RandomForestClassifier\n",
        "from sklearn.externals import joblib\n",
        "from sklearn.model_selection import train_test_split\n",
        "\n",
        "import pickle\n",
        "import pandas as pd"
      ],
      "metadata": {
        "id": "mKLqbNoz3JNe"
      },
      "execution_count": null,
      "outputs": []
    },
    {
      "cell_type": "code",
      "source": [
        "alugueis = pd.read_csv('lista_de_alugueis_processada.csv')\n",
        "alugueis.head(5)"
      ],
      "metadata": {
        "id": "WaaAEfrL3KxC"
      },
      "execution_count": null,
      "outputs": []
    },
    {
      "cell_type": "code",
      "source": [
        "# separe os dados em treino e teste\n",
        "train_set, test_set = train_test_split(alugueis, test_size=0.2, random_state=1)\n",
        "features = train_set.drop(['bairro'], axis=1).columns.tolist()"
      ],
      "metadata": {
        "id": "vDdF6tNN3PTS"
      },
      "execution_count": null,
      "outputs": []
    },
    {
      "cell_type": "code",
      "source": [
        "# save features list t csv\n",
        "features_list = pd.DataFrame(features)\n",
        "features_list.to_csv('features_list.csv', index=False)"
      ],
      "metadata": {
        "id": "X2YjxNDJ3W7n"
      },
      "execution_count": null,
      "outputs": []
    },
    {
      "cell_type": "code",
      "source": [
        "#Precisei diminuir max depth de 28 para 11 para que heroku app tenha menos que 1GB de memória\n",
        "\n",
        "model = RandomForestClassifier(n_estimators=198, min_samples_split=2, min_samples_leaf=1, max_features='sqrt', max_depth=11, bootstrap=True)\n",
        "model.fit(train_set[features].drop(['aluguel'], axis=1), train_set['aluguel'])\n",
        "    \n",
        "filename = \"calculadora-de-aluguel-model.joblib\"\n",
        "\n",
        "joblib.dump(model, filename)"
      ],
      "metadata": {
        "id": "OV6chtxK3XaX"
      },
      "execution_count": null,
      "outputs": []
    },
    {
      "cell_type": "code",
      "source": [
        "# Prevendo o aluguel de 10 imóveis\n",
        "imovel = test_set[ ['bairro'] + features].head(10)\n",
        "imovel"
      ],
      "metadata": {
        "id": "qW2ib-cR3aIa"
      },
      "execution_count": null,
      "outputs": []
    },
    {
      "cell_type": "code",
      "source": [
        "filename = \"calculadora-de-aluguel-model.joblib\"\n",
        "\n",
        "loaded_model = joblib.load(filename)\n",
        "result = loaded_model.predict(test_set[features].drop(['aluguel'], axis=1).head(10))\n",
        "print(result.tolist())"
      ],
      "metadata": {
        "id": "jweLV9d63c9h"
      },
      "execution_count": null,
      "outputs": []
    },
    {
      "cell_type": "markdown",
      "source": [
        "## 6.Deploy"
      ],
      "metadata": {
        "id": "D7IgSebK3wW0"
      }
    },
    {
      "cell_type": "markdown",
      "source": [
        "Abaixo se encontra a solução com o passo a passo para final importada para o formato legivel via [Heroku](https://medium.com/data-hackers/deploy-flask-api-using-heroku-d5c7128481b7).\n",
        "\n",
        "Esta é uma plataforma em nuvem, como o conceito de platform as a service (PaaS) que suporta várias linguagens de programação. Entre elas o Python.\n",
        "\n",
        "Para se contruir um modelo igual, é necessário também o cadastro no [Git](https://git-scm.com/), a fim de realizar o controle de versionamento do seu código. Portanto é necessário antes de implementar o modelo, seguir com sua instalação completamnte."
      ],
      "metadata": {
        "id": "sUot3LEA9Cad"
      }
    },
    {
      "cell_type": "markdown",
      "source": [
        "No terminal do Git, abra a pasta do projeto:\n",
        "\n",
        ">   cd \\users\\desktop\\flask\\{coloque o nome de seu arquivo.py aqui}\n",
        "\n",
        "Em seguida, digite o código abaixo para fazer login no Heroku:\n",
        "\n",
        ">   heroku login\n",
        "\n",
        "Note que depois disso, aparecerá a mensagem abaixo:\n",
        "\n",
        ">   heroku: Press any key to open up the browser to login or q to exit:\n",
        "\n",
        "Pressione qualquer tecla para fazer login, em seguida, ele abrirá uma janela, com o site do Heroku para inserir email e senha. Realize seu login aqui.\n",
        "Feito isso, no terminal, você receberá a mensagem abaixo:\n",
        "\n",
        ">   Opening browser to https://cli-auth.heroku.com/auth/cli/browser/\n",
        ">   b166712b-6219-4430-9f61-2ccef9cdbc83\n",
        ">   Logging in... done\n",
        ">   Logged in as youraccount@gmail.com\n",
        "\n",
        "Agora vamos ativar o ambiente virtual (aqui no caso para Windowns):\n",
        "\n",
        ">   venv\\Scripts\\activate\n",
        "\n",
        "É interessante verificar se todas as bibliotecas necessárias para executar o seu projeto estão instaladas; para isso use o comando abaixo para listar todas elas:\n",
        "\n",
        ">   pip freeze\n",
        "\n",
        "Outro ponto importante é instalar o Gunicorn, ele será usado como nosso servidor WSGI Python:\n",
        "\n",
        ">   pip install gunicorn\n",
        "\n",
        "O Heroku precisa conhecer as dependências do nosso aplicativo para que no momento do deploy crie o ambiente corretamente, utilizei o pip freeze apontando para requirements.txt:\n",
        "\n",
        ">   pip freeze > requirements.txt\n",
        "\n",
        "Agora, criaremos o arquivo Procfile, onde será gravado o comando que o Heroku deve usar para executar nosso aplicativo. Basicamente, o mesmo comando que usaríamos para executar o aplicativo localmente. o mesmo deve permanecer na raiz do projeto.\n",
        "\n",
        ">   echo \"web: gunicorn app:app\" > Procfile\n",
        "\n",
        "Agora vamos criar um repositório no diretório atual usando o comando git init:\n",
        "\n",
        ">   git init\n",
        "\n",
        "Vamos criar um arquivo chamado .gitignore, nele colocaremos todos os arquivos que não queremos que sejam lidos o seu conteúdo, para o nosso cenário colocaremos apenas nosso ambiente virtual “venv”.\n",
        "Vamos adicionar todos os arquivos ao nosso repositório usando git add:\n",
        "\n",
        ">   git add .\n",
        "\n",
        "Agora vamos criar nosso commit inicial:\n",
        "\n",
        ">   git commit -m \"initial commit\"\n",
        "\n",
        "Agora vamos criar nosso aplicativo no Heroku usando o comando heroku apps: create [app name], neste caso, eu chamo meu aplicativo:\n",
        "\n",
        ">   heroku apps:create app name\n",
        "\n",
        "Assim que criada, a mensagem abaixo será impressa:\n",
        "\n",
        ">   Creating ⬢ app name... done\n",
        "https://app name.herokuapp.com/ | https://git.heroku.com/app name.git\n",
        "\n",
        "Observe que a URL do API e do repositório git foi retornada na mensagem acima para onde nosso aplicativo foi enviado.\n",
        "Para o deploy nosso aplicativo, basta enviar as confirmações do repositório local para o repositório heroku, usando o comando git push heroku master:\n",
        "\n",
        ">   git push heroku master\n",
        "\n",
        "Em seguida, aparece uma mensagem abaixo:\n",
        "\n",
        "remote: Verifying deploy... done.\n",
        "To https://git.heroku.com/app name.git\n"
      ],
      "metadata": {
        "id": "2Uvr4v1M-QFW"
      }
    },
    {
      "cell_type": "code",
      "source": [
        "#salvando modelo\n",
        "from sklearn import model_selection, datasets\n",
        "from sklearn.ensemble import RandomForestClassifier\n",
        "from sklearn.externals import joblib\n",
        "from sklearn.model_selection import train_test_split\n",
        "\n",
        "import pickle\n",
        "import pandas as pd\n",
        "\n",
        "alugueis = pd.read_csv('lista_de_alugueis_processada.csv')\n",
        "\n",
        "# separe os dados em treino e teste\n",
        "train_set, test_set = train_test_split(alugueis, test_size=0.2, random_state=1)\n",
        "features = train_set.drop(['bairro'], axis=1).columns.tolist()\n",
        "\n",
        "# save features list t csv\n",
        "features_list = pd.DataFrame(features)\n",
        "features_list.to_csv('features_list.csv', index=False)\n",
        "\n",
        "#Precisei diminuir max depth de 28 para 11 para que heroku app tenha menos que 1GB de memória\n",
        "model = RandomForestClassifier(n_estimators=198, min_samples_split=2, min_samples_leaf=1, max_features='sqrt', max_depth=11, bootstrap=True)\n",
        "model.fit(train_set[features].drop(['aluguel'], axis=1), train_set['aluguel'])\n",
        "    \n",
        "filename = \"calculadora-de-aluguel-model.joblib\"\n",
        "\n",
        "joblib.dump(model, filename)"
      ],
      "metadata": {
        "id": "FfKFlDn_anYm"
      },
      "execution_count": null,
      "outputs": []
    },
    {
      "cell_type": "code",
      "source": [
        "#testando modelo\n",
        "# Prevendo o aluguel de 10 imóveis\n",
        "imovel = test_set[ ['bairro'] + features].head(10)\n",
        "imovel\n",
        "\n",
        "filename = \"calculadora-de-aluguel-model.joblib\"\n",
        "\n",
        "loaded_model = joblib.load(filename)\n",
        "result = loaded_model.predict(test_set[features].drop(['aluguel'], axis=1).head(10))\n",
        "print(result.tolist())"
      ],
      "metadata": {
        "id": "bMx-B_NDbEvx"
      },
      "execution_count": null,
      "outputs": []
    },
    {
      "cell_type": "code",
      "source": [
        "#app calculadora.py\n",
        "from curses import pair_content\n",
        "from flask import Flask, render_template, request\n",
        "import pandas as pd\n",
        "from sklearn.externals import joblib\n",
        "import sys\n",
        "\n",
        "\n",
        "app = Flask(__name__)\n",
        "\n",
        "@app.route('/')\n",
        "def index():\n",
        "    return render_template('calculadora-front-end.html')\n",
        "\n",
        "@app.route('/calcular', methods=['POST'])\n",
        "def calcular():\n",
        "    area = request.form['area']\n",
        "    bairro = request.form['bairro']\n",
        "    quartos = request.form['quartos']\n",
        "    vagas = request.form['vagas']\n",
        "    banheiros = request.form['banheiros']\n",
        "    features = pd.read_csv('features_list.csv')['0'].to_list()\n",
        "\n",
        "    payload = pd.DataFrame(columns=features)\n",
        "\n",
        "    # make all the bairro_ values in the payload 0\n",
        "    for feature in features:\n",
        "        if 'bairro_' in feature:\n",
        "            payload.loc[0, f'{feature}'] = 0\n",
        "\n",
        "    payload.loc[0, 'area'] = area\n",
        "    payload.loc[0,'bairro'] = bairro\n",
        "    payload.loc[0,'quartos'] = quartos\n",
        "    payload.loc[0,'vagas'] = vagas\n",
        "    payload.loc[0,'banheiros'] = banheiros\n",
        "    payload.loc[0,f'bairro_{bairro}'] = 1\n",
        "\n",
        "    # passing values to model and getting the prediction\n",
        "    filename = \"calculadora-de-aluguel-model.joblib\"\n",
        "\n",
        "    loaded_model = joblib.load(filename)\n",
        "    result = loaded_model.predict(payload[features].drop(['aluguel'], axis=1).head(10))\n",
        "    \n",
        "    return render_template('aluguel_calculado.html', aluguel=result[0])\n",
        "\n",
        "if __name__ == '__main__':\n",
        "    app.run(debug=True)"
      ],
      "metadata": {
        "id": "jBCOkytc3zmE"
      },
      "execution_count": null,
      "outputs": []
    },
    {
      "cell_type": "code",
      "source": [
        "#template: calculadora-front-end.html\n",
        "\n",
        "<!-- #######  YAY, I AM THE SOURCE EDITOR! #########-->\n",
        "<h1 style=\"color: #5e9ca0;\">Calculadora de Aluguel da cidade do Rio de Janeiro</h1>\n",
        "<h2 style=\"color: #2e6c80;\">Adicione abaixo caracteristicas do apartamento e receba o valor do aluguel!</h2>\n",
        "<!-- Make all text above in the same color pallete: -->\n",
        "<h4 style=\"color: #25405f;\">\n",
        "    <form action=\"{{ url_for('calcular') }}\" method=\"post\">\n",
        "        <p><strong>&Aacute;rea (m<sup>2</sup>):</strong></p>\n",
        "        <p><input name=\"area\" type=\"number\" value='65'/></p>\n",
        "        <p><strong>Quartos:&nbsp;</strong></p>\n",
        "        <p><input name=\"quartos\" type=\"number\" value='2'/></p>\n",
        "        <p><strong>Vagas:&nbsp;</strong></p>\n",
        "        <p><input name=\"vagas\" type=\"number\" value='1'/></p>\n",
        "        <p><strong>Banheiros:&nbsp;</strong></p>\n",
        "        <p><input name=\"banheiros\" type=\"number\" value='1'/></p>\n",
        "        <p><strong>Bairro:&nbsp;</strong></p>\n",
        "        <p><input id=\"bairros\" list=\"bairros-list\" name=\"bairro\" type=\"text\" /></p>\n",
        "            <datalist id=\"bairros-list\">\n",
        "                <option value=\"Abolição\">\n",
        "                <option value=\"Anchieta\">\n",
        "                <option value=\"Andaraí\">\n",
        "                <option value=\"Anil\">\n",
        "                <option value=\"Arpoador\">\n",
        "                <option value=\"Bancários\">\n",
        "                <option value=\"Bangu\">\n",
        "                <option value=\"BarradaTijuca\">\n",
        "                <option value=\"BarrosFilho\">\n",
        "                <option value=\"Benfica\">\n",
        "                <option value=\"BentoRibeiro\">\n",
        "                <option value=\"Bonsucesso\">\n",
        "                <option value=\"Botafogo\">\n",
        "                <option value=\"BrazdePina\">\n",
        "                <option value=\"BrásdePina\">\n",
        "                <option value=\"Cachambi\">\n",
        "                <option value=\"Cacuia\">\n",
        "                <option value=\"Caju\">\n",
        "                <option value=\"Camorim\">\n",
        "                <option value=\"Campinho\">\n",
        "                <option value=\"CampoGrande\">\n",
        "                <option value=\"Cascadura\">\n",
        "                <option value=\"Castelo\">\n",
        "                <option value=\"Catete\">\n",
        "                <option value=\"Catumbi\">\n",
        "                <option value=\"Cavalcânti\">\n",
        "                <option value=\"Centro\">\n",
        "                <option value=\"CidadeNova\">\n",
        "                <option value=\"CoelhoNeto\">\n",
        "                <option value=\"Colégio\">\n",
        "                <option value=\"Copacabana\">\n",
        "                <option value=\"Cordovil\">\n",
        "                <option value=\"CosmeVelho\">\n",
        "                <option value=\"Cosmos\">\n",
        "                <option value=\"Curicica\">\n",
        "                <option value=\"DelCastilho\">\n",
        "                <option value=\"Encantado\">\n",
        "                <option value=\"EngenheiroLeal\">\n",
        "                <option value=\"EngenhoDaRainha\">\n",
        "                <option value=\"EngenhoDeDentro\">\n",
        "                <option value=\"EngenhoNovo\">\n",
        "                <option value=\"Estacio\">\n",
        "                <option value=\"Flamengo\">\n",
        "                <option value=\"Freguesia\">\n",
        "                <option value=\"Freguesia-Jacarepaguá\">\n",
        "                <option value=\"Fátima\">\n",
        "                <option value=\"Gamboa\">\n",
        "                <option value=\"Glória\">\n",
        "                <option value=\"Grajaú\">\n",
        "                <option value=\"Grumari\">\n",
        "                <option value=\"Guadalupe\">\n",
        "                <option value=\"Guaratiba\">\n",
        "                <option value=\"Gávea\">\n",
        "                <option value=\"Higienópolis\">\n",
        "                <option value=\"HonórioGurgel\">\n",
        "                <option value=\"Humaitá\">\n",
        "                <option value=\"IlhadoGovernador\">\n",
        "                <option value=\"Inhaúma\">\n",
        "                <option value=\"Inhoaíba\">\n",
        "                <option value=\"Ipanema\">\n",
        "                <option value=\"Irajá\">\n",
        "                <option value=\"Itanhangá\">\n",
        "                <option value=\"Jacarepaguá\">\n",
        "                <option value=\"Jacaré\">\n",
        "                <option value=\"JardimAmérica\">\n",
        "                <option value=\"JardimBotânico\">\n",
        "                <option value=\"JardimCarioca\">\n",
        "                <option value=\"JardimGuanabara\">\n",
        "                <option value=\"JardimOceanico\">\n",
        "                <option value=\"JardimSulacap\">\n",
        "                <option value=\"Lagoa\">\n",
        "                <option value=\"Lapa\">\n",
        "                <option value=\"Laranjeiras\">\n",
        "                <option value=\"Leblon\">\n",
        "                <option value=\"Leme\">\n",
        "                <option value=\"LinsdeVasconcelos\">\n",
        "                <option value=\"Madureira\">\n",
        "                <option value=\"MagalhãesBastos\">\n",
        "                <option value=\"Manguinhos\">\n",
        "                <option value=\"Maracanã\">\n",
        "                <option value=\"MarechalHermes\">\n",
        "                <option value=\"MariadaGraça\">\n",
        "                <option value=\"Moneró\">\n",
        "                <option value=\"Méier\">\n",
        "                <option value=\"Olaria\">\n",
        "                <option value=\"OswaldoCruz\">\n",
        "                <option value=\"Paciência\">\n",
        "                <option value=\"ParadadeLucas\">\n",
        "                <option value=\"Pavuna\">\n",
        "                <option value=\"Pechincha\">\n",
        "                <option value=\"Penha\">\n",
        "                <option value=\"PenhaCircular\">\n",
        "                <option value=\"Piedade\">\n",
        "                <option value=\"Pilares\">\n",
        "                <option value=\"Pitangueiras\">\n",
        "                <option value=\"Portuguesa\">\n",
        "                <option value=\"PraiadaBandeira\">\n",
        "                <option value=\"PraçaSeca\">\n",
        "                <option value=\"PraçadaBandeira\">\n",
        "                <option value=\"QuintinoBocaiúva\">\n",
        "                <option value=\"Ramos\">\n",
        "                <option value=\"Realengo\">\n",
        "                <option value=\"RecreioDosBandeirantes\">\n",
        "                <option value=\"Riachuelo\">\n",
        "                <option value=\"Ribeira\">\n",
        "                <option value=\"RicardodeAlbuquerque\">\n",
        "                <option value=\"RioComprido\">\n",
        "                <option value=\"Rocha\">\n",
        "                <option value=\"RochaMiranda\">\n",
        "                <option value=\"Sampaio\">\n",
        "                <option value=\"SantaCruz\">\n",
        "                <option value=\"SantaTeresa\">\n",
        "                <option value=\"SantoCristo\">\n",
        "                <option value=\"Santíssimo\">\n",
        "                <option value=\"Saúde\">\n",
        "                <option value=\"SenadorCamará\">\n",
        "                <option value=\"SenadorVasconcelos\">\n",
        "                <option value=\"Sepetiba\">\n",
        "                <option value=\"SãoConrado\">\n",
        "                <option value=\"SãoCristóvão\">\n",
        "                <option value=\"SãoFranciscoXavier\">\n",
        "                <option value=\"Tanque\">\n",
        "                <option value=\"Taquara\">\n",
        "                <option value=\"Tauá\">\n",
        "                <option value=\"Tijuca\">\n",
        "                <option value=\"TodososSantos\">\n",
        "                <option value=\"TomásCoelho\">\n",
        "                <option value=\"Turiaçu\">\n",
        "                <option value=\"Urca\">\n",
        "                <option value=\"VargemGrande\">\n",
        "                <option value=\"VargemPequena\">\n",
        "                <option value=\"VicentedeCarvalho\">\n",
        "                <option value=\"Vidigal\">\n",
        "                <option value=\"VigárioGeral\">\n",
        "                <option value=\"VilaIsabel\">\n",
        "                <option value=\"VilaKosmos\">\n",
        "                <option value=\"VilaValqueire\">\n",
        "                <option value=\"ViladaPenha\">\n",
        "                <option value=\"VistaAlegre\">\n",
        "                <option value=\"ÁguaSanta\">\n",
        "            </datalist>\n",
        "    <!--- Adicione botão de calcular, que envia dados acima inseridos para back-end.py -->\n",
        "        <input type=\"submit\" value=\"Calcular\">\n",
        "\n",
        "    </form>\n",
        "</h3>\n",
        "</body>\n",
        "</html>"
      ],
      "metadata": {
        "id": "fB1ivocebzYh"
      },
      "execution_count": null,
      "outputs": []
    },
    {
      "cell_type": "code",
      "source": [
        "#template: aluguel_calculado.html\n",
        "\n",
        "<!-- set tittle \"Aluguel Calculado\" -->\n",
        "<h1 style=\"color: #5e9ca0;\">Calculadora de Aluguel da cidade do Rio de Janeiro</h1>\n",
        "<!-- Add the value of aluguel who it is in aluguel variable: -->\n",
        "<h2 style=\"color: #2e6c80;\">Valor do Aluguel: R$ {{ aluguel }},00</h2>\n",
        "<!-- Add back button: -->\n",
        "<p><a href=\"{{ url_for('index') }}\">Voltar</a></p>"
      ],
      "metadata": {
        "id": "Ze8Nhm-ab7o_"
      },
      "execution_count": null,
      "outputs": []
    },
    {
      "cell_type": "markdown",
      "source": [
        "Portanto, segue aqui o resultado final do projeto:\n",
        "Um aplicativo web que reindeniza o modelo dentro dos parâmetros solicitados.\n",
        "\n",
        "[Calculadora pronta](https://calculadora-de-alugueis-awari.herokuapp.com/)"
      ],
      "metadata": {
        "id": "2eVFLzH4dB7r"
      }
    },
    {
      "cell_type": "markdown",
      "source": [
        "# Conclusão\n",
        "\n",
        "-   O escalonar de um modelo pode ser feito por via de deploy externo, fazendo uso das bibliotecas não nativas do Python;\n",
        "-   O tamanho da máquina é limitado ao processamento, por isso tamanhos de amostras podem ser testados a fim de descobrir qual seria o mais viável; \n",
        "-   Existem ainda diferentes modelos de deploy a serem explorados, cada um com suas particularidades de desempenho e custo. Cada qual ainda também pode-se também implementar deploy;"
      ],
      "metadata": {
        "id": "1pGBpL37eHxm"
      }
    }
  ]
}