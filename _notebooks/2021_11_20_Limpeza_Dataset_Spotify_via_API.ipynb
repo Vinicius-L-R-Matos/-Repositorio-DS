{
  "nbformat": 4,
  "nbformat_minor": 0,
  "metadata": {
    "colab": {
      "name": "Limpeza Dataset Spotify via API.ipynb",
      "provenance": [],
      "collapsed_sections": [
        "ykkkg9rJaQh-",
        "af4Kama4eV98",
        "ZvnAxivShr5u"
      ],
      "include_colab_link": true
    },
    "kernelspec": {
      "display_name": "Python 3",
      "name": "python3"
    },
    "language_info": {
      "name": "python"
    }
  },
  "cells": [
    {
      "cell_type": "markdown",
      "metadata": {
        "id": "view-in-github",
        "colab_type": "text"
      },
      "source": [
        "<a href=\"https://colab.research.google.com/github/Vinicius-L-R-Matos/-Repositorio-DS/blob/master/_notebooks/2021_11_20_Limpeza_Dataset_Spotify_via_API.ipynb\" target=\"_parent\"><img src=\"https://colab.research.google.com/assets/colab-badge.svg\" alt=\"Open In Colab\"/></a>"
      ]
    },
    {
      "cell_type": "markdown",
      "metadata": {
        "id": "zwcBrzo6iiEm"
      },
      "source": [
        "# Limpeza Dataset Spotify via API\n",
        "> \"Estruturando dados obtidos\"\n",
        "\n",
        "Hoje iremos explorar e realizar a limpeza de um dataset do Spotify disponivel em :\n",
        "[Dataset Spotify](\n",
        "https://www.kaggle.com/vitoriarodrigues/spotifycsv-file-modified-for-data-cleaning)\n",
        "\n",
        "Temos um conjunto de dados de músicas de 2017 com atributos da API do Spotify. Cada música possui a flag \"1\", o que significa que tiveram like , e \"0\" para as músicas que tiveram dislike.\n",
        "\n",
        "Este dataset é disponibilizado para uma futura clusterização a partir dos principais atributos das músicas\n",
        "\n",
        "Ele possui 13 atributos de cada música: acousticness, danceability, durationms, energy, instrumentalness, key, liveness, loudness, mode, speechiness, tempo, timesignature, valence\n",
        "\n",
        "Informações sobre o que essas características significam podem ser encontradas aqui: [API SPOTIFY](https://developer.spotify.com/web-api/get-audio-features/)\n",
        "\n",
        "Rota para API: [Rota Track](https://developer.spotify.com/documentation/web-api/reference/#/operations/get-several-audio-features)\n",
        "\n",
        "Como cada API necessita de acesso e permissões específicos, para efeitos de estudos, vou usar o Kaggle. Ele se encontra propositdamente com dados faltantes, devido ao desafio do site."
      ]
    },
    {
      "cell_type": "markdown",
      "metadata": {
        "id": "awY79iIsFXmw"
      },
      "source": [
        "# Pré requisitos:"
      ]
    },
    {
      "cell_type": "markdown",
      "metadata": {
        "id": "ktfKpzMfFYyP"
      },
      "source": [
        "O resultado fica bem fiel. Para usar, necessita de:\n",
        "\n",
        "- Notebook do Colab aberto\n",
        "- Noções de Python\n",
        "- Conexão com a interet\n",
        "- Url da API que deseja usar"
      ]
    },
    {
      "cell_type": "markdown",
      "metadata": {
        "id": "1xa0sge0FiyV"
      },
      "source": [
        "# 1 - Importando as bibliotecas:"
      ]
    },
    {
      "cell_type": "markdown",
      "metadata": {
        "id": "t33beLGVFk8A"
      },
      "source": [
        "Duas blibliotecas são necessárias aqui. Pandas e Numpy."
      ]
    },
    {
      "cell_type": "code",
      "metadata": {
        "id": "KZKA6J_UQDAk"
      },
      "source": [
        "# Importação de Bibliotecas necessárias\n",
        "import pandas as pd\n",
        "import numpy as np"
      ],
      "execution_count": 1,
      "outputs": []
    },
    {
      "cell_type": "markdown",
      "metadata": {
        "id": "ApYdiafcFoot"
      },
      "source": [
        "Aqui eu abri o csv obtido no Kaggle e rankeio de acordo com a popularidade das músicas."
      ]
    },
    {
      "cell_type": "code",
      "metadata": {
        "id": "yC56UUMeQKVR",
        "colab": {
          "base_uri": "https://localhost:8080/",
          "height": 313
        },
        "outputId": "8e759820-bac7-4ca6-82e7-df69937b161c"
      },
      "source": [
        "# Vamos ordernar os dados pela popularidade da música\n",
        "df = pd.read_csv('spotify.csv', index_col=0)\n",
        "df.sort_values('song_popularity', ascending=False, inplace=True)\n",
        "df.head(5)"
      ],
      "execution_count": 4,
      "outputs": [
        {
          "output_type": "execute_result",
          "data": {
            "text/html": [
              "<div>\n",
              "<style scoped>\n",
              "    .dataframe tbody tr th:only-of-type {\n",
              "        vertical-align: middle;\n",
              "    }\n",
              "\n",
              "    .dataframe tbody tr th {\n",
              "        vertical-align: top;\n",
              "    }\n",
              "\n",
              "    .dataframe thead th {\n",
              "        text-align: right;\n",
              "    }\n",
              "</style>\n",
              "<table border=\"1\" class=\"dataframe\">\n",
              "  <thead>\n",
              "    <tr style=\"text-align: right;\">\n",
              "      <th></th>\n",
              "      <th>song_name</th>\n",
              "      <th>song_popularity</th>\n",
              "      <th>song_duration_ms</th>\n",
              "      <th>acousticness</th>\n",
              "      <th>danceability</th>\n",
              "      <th>energy</th>\n",
              "      <th>instrumentalness</th>\n",
              "      <th>key</th>\n",
              "      <th>liveness</th>\n",
              "      <th>loudness</th>\n",
              "      <th>audio_mode</th>\n",
              "      <th>speechiness</th>\n",
              "      <th>tempo</th>\n",
              "      <th>time_signature</th>\n",
              "      <th>audio_valence</th>\n",
              "    </tr>\n",
              "  </thead>\n",
              "  <tbody>\n",
              "    <tr>\n",
              "      <th>1757</th>\n",
              "      <td>Party In The U.S.A.</td>\n",
              "      <td>nao_sei</td>\n",
              "      <td>0.8220000000000001kg</td>\n",
              "      <td>0.519mol/L</td>\n",
              "      <td>0.36</td>\n",
              "      <td>0.0</td>\n",
              "      <td>10</td>\n",
              "      <td>0.177</td>\n",
              "      <td>-8.575</td>\n",
              "      <td>0</td>\n",
              "      <td>0.105</td>\n",
              "      <td>97.42</td>\n",
              "      <td>4</td>\n",
              "      <td>0.7</td>\n",
              "      <td>NaN</td>\n",
              "    </tr>\n",
              "    <tr>\n",
              "      <th>7574</th>\n",
              "      <td>I Love It (&amp; Lil Pump)</td>\n",
              "      <td>99</td>\n",
              "      <td>127946</td>\n",
              "      <td>0.0114kg</td>\n",
              "      <td>0.901mol/L</td>\n",
              "      <td>0.522</td>\n",
              "      <td>0.0</td>\n",
              "      <td>2.000</td>\n",
              "      <td>0.259</td>\n",
              "      <td>-8.304</td>\n",
              "      <td>1</td>\n",
              "      <td>0.33</td>\n",
              "      <td>104.053</td>\n",
              "      <td>4</td>\n",
              "      <td>0.329</td>\n",
              "    </tr>\n",
              "    <tr>\n",
              "      <th>11777</th>\n",
              "      <td>I Love It (&amp; Lil Pump)</td>\n",
              "      <td>99</td>\n",
              "      <td>127946</td>\n",
              "      <td>0.0114kg</td>\n",
              "      <td>0.901mol/L</td>\n",
              "      <td>0.522</td>\n",
              "      <td>0.0</td>\n",
              "      <td>2.000</td>\n",
              "      <td>0.259</td>\n",
              "      <td>-8.304</td>\n",
              "      <td>1</td>\n",
              "      <td>0.33</td>\n",
              "      <td>104.053</td>\n",
              "      <td>4</td>\n",
              "      <td>0.329</td>\n",
              "    </tr>\n",
              "    <tr>\n",
              "      <th>4301</th>\n",
              "      <td>I Love It (&amp; Lil Pump)</td>\n",
              "      <td>99</td>\n",
              "      <td>127946</td>\n",
              "      <td>0.0114kg</td>\n",
              "      <td>0.901mol/L</td>\n",
              "      <td>0.522</td>\n",
              "      <td>0.0</td>\n",
              "      <td>2.000</td>\n",
              "      <td>0.259</td>\n",
              "      <td>-8.304</td>\n",
              "      <td>1</td>\n",
              "      <td>0.33</td>\n",
              "      <td>104.053</td>\n",
              "      <td>4</td>\n",
              "      <td>0.329</td>\n",
              "    </tr>\n",
              "    <tr>\n",
              "      <th>14444</th>\n",
              "      <td>I Love It (&amp; Lil Pump)</td>\n",
              "      <td>99</td>\n",
              "      <td>127946</td>\n",
              "      <td>0.0114kg</td>\n",
              "      <td>0.901mol/L</td>\n",
              "      <td>0.522</td>\n",
              "      <td>0.0</td>\n",
              "      <td>2.000</td>\n",
              "      <td>0.259</td>\n",
              "      <td>-8.304</td>\n",
              "      <td>1</td>\n",
              "      <td>0.33</td>\n",
              "      <td>104.053</td>\n",
              "      <td>4</td>\n",
              "      <td>0.329</td>\n",
              "    </tr>\n",
              "  </tbody>\n",
              "</table>\n",
              "</div>"
            ],
            "text/plain": [
              "                    song_name song_popularity  ... time_signature audio_valence\n",
              "1757      Party In The U.S.A.         nao_sei  ...            0.7           NaN\n",
              "7574   I Love It (& Lil Pump)              99  ...              4         0.329\n",
              "11777  I Love It (& Lil Pump)              99  ...              4         0.329\n",
              "4301   I Love It (& Lil Pump)              99  ...              4         0.329\n",
              "14444  I Love It (& Lil Pump)              99  ...              4         0.329\n",
              "\n",
              "[5 rows x 15 columns]"
            ]
          },
          "metadata": {},
          "execution_count": 4
        }
      ]
    },
    {
      "cell_type": "markdown",
      "metadata": {
        "id": "kSVMpkqJpTWP"
      },
      "source": [
        "# 2 - Inspeção Dataset:"
      ]
    },
    {
      "cell_type": "code",
      "metadata": {
        "colab": {
          "base_uri": "https://localhost:8080/"
        },
        "id": "DeKh6ytFYtyQ",
        "outputId": "1dbaf046-2994-4ace-cfcb-26571976deec"
      },
      "source": [
        "## Temos no total 18835 linhas e 15 colunas\n",
        "print(df.shape)"
      ],
      "execution_count": 5,
      "outputs": [
        {
          "output_type": "stream",
          "name": "stdout",
          "text": [
            "(18835, 15)\n"
          ]
        }
      ]
    },
    {
      "cell_type": "code",
      "metadata": {
        "colab": {
          "base_uri": "https://localhost:8080/",
          "height": 313
        },
        "id": "9BLZQU6ZQKxQ",
        "outputId": "645f4dd7-d6ef-404f-90b6-a27cb6870675"
      },
      "source": [
        "df.head(5)"
      ],
      "execution_count": 7,
      "outputs": [
        {
          "output_type": "execute_result",
          "data": {
            "text/html": [
              "<div>\n",
              "<style scoped>\n",
              "    .dataframe tbody tr th:only-of-type {\n",
              "        vertical-align: middle;\n",
              "    }\n",
              "\n",
              "    .dataframe tbody tr th {\n",
              "        vertical-align: top;\n",
              "    }\n",
              "\n",
              "    .dataframe thead th {\n",
              "        text-align: right;\n",
              "    }\n",
              "</style>\n",
              "<table border=\"1\" class=\"dataframe\">\n",
              "  <thead>\n",
              "    <tr style=\"text-align: right;\">\n",
              "      <th></th>\n",
              "      <th>song_name</th>\n",
              "      <th>song_popularity</th>\n",
              "      <th>song_duration_ms</th>\n",
              "      <th>acousticness</th>\n",
              "      <th>danceability</th>\n",
              "      <th>energy</th>\n",
              "      <th>instrumentalness</th>\n",
              "      <th>key</th>\n",
              "      <th>liveness</th>\n",
              "      <th>loudness</th>\n",
              "      <th>audio_mode</th>\n",
              "      <th>speechiness</th>\n",
              "      <th>tempo</th>\n",
              "      <th>time_signature</th>\n",
              "      <th>audio_valence</th>\n",
              "    </tr>\n",
              "  </thead>\n",
              "  <tbody>\n",
              "    <tr>\n",
              "      <th>1757</th>\n",
              "      <td>Party In The U.S.A.</td>\n",
              "      <td>nao_sei</td>\n",
              "      <td>0.8220000000000001kg</td>\n",
              "      <td>0.519mol/L</td>\n",
              "      <td>0.36</td>\n",
              "      <td>0.0</td>\n",
              "      <td>10</td>\n",
              "      <td>0.177</td>\n",
              "      <td>-8.575</td>\n",
              "      <td>0</td>\n",
              "      <td>0.105</td>\n",
              "      <td>97.42</td>\n",
              "      <td>4</td>\n",
              "      <td>0.7</td>\n",
              "      <td>NaN</td>\n",
              "    </tr>\n",
              "    <tr>\n",
              "      <th>7574</th>\n",
              "      <td>I Love It (&amp; Lil Pump)</td>\n",
              "      <td>99</td>\n",
              "      <td>127946</td>\n",
              "      <td>0.0114kg</td>\n",
              "      <td>0.901mol/L</td>\n",
              "      <td>0.522</td>\n",
              "      <td>0.0</td>\n",
              "      <td>2.000</td>\n",
              "      <td>0.259</td>\n",
              "      <td>-8.304</td>\n",
              "      <td>1</td>\n",
              "      <td>0.33</td>\n",
              "      <td>104.053</td>\n",
              "      <td>4</td>\n",
              "      <td>0.329</td>\n",
              "    </tr>\n",
              "    <tr>\n",
              "      <th>11777</th>\n",
              "      <td>I Love It (&amp; Lil Pump)</td>\n",
              "      <td>99</td>\n",
              "      <td>127946</td>\n",
              "      <td>0.0114kg</td>\n",
              "      <td>0.901mol/L</td>\n",
              "      <td>0.522</td>\n",
              "      <td>0.0</td>\n",
              "      <td>2.000</td>\n",
              "      <td>0.259</td>\n",
              "      <td>-8.304</td>\n",
              "      <td>1</td>\n",
              "      <td>0.33</td>\n",
              "      <td>104.053</td>\n",
              "      <td>4</td>\n",
              "      <td>0.329</td>\n",
              "    </tr>\n",
              "    <tr>\n",
              "      <th>4301</th>\n",
              "      <td>I Love It (&amp; Lil Pump)</td>\n",
              "      <td>99</td>\n",
              "      <td>127946</td>\n",
              "      <td>0.0114kg</td>\n",
              "      <td>0.901mol/L</td>\n",
              "      <td>0.522</td>\n",
              "      <td>0.0</td>\n",
              "      <td>2.000</td>\n",
              "      <td>0.259</td>\n",
              "      <td>-8.304</td>\n",
              "      <td>1</td>\n",
              "      <td>0.33</td>\n",
              "      <td>104.053</td>\n",
              "      <td>4</td>\n",
              "      <td>0.329</td>\n",
              "    </tr>\n",
              "    <tr>\n",
              "      <th>14444</th>\n",
              "      <td>I Love It (&amp; Lil Pump)</td>\n",
              "      <td>99</td>\n",
              "      <td>127946</td>\n",
              "      <td>0.0114kg</td>\n",
              "      <td>0.901mol/L</td>\n",
              "      <td>0.522</td>\n",
              "      <td>0.0</td>\n",
              "      <td>2.000</td>\n",
              "      <td>0.259</td>\n",
              "      <td>-8.304</td>\n",
              "      <td>1</td>\n",
              "      <td>0.33</td>\n",
              "      <td>104.053</td>\n",
              "      <td>4</td>\n",
              "      <td>0.329</td>\n",
              "    </tr>\n",
              "  </tbody>\n",
              "</table>\n",
              "</div>"
            ],
            "text/plain": [
              "                    song_name song_popularity  ... time_signature audio_valence\n",
              "1757      Party In The U.S.A.         nao_sei  ...            0.7           NaN\n",
              "7574   I Love It (& Lil Pump)              99  ...              4         0.329\n",
              "11777  I Love It (& Lil Pump)              99  ...              4         0.329\n",
              "4301   I Love It (& Lil Pump)              99  ...              4         0.329\n",
              "14444  I Love It (& Lil Pump)              99  ...              4         0.329\n",
              "\n",
              "[5 rows x 15 columns]"
            ]
          },
          "metadata": {},
          "execution_count": 7
        }
      ]
    },
    {
      "cell_type": "code",
      "metadata": {
        "colab": {
          "base_uri": "https://localhost:8080/"
        },
        "id": "8BFCYYsHQLKN",
        "outputId": "aa83d74f-560d-42a2-f05b-c37abcb3dc1e"
      },
      "source": [
        "## O método .info() é muito pratico e retorna a quantidade de dados nulos do DataFrame, número total de entradas e datatypes de cada coluna.\n",
        "## Doc - https://pandas.pydata.org/docs/reference/api/pandas.DataFrame.info.html\n",
        "## Verificando Tipo de Dados e Valores Não Nulos\n",
        "## Inicialmente não possuimos dados nulo\n",
        "df.info()"
      ],
      "execution_count": 6,
      "outputs": [
        {
          "output_type": "stream",
          "name": "stdout",
          "text": [
            "<class 'pandas.core.frame.DataFrame'>\n",
            "Int64Index: 18835 entries, 1757 to 9956\n",
            "Data columns (total 15 columns):\n",
            " #   Column            Non-Null Count  Dtype  \n",
            "---  ------            --------------  -----  \n",
            " 0   song_name         18835 non-null  object \n",
            " 1   song_popularity   18835 non-null  object \n",
            " 2   song_duration_ms  18835 non-null  object \n",
            " 3   acousticness      18835 non-null  object \n",
            " 4   danceability      18835 non-null  object \n",
            " 5   energy            18835 non-null  object \n",
            " 6   instrumentalness  18835 non-null  object \n",
            " 7   key               18835 non-null  float64\n",
            " 8   liveness          18835 non-null  object \n",
            " 9   loudness          18835 non-null  object \n",
            " 10  audio_mode        18835 non-null  object \n",
            " 11  speechiness       18835 non-null  object \n",
            " 12  tempo             18835 non-null  object \n",
            " 13  time_signature    18835 non-null  object \n",
            " 14  audio_valence     18834 non-null  float64\n",
            "dtypes: float64(2), object(13)\n",
            "memory usage: 2.3+ MB\n"
          ]
        }
      ]
    },
    {
      "cell_type": "code",
      "metadata": {
        "colab": {
          "base_uri": "https://localhost:8080/",
          "height": 300
        },
        "id": "dJcLVT1JVC-Z",
        "outputId": "18625f0e-a6c6-43cc-f02f-79b126addef5"
      },
      "source": [
        "## Fornece Informações como contagem, valores dos quartis, média, desvio padrão, máximo e mínimo.\n",
        "## Doc - https://pandas.pydata.org/docs/reference/api/pandas.DataFrame.describe.html?highlight=describe#pandas.DataFrame.describe\n",
        "## Aqui observamos apenas duas colunas pois os formatos das outras esta como Object e assim ele não consegue calcular as agregações necessárias.\n",
        "df.describe()"
      ],
      "execution_count": 8,
      "outputs": [
        {
          "output_type": "execute_result",
          "data": {
            "text/html": [
              "<div>\n",
              "<style scoped>\n",
              "    .dataframe tbody tr th:only-of-type {\n",
              "        vertical-align: middle;\n",
              "    }\n",
              "\n",
              "    .dataframe tbody tr th {\n",
              "        vertical-align: top;\n",
              "    }\n",
              "\n",
              "    .dataframe thead th {\n",
              "        text-align: right;\n",
              "    }\n",
              "</style>\n",
              "<table border=\"1\" class=\"dataframe\">\n",
              "  <thead>\n",
              "    <tr style=\"text-align: right;\">\n",
              "      <th></th>\n",
              "      <th>key</th>\n",
              "      <th>audio_valence</th>\n",
              "    </tr>\n",
              "  </thead>\n",
              "  <tbody>\n",
              "    <tr>\n",
              "      <th>count</th>\n",
              "      <td>18835.000000</td>\n",
              "      <td>18834.000000</td>\n",
              "    </tr>\n",
              "    <tr>\n",
              "      <th>mean</th>\n",
              "      <td>5.288674</td>\n",
              "      <td>0.527958</td>\n",
              "    </tr>\n",
              "    <tr>\n",
              "      <th>std</th>\n",
              "      <td>3.614624</td>\n",
              "      <td>0.244635</td>\n",
              "    </tr>\n",
              "    <tr>\n",
              "      <th>min</th>\n",
              "      <td>0.000000</td>\n",
              "      <td>0.000000</td>\n",
              "    </tr>\n",
              "    <tr>\n",
              "      <th>25%</th>\n",
              "      <td>2.000000</td>\n",
              "      <td>0.335000</td>\n",
              "    </tr>\n",
              "    <tr>\n",
              "      <th>50%</th>\n",
              "      <td>5.000000</td>\n",
              "      <td>0.526500</td>\n",
              "    </tr>\n",
              "    <tr>\n",
              "      <th>75%</th>\n",
              "      <td>8.000000</td>\n",
              "      <td>0.725000</td>\n",
              "    </tr>\n",
              "    <tr>\n",
              "      <th>max</th>\n",
              "      <td>11.000000</td>\n",
              "      <td>0.984000</td>\n",
              "    </tr>\n",
              "  </tbody>\n",
              "</table>\n",
              "</div>"
            ],
            "text/plain": [
              "                key  audio_valence\n",
              "count  18835.000000   18834.000000\n",
              "mean       5.288674       0.527958\n",
              "std        3.614624       0.244635\n",
              "min        0.000000       0.000000\n",
              "25%        2.000000       0.335000\n",
              "50%        5.000000       0.526500\n",
              "75%        8.000000       0.725000\n",
              "max       11.000000       0.984000"
            ]
          },
          "metadata": {},
          "execution_count": 8
        }
      ]
    },
    {
      "cell_type": "markdown",
      "metadata": {
        "id": "pry1Hj-ApcH2"
      },
      "source": [
        "# 3 - Removendo duplicadas:"
      ]
    },
    {
      "cell_type": "code",
      "metadata": {
        "colab": {
          "base_uri": "https://localhost:8080/"
        },
        "id": "C436qa8NVgkv",
        "outputId": "0f2fb7aa-26a0-4376-a29a-cde8ad8bfcac"
      },
      "source": [
        "## Validação de Duplicadas \n",
        "duplicados = df[df.duplicated()]\n",
        "print(duplicados)"
      ],
      "execution_count": 9,
      "outputs": [
        {
          "output_type": "stream",
          "name": "stdout",
          "text": [
            "                               song_name  ... audio_valence\n",
            "11777             I Love It (& Lil Pump)  ...         0.329\n",
            "4301              I Love It (& Lil Pump)  ...         0.329\n",
            "14444             I Love It (& Lil Pump)  ...         0.329\n",
            "1229              I Love It (& Lil Pump)  ...         0.329\n",
            "3443              I Love It (& Lil Pump)  ...         0.329\n",
            "...                                  ...  ...           ...\n",
            "14292  Get Dripped (feat. Playboi Carti)  ...         0.904\n",
            "7273                       John Madden 2  ...         0.409\n",
            "6514                        THIS OLE BOY  ...         0.764\n",
            "14312    Transformer (feat. Nicki Minaj)  ...         0.287\n",
            "7275                     Prince Charming  ...         0.605\n",
            "\n",
            "[3903 rows x 15 columns]\n"
          ]
        }
      ]
    },
    {
      "cell_type": "code",
      "metadata": {
        "colab": {
          "base_uri": "https://localhost:8080/"
        },
        "id": "aIjxS1fKWYmP",
        "outputId": "c12ac3b0-dd38-410e-b3ff-8656f0c2ee80"
      },
      "source": [
        "## Quando necessário podemos utilizar o subset para especificar colunas especificas onde procuraremos duplicadas,\n",
        "## Exemplo de uso em um cenário onde vc pode ter diversos valores iguais mas a combinação que não pode se repetir é em duas chaves especificas.\n",
        "print(df[df.duplicated(subset=['song_name','audio_valence'])])"
      ],
      "execution_count": 10,
      "outputs": [
        {
          "output_type": "stream",
          "name": "stdout",
          "text": [
            "                             song_name  ... audio_valence\n",
            "11777           I Love It (& Lil Pump)  ...        0.3290\n",
            "4301            I Love It (& Lil Pump)  ...        0.3290\n",
            "14444           I Love It (& Lil Pump)  ...        0.3290\n",
            "1229            I Love It (& Lil Pump)  ...        0.3290\n",
            "3443            I Love It (& Lil Pump)  ...        0.3290\n",
            "...                                ...  ...           ...\n",
            "7273                     John Madden 2  ...        0.4090\n",
            "6514                      THIS OLE BOY  ...        0.7640\n",
            "14312  Transformer (feat. Nicki Minaj)  ...        0.2870\n",
            "7275                   Prince Charming  ...        0.6050\n",
            "7939                           99 Pace  ...        0.0689\n",
            "\n",
            "[4161 rows x 15 columns]\n"
          ]
        }
      ]
    },
    {
      "cell_type": "code",
      "metadata": {
        "colab": {
          "base_uri": "https://localhost:8080/",
          "height": 452
        },
        "id": "QuUbHQdKWExP",
        "outputId": "8bb837b4-3e01-4a28-8d34-bf752b1094c7"
      },
      "source": [
        "## Podemos remover estes valores duplicados utilizando o drop_duplicates\n",
        "## Doc - https://pandas.pydata.org/docs/reference/api/pandas.DataFrame.drop_duplicates.html\n",
        "df.drop_duplicates(inplace=True) \n",
        "print(df.shape)\n",
        "df.head(5)"
      ],
      "execution_count": 11,
      "outputs": [
        {
          "output_type": "stream",
          "name": "stdout",
          "text": [
            "(14932, 15)\n"
          ]
        },
        {
          "output_type": "execute_result",
          "data": {
            "text/html": [
              "<div>\n",
              "<style scoped>\n",
              "    .dataframe tbody tr th:only-of-type {\n",
              "        vertical-align: middle;\n",
              "    }\n",
              "\n",
              "    .dataframe tbody tr th {\n",
              "        vertical-align: top;\n",
              "    }\n",
              "\n",
              "    .dataframe thead th {\n",
              "        text-align: right;\n",
              "    }\n",
              "</style>\n",
              "<table border=\"1\" class=\"dataframe\">\n",
              "  <thead>\n",
              "    <tr style=\"text-align: right;\">\n",
              "      <th></th>\n",
              "      <th>song_name</th>\n",
              "      <th>song_popularity</th>\n",
              "      <th>song_duration_ms</th>\n",
              "      <th>acousticness</th>\n",
              "      <th>danceability</th>\n",
              "      <th>energy</th>\n",
              "      <th>instrumentalness</th>\n",
              "      <th>key</th>\n",
              "      <th>liveness</th>\n",
              "      <th>loudness</th>\n",
              "      <th>audio_mode</th>\n",
              "      <th>speechiness</th>\n",
              "      <th>tempo</th>\n",
              "      <th>time_signature</th>\n",
              "      <th>audio_valence</th>\n",
              "    </tr>\n",
              "  </thead>\n",
              "  <tbody>\n",
              "    <tr>\n",
              "      <th>1757</th>\n",
              "      <td>Party In The U.S.A.</td>\n",
              "      <td>nao_sei</td>\n",
              "      <td>0.8220000000000001kg</td>\n",
              "      <td>0.519mol/L</td>\n",
              "      <td>0.36</td>\n",
              "      <td>0.0</td>\n",
              "      <td>10</td>\n",
              "      <td>0.177</td>\n",
              "      <td>-8.575</td>\n",
              "      <td>0</td>\n",
              "      <td>0.105</td>\n",
              "      <td>97.42</td>\n",
              "      <td>4</td>\n",
              "      <td>0.7</td>\n",
              "      <td>NaN</td>\n",
              "    </tr>\n",
              "    <tr>\n",
              "      <th>7574</th>\n",
              "      <td>I Love It (&amp; Lil Pump)</td>\n",
              "      <td>99</td>\n",
              "      <td>127946</td>\n",
              "      <td>0.0114kg</td>\n",
              "      <td>0.901mol/L</td>\n",
              "      <td>0.522</td>\n",
              "      <td>0.0</td>\n",
              "      <td>2.000</td>\n",
              "      <td>0.259</td>\n",
              "      <td>-8.304</td>\n",
              "      <td>1</td>\n",
              "      <td>0.33</td>\n",
              "      <td>104.053</td>\n",
              "      <td>4</td>\n",
              "      <td>0.329</td>\n",
              "    </tr>\n",
              "    <tr>\n",
              "      <th>17588</th>\n",
              "      <td>Taki Taki (with Selena Gomez, Ozuna &amp; Cardi B)</td>\n",
              "      <td>98</td>\n",
              "      <td>212500</td>\n",
              "      <td>0.153kg</td>\n",
              "      <td>0.841mol/L</td>\n",
              "      <td>0.7979999999999999</td>\n",
              "      <td>3.33e-06</td>\n",
              "      <td>1.000</td>\n",
              "      <td>0.0618</td>\n",
              "      <td>-4.206</td>\n",
              "      <td>0</td>\n",
              "      <td>0.229</td>\n",
              "      <td>95.948</td>\n",
              "      <td>4</td>\n",
              "      <td>0.591</td>\n",
              "    </tr>\n",
              "    <tr>\n",
              "      <th>17394</th>\n",
              "      <td>Promises (with Sam Smith)</td>\n",
              "      <td>98</td>\n",
              "      <td>213309</td>\n",
              "      <td>0.0119kg</td>\n",
              "      <td>0.7809999999999999mol/L</td>\n",
              "      <td>0.768</td>\n",
              "      <td>4.91e-06</td>\n",
              "      <td>11.000</td>\n",
              "      <td>0.325</td>\n",
              "      <td>-5.9910000000000005</td>\n",
              "      <td>1</td>\n",
              "      <td>0.0394</td>\n",
              "      <td>123.07</td>\n",
              "      <td>4</td>\n",
              "      <td>0.486</td>\n",
              "    </tr>\n",
              "    <tr>\n",
              "      <th>12665</th>\n",
              "      <td>Eastside (with Halsey &amp; Khalid)</td>\n",
              "      <td>98</td>\n",
              "      <td>173799</td>\n",
              "      <td>0.555kg</td>\n",
              "      <td>0.56mol/L</td>\n",
              "      <td>0.68</td>\n",
              "      <td>0.0</td>\n",
              "      <td>6.000</td>\n",
              "      <td>0.116</td>\n",
              "      <td>-7.648</td>\n",
              "      <td>0</td>\n",
              "      <td>0.321</td>\n",
              "      <td>89.391</td>\n",
              "      <td>4</td>\n",
              "      <td>0.319</td>\n",
              "    </tr>\n",
              "  </tbody>\n",
              "</table>\n",
              "</div>"
            ],
            "text/plain": [
              "                                            song_name  ... audio_valence\n",
              "1757                              Party In The U.S.A.  ...           NaN\n",
              "7574                           I Love It (& Lil Pump)  ...         0.329\n",
              "17588  Taki Taki (with Selena Gomez, Ozuna & Cardi B)  ...         0.591\n",
              "17394                       Promises (with Sam Smith)  ...         0.486\n",
              "12665                 Eastside (with Halsey & Khalid)  ...         0.319\n",
              "\n",
              "[5 rows x 15 columns]"
            ]
          },
          "metadata": {},
          "execution_count": 11
        }
      ]
    },
    {
      "cell_type": "markdown",
      "metadata": {
        "id": "e1UuN-XpYHe_"
      },
      "source": [
        "# 4 - Validando consistência:\n",
        "\n",
        "Como vimos anteriormente temos campos que seriam númericos porém possuem texto e um texto que não condiz com o nome da coluna, aqui temos métricas de kg e mol/L"
      ]
    },
    {
      "cell_type": "code",
      "metadata": {
        "id": "dlDM-UfiYba_"
      },
      "source": [
        "def remove_text (df, columns, text):\n",
        "    for col in columns:\n",
        "        df[col] = df[col].str.strip(text)"
      ],
      "execution_count": 12,
      "outputs": []
    },
    {
      "cell_type": "code",
      "metadata": {
        "id": "Jy2kjfYfYBEf"
      },
      "source": [
        "remove_text(df, ['acousticness', 'danceability'], 'mol/L')\n",
        "remove_text(df, ['song_duration_ms', 'acousticness'], 'kg')"
      ],
      "execution_count": 13,
      "outputs": []
    },
    {
      "cell_type": "code",
      "metadata": {
        "colab": {
          "base_uri": "https://localhost:8080/",
          "height": 434
        },
        "id": "rv2LQL7oZeQe",
        "outputId": "ded00dff-fa1b-4c9e-ce23-7e2cc4103a8f"
      },
      "source": [
        "df.head(5)"
      ],
      "execution_count": 14,
      "outputs": [
        {
          "output_type": "execute_result",
          "data": {
            "text/html": [
              "<div>\n",
              "<style scoped>\n",
              "    .dataframe tbody tr th:only-of-type {\n",
              "        vertical-align: middle;\n",
              "    }\n",
              "\n",
              "    .dataframe tbody tr th {\n",
              "        vertical-align: top;\n",
              "    }\n",
              "\n",
              "    .dataframe thead th {\n",
              "        text-align: right;\n",
              "    }\n",
              "</style>\n",
              "<table border=\"1\" class=\"dataframe\">\n",
              "  <thead>\n",
              "    <tr style=\"text-align: right;\">\n",
              "      <th></th>\n",
              "      <th>song_name</th>\n",
              "      <th>song_popularity</th>\n",
              "      <th>song_duration_ms</th>\n",
              "      <th>acousticness</th>\n",
              "      <th>danceability</th>\n",
              "      <th>energy</th>\n",
              "      <th>instrumentalness</th>\n",
              "      <th>key</th>\n",
              "      <th>liveness</th>\n",
              "      <th>loudness</th>\n",
              "      <th>audio_mode</th>\n",
              "      <th>speechiness</th>\n",
              "      <th>tempo</th>\n",
              "      <th>time_signature</th>\n",
              "      <th>audio_valence</th>\n",
              "    </tr>\n",
              "  </thead>\n",
              "  <tbody>\n",
              "    <tr>\n",
              "      <th>1757</th>\n",
              "      <td>Party In The U.S.A.</td>\n",
              "      <td>nao_sei</td>\n",
              "      <td>0.8220000000000001</td>\n",
              "      <td>0.519</td>\n",
              "      <td>0.36</td>\n",
              "      <td>0.0</td>\n",
              "      <td>10</td>\n",
              "      <td>0.177</td>\n",
              "      <td>-8.575</td>\n",
              "      <td>0</td>\n",
              "      <td>0.105</td>\n",
              "      <td>97.42</td>\n",
              "      <td>4</td>\n",
              "      <td>0.7</td>\n",
              "      <td>NaN</td>\n",
              "    </tr>\n",
              "    <tr>\n",
              "      <th>7574</th>\n",
              "      <td>I Love It (&amp; Lil Pump)</td>\n",
              "      <td>99</td>\n",
              "      <td>127946</td>\n",
              "      <td>0.0114</td>\n",
              "      <td>0.901</td>\n",
              "      <td>0.522</td>\n",
              "      <td>0.0</td>\n",
              "      <td>2.000</td>\n",
              "      <td>0.259</td>\n",
              "      <td>-8.304</td>\n",
              "      <td>1</td>\n",
              "      <td>0.33</td>\n",
              "      <td>104.053</td>\n",
              "      <td>4</td>\n",
              "      <td>0.329</td>\n",
              "    </tr>\n",
              "    <tr>\n",
              "      <th>17588</th>\n",
              "      <td>Taki Taki (with Selena Gomez, Ozuna &amp; Cardi B)</td>\n",
              "      <td>98</td>\n",
              "      <td>212500</td>\n",
              "      <td>0.153</td>\n",
              "      <td>0.841</td>\n",
              "      <td>0.7979999999999999</td>\n",
              "      <td>3.33e-06</td>\n",
              "      <td>1.000</td>\n",
              "      <td>0.0618</td>\n",
              "      <td>-4.206</td>\n",
              "      <td>0</td>\n",
              "      <td>0.229</td>\n",
              "      <td>95.948</td>\n",
              "      <td>4</td>\n",
              "      <td>0.591</td>\n",
              "    </tr>\n",
              "    <tr>\n",
              "      <th>17394</th>\n",
              "      <td>Promises (with Sam Smith)</td>\n",
              "      <td>98</td>\n",
              "      <td>213309</td>\n",
              "      <td>0.0119</td>\n",
              "      <td>0.7809999999999999</td>\n",
              "      <td>0.768</td>\n",
              "      <td>4.91e-06</td>\n",
              "      <td>11.000</td>\n",
              "      <td>0.325</td>\n",
              "      <td>-5.9910000000000005</td>\n",
              "      <td>1</td>\n",
              "      <td>0.0394</td>\n",
              "      <td>123.07</td>\n",
              "      <td>4</td>\n",
              "      <td>0.486</td>\n",
              "    </tr>\n",
              "    <tr>\n",
              "      <th>12665</th>\n",
              "      <td>Eastside (with Halsey &amp; Khalid)</td>\n",
              "      <td>98</td>\n",
              "      <td>173799</td>\n",
              "      <td>0.555</td>\n",
              "      <td>0.56</td>\n",
              "      <td>0.68</td>\n",
              "      <td>0.0</td>\n",
              "      <td>6.000</td>\n",
              "      <td>0.116</td>\n",
              "      <td>-7.648</td>\n",
              "      <td>0</td>\n",
              "      <td>0.321</td>\n",
              "      <td>89.391</td>\n",
              "      <td>4</td>\n",
              "      <td>0.319</td>\n",
              "    </tr>\n",
              "  </tbody>\n",
              "</table>\n",
              "</div>"
            ],
            "text/plain": [
              "                                            song_name  ... audio_valence\n",
              "1757                              Party In The U.S.A.  ...           NaN\n",
              "7574                           I Love It (& Lil Pump)  ...         0.329\n",
              "17588  Taki Taki (with Selena Gomez, Ozuna & Cardi B)  ...         0.591\n",
              "17394                       Promises (with Sam Smith)  ...         0.486\n",
              "12665                 Eastside (with Halsey & Khalid)  ...         0.319\n",
              "\n",
              "[5 rows x 15 columns]"
            ]
          },
          "metadata": {},
          "execution_count": 14
        }
      ]
    },
    {
      "cell_type": "markdown",
      "metadata": {
        "id": "ykkkg9rJaQh-"
      },
      "source": [
        "# 5 - Transformações DataType:\n"
      ]
    },
    {
      "cell_type": "code",
      "metadata": {
        "colab": {
          "base_uri": "https://localhost:8080/",
          "height": 432
        },
        "id": "ri9lVxZCaPIx",
        "outputId": "67cf6fee-d024-48d9-f357-99bf7f092b57"
      },
      "source": [
        "## A Conversão do tipo da coluna pode ser feito por meio do .astype() que faz a conversão no pandas.\n",
        "## Doc - https://pandas.pydata.org/docs/reference/api/pandas.Series.astype.html?highlight=astype#pandas.Series.astype\n",
        "def to_type(df, columns, type):\n",
        "    for col in columns:\n",
        "        print(col)\n",
        "        df[col] = df[col].astype(type)\n",
        "\n",
        "numerical_cols = ['song_duration_ms', 'acousticness', 'danceability',\n",
        "                  'energy', 'instrumentalness', 'liveness', 'loudness',\n",
        "                  'speechiness', 'tempo', 'audio_valence']\n",
        " \n",
        "categorical_cols = ['song_popularity', 'key', 'audio_mode', 'time_signature']\n",
        "\n",
        "to_type(df, numerical_cols, 'float')\n",
        "to_type(df, categorical_cols, 'category') "
      ],
      "execution_count": 15,
      "outputs": [
        {
          "output_type": "stream",
          "name": "stdout",
          "text": [
            "song_duration_ms\n",
            "acousticness\n",
            "danceability\n",
            "energy\n"
          ]
        },
        {
          "output_type": "error",
          "ename": "ValueError",
          "evalue": "ignored",
          "traceback": [
            "\u001b[0;31m---------------------------------------------------------------------------\u001b[0m",
            "\u001b[0;31mValueError\u001b[0m                                Traceback (most recent call last)",
            "\u001b[0;32m<ipython-input-15-8fa9f2911c24>\u001b[0m in \u001b[0;36m<module>\u001b[0;34m()\u001b[0m\n\u001b[1;32m     12\u001b[0m \u001b[0mcategorical_cols\u001b[0m \u001b[0;34m=\u001b[0m \u001b[0;34m[\u001b[0m\u001b[0;34m'song_popularity'\u001b[0m\u001b[0;34m,\u001b[0m \u001b[0;34m'key'\u001b[0m\u001b[0;34m,\u001b[0m \u001b[0;34m'audio_mode'\u001b[0m\u001b[0;34m,\u001b[0m \u001b[0;34m'time_signature'\u001b[0m\u001b[0;34m]\u001b[0m\u001b[0;34m\u001b[0m\u001b[0;34m\u001b[0m\u001b[0m\n\u001b[1;32m     13\u001b[0m \u001b[0;34m\u001b[0m\u001b[0m\n\u001b[0;32m---> 14\u001b[0;31m \u001b[0mto_type\u001b[0m\u001b[0;34m(\u001b[0m\u001b[0mdf\u001b[0m\u001b[0;34m,\u001b[0m \u001b[0mnumerical_cols\u001b[0m\u001b[0;34m,\u001b[0m \u001b[0;34m'float'\u001b[0m\u001b[0;34m)\u001b[0m\u001b[0;34m\u001b[0m\u001b[0;34m\u001b[0m\u001b[0m\n\u001b[0m\u001b[1;32m     15\u001b[0m \u001b[0mto_type\u001b[0m\u001b[0;34m(\u001b[0m\u001b[0mdf\u001b[0m\u001b[0;34m,\u001b[0m \u001b[0mcategorical_cols\u001b[0m\u001b[0;34m,\u001b[0m \u001b[0;34m'category'\u001b[0m\u001b[0;34m)\u001b[0m\u001b[0;34m\u001b[0m\u001b[0;34m\u001b[0m\u001b[0m\n",
            "\u001b[0;32m<ipython-input-15-8fa9f2911c24>\u001b[0m in \u001b[0;36mto_type\u001b[0;34m(df, columns, type)\u001b[0m\n\u001b[1;32m      4\u001b[0m     \u001b[0;32mfor\u001b[0m \u001b[0mcol\u001b[0m \u001b[0;32min\u001b[0m \u001b[0mcolumns\u001b[0m\u001b[0;34m:\u001b[0m\u001b[0;34m\u001b[0m\u001b[0;34m\u001b[0m\u001b[0m\n\u001b[1;32m      5\u001b[0m         \u001b[0mprint\u001b[0m\u001b[0;34m(\u001b[0m\u001b[0mcol\u001b[0m\u001b[0;34m)\u001b[0m\u001b[0;34m\u001b[0m\u001b[0;34m\u001b[0m\u001b[0m\n\u001b[0;32m----> 6\u001b[0;31m         \u001b[0mdf\u001b[0m\u001b[0;34m[\u001b[0m\u001b[0mcol\u001b[0m\u001b[0;34m]\u001b[0m \u001b[0;34m=\u001b[0m \u001b[0mdf\u001b[0m\u001b[0;34m[\u001b[0m\u001b[0mcol\u001b[0m\u001b[0;34m]\u001b[0m\u001b[0;34m.\u001b[0m\u001b[0mastype\u001b[0m\u001b[0;34m(\u001b[0m\u001b[0mtype\u001b[0m\u001b[0;34m)\u001b[0m\u001b[0;34m\u001b[0m\u001b[0;34m\u001b[0m\u001b[0m\n\u001b[0m\u001b[1;32m      7\u001b[0m \u001b[0;34m\u001b[0m\u001b[0m\n\u001b[1;32m      8\u001b[0m numerical_cols = ['song_duration_ms', 'acousticness', 'danceability',\n",
            "\u001b[0;32m/usr/local/lib/python3.7/dist-packages/pandas/core/generic.py\u001b[0m in \u001b[0;36mastype\u001b[0;34m(self, dtype, copy, errors)\u001b[0m\n\u001b[1;32m   5546\u001b[0m         \u001b[0;32melse\u001b[0m\u001b[0;34m:\u001b[0m\u001b[0;34m\u001b[0m\u001b[0;34m\u001b[0m\u001b[0m\n\u001b[1;32m   5547\u001b[0m             \u001b[0;31m# else, only a single dtype is given\u001b[0m\u001b[0;34m\u001b[0m\u001b[0;34m\u001b[0m\u001b[0;34m\u001b[0m\u001b[0m\n\u001b[0;32m-> 5548\u001b[0;31m             \u001b[0mnew_data\u001b[0m \u001b[0;34m=\u001b[0m \u001b[0mself\u001b[0m\u001b[0;34m.\u001b[0m\u001b[0m_mgr\u001b[0m\u001b[0;34m.\u001b[0m\u001b[0mastype\u001b[0m\u001b[0;34m(\u001b[0m\u001b[0mdtype\u001b[0m\u001b[0;34m=\u001b[0m\u001b[0mdtype\u001b[0m\u001b[0;34m,\u001b[0m \u001b[0mcopy\u001b[0m\u001b[0;34m=\u001b[0m\u001b[0mcopy\u001b[0m\u001b[0;34m,\u001b[0m \u001b[0merrors\u001b[0m\u001b[0;34m=\u001b[0m\u001b[0merrors\u001b[0m\u001b[0;34m,\u001b[0m\u001b[0;34m)\u001b[0m\u001b[0;34m\u001b[0m\u001b[0;34m\u001b[0m\u001b[0m\n\u001b[0m\u001b[1;32m   5549\u001b[0m             \u001b[0;32mreturn\u001b[0m \u001b[0mself\u001b[0m\u001b[0;34m.\u001b[0m\u001b[0m_constructor\u001b[0m\u001b[0;34m(\u001b[0m\u001b[0mnew_data\u001b[0m\u001b[0;34m)\u001b[0m\u001b[0;34m.\u001b[0m\u001b[0m__finalize__\u001b[0m\u001b[0;34m(\u001b[0m\u001b[0mself\u001b[0m\u001b[0;34m,\u001b[0m \u001b[0mmethod\u001b[0m\u001b[0;34m=\u001b[0m\u001b[0;34m\"astype\"\u001b[0m\u001b[0;34m)\u001b[0m\u001b[0;34m\u001b[0m\u001b[0;34m\u001b[0m\u001b[0m\n\u001b[1;32m   5550\u001b[0m \u001b[0;34m\u001b[0m\u001b[0m\n",
            "\u001b[0;32m/usr/local/lib/python3.7/dist-packages/pandas/core/internals/managers.py\u001b[0m in \u001b[0;36mastype\u001b[0;34m(self, dtype, copy, errors)\u001b[0m\n\u001b[1;32m    602\u001b[0m         \u001b[0mself\u001b[0m\u001b[0;34m,\u001b[0m \u001b[0mdtype\u001b[0m\u001b[0;34m,\u001b[0m \u001b[0mcopy\u001b[0m\u001b[0;34m:\u001b[0m \u001b[0mbool\u001b[0m \u001b[0;34m=\u001b[0m \u001b[0;32mFalse\u001b[0m\u001b[0;34m,\u001b[0m \u001b[0merrors\u001b[0m\u001b[0;34m:\u001b[0m \u001b[0mstr\u001b[0m \u001b[0;34m=\u001b[0m \u001b[0;34m\"raise\"\u001b[0m\u001b[0;34m\u001b[0m\u001b[0;34m\u001b[0m\u001b[0m\n\u001b[1;32m    603\u001b[0m     ) -> \"BlockManager\":\n\u001b[0;32m--> 604\u001b[0;31m         \u001b[0;32mreturn\u001b[0m \u001b[0mself\u001b[0m\u001b[0;34m.\u001b[0m\u001b[0mapply\u001b[0m\u001b[0;34m(\u001b[0m\u001b[0;34m\"astype\"\u001b[0m\u001b[0;34m,\u001b[0m \u001b[0mdtype\u001b[0m\u001b[0;34m=\u001b[0m\u001b[0mdtype\u001b[0m\u001b[0;34m,\u001b[0m \u001b[0mcopy\u001b[0m\u001b[0;34m=\u001b[0m\u001b[0mcopy\u001b[0m\u001b[0;34m,\u001b[0m \u001b[0merrors\u001b[0m\u001b[0;34m=\u001b[0m\u001b[0merrors\u001b[0m\u001b[0;34m)\u001b[0m\u001b[0;34m\u001b[0m\u001b[0;34m\u001b[0m\u001b[0m\n\u001b[0m\u001b[1;32m    605\u001b[0m \u001b[0;34m\u001b[0m\u001b[0m\n\u001b[1;32m    606\u001b[0m     def convert(\n",
            "\u001b[0;32m/usr/local/lib/python3.7/dist-packages/pandas/core/internals/managers.py\u001b[0m in \u001b[0;36mapply\u001b[0;34m(self, f, align_keys, **kwargs)\u001b[0m\n\u001b[1;32m    407\u001b[0m                 \u001b[0mapplied\u001b[0m \u001b[0;34m=\u001b[0m \u001b[0mb\u001b[0m\u001b[0;34m.\u001b[0m\u001b[0mapply\u001b[0m\u001b[0;34m(\u001b[0m\u001b[0mf\u001b[0m\u001b[0;34m,\u001b[0m \u001b[0;34m**\u001b[0m\u001b[0mkwargs\u001b[0m\u001b[0;34m)\u001b[0m\u001b[0;34m\u001b[0m\u001b[0;34m\u001b[0m\u001b[0m\n\u001b[1;32m    408\u001b[0m             \u001b[0;32melse\u001b[0m\u001b[0;34m:\u001b[0m\u001b[0;34m\u001b[0m\u001b[0;34m\u001b[0m\u001b[0m\n\u001b[0;32m--> 409\u001b[0;31m                 \u001b[0mapplied\u001b[0m \u001b[0;34m=\u001b[0m \u001b[0mgetattr\u001b[0m\u001b[0;34m(\u001b[0m\u001b[0mb\u001b[0m\u001b[0;34m,\u001b[0m \u001b[0mf\u001b[0m\u001b[0;34m)\u001b[0m\u001b[0;34m(\u001b[0m\u001b[0;34m**\u001b[0m\u001b[0mkwargs\u001b[0m\u001b[0;34m)\u001b[0m\u001b[0;34m\u001b[0m\u001b[0;34m\u001b[0m\u001b[0m\n\u001b[0m\u001b[1;32m    410\u001b[0m             \u001b[0mresult_blocks\u001b[0m \u001b[0;34m=\u001b[0m \u001b[0m_extend_blocks\u001b[0m\u001b[0;34m(\u001b[0m\u001b[0mapplied\u001b[0m\u001b[0;34m,\u001b[0m \u001b[0mresult_blocks\u001b[0m\u001b[0;34m)\u001b[0m\u001b[0;34m\u001b[0m\u001b[0;34m\u001b[0m\u001b[0m\n\u001b[1;32m    411\u001b[0m \u001b[0;34m\u001b[0m\u001b[0m\n",
            "\u001b[0;32m/usr/local/lib/python3.7/dist-packages/pandas/core/internals/blocks.py\u001b[0m in \u001b[0;36mastype\u001b[0;34m(self, dtype, copy, errors)\u001b[0m\n\u001b[1;32m    593\u001b[0m             \u001b[0mvals1d\u001b[0m \u001b[0;34m=\u001b[0m \u001b[0mvalues\u001b[0m\u001b[0;34m.\u001b[0m\u001b[0mravel\u001b[0m\u001b[0;34m(\u001b[0m\u001b[0;34m)\u001b[0m\u001b[0;34m\u001b[0m\u001b[0;34m\u001b[0m\u001b[0m\n\u001b[1;32m    594\u001b[0m             \u001b[0;32mtry\u001b[0m\u001b[0;34m:\u001b[0m\u001b[0;34m\u001b[0m\u001b[0;34m\u001b[0m\u001b[0m\n\u001b[0;32m--> 595\u001b[0;31m                 \u001b[0mvalues\u001b[0m \u001b[0;34m=\u001b[0m \u001b[0mastype_nansafe\u001b[0m\u001b[0;34m(\u001b[0m\u001b[0mvals1d\u001b[0m\u001b[0;34m,\u001b[0m \u001b[0mdtype\u001b[0m\u001b[0;34m,\u001b[0m \u001b[0mcopy\u001b[0m\u001b[0;34m=\u001b[0m\u001b[0;32mTrue\u001b[0m\u001b[0;34m)\u001b[0m\u001b[0;34m\u001b[0m\u001b[0;34m\u001b[0m\u001b[0m\n\u001b[0m\u001b[1;32m    596\u001b[0m             \u001b[0;32mexcept\u001b[0m \u001b[0;34m(\u001b[0m\u001b[0mValueError\u001b[0m\u001b[0;34m,\u001b[0m \u001b[0mTypeError\u001b[0m\u001b[0;34m)\u001b[0m\u001b[0;34m:\u001b[0m\u001b[0;34m\u001b[0m\u001b[0;34m\u001b[0m\u001b[0m\n\u001b[1;32m    597\u001b[0m                 \u001b[0;31m# e.g. astype_nansafe can fail on object-dtype of strings\u001b[0m\u001b[0;34m\u001b[0m\u001b[0;34m\u001b[0m\u001b[0;34m\u001b[0m\u001b[0m\n",
            "\u001b[0;32m/usr/local/lib/python3.7/dist-packages/pandas/core/dtypes/cast.py\u001b[0m in \u001b[0;36mastype_nansafe\u001b[0;34m(arr, dtype, copy, skipna)\u001b[0m\n\u001b[1;32m    995\u001b[0m     \u001b[0;32mif\u001b[0m \u001b[0mcopy\u001b[0m \u001b[0;32mor\u001b[0m \u001b[0mis_object_dtype\u001b[0m\u001b[0;34m(\u001b[0m\u001b[0marr\u001b[0m\u001b[0;34m)\u001b[0m \u001b[0;32mor\u001b[0m \u001b[0mis_object_dtype\u001b[0m\u001b[0;34m(\u001b[0m\u001b[0mdtype\u001b[0m\u001b[0;34m)\u001b[0m\u001b[0;34m:\u001b[0m\u001b[0;34m\u001b[0m\u001b[0;34m\u001b[0m\u001b[0m\n\u001b[1;32m    996\u001b[0m         \u001b[0;31m# Explicit copy, or required since NumPy can't view from / to object.\u001b[0m\u001b[0;34m\u001b[0m\u001b[0;34m\u001b[0m\u001b[0;34m\u001b[0m\u001b[0m\n\u001b[0;32m--> 997\u001b[0;31m         \u001b[0;32mreturn\u001b[0m \u001b[0marr\u001b[0m\u001b[0;34m.\u001b[0m\u001b[0mastype\u001b[0m\u001b[0;34m(\u001b[0m\u001b[0mdtype\u001b[0m\u001b[0;34m,\u001b[0m \u001b[0mcopy\u001b[0m\u001b[0;34m=\u001b[0m\u001b[0;32mTrue\u001b[0m\u001b[0;34m)\u001b[0m\u001b[0;34m\u001b[0m\u001b[0;34m\u001b[0m\u001b[0m\n\u001b[0m\u001b[1;32m    998\u001b[0m \u001b[0;34m\u001b[0m\u001b[0m\n\u001b[1;32m    999\u001b[0m     \u001b[0;32mreturn\u001b[0m \u001b[0marr\u001b[0m\u001b[0;34m.\u001b[0m\u001b[0mview\u001b[0m\u001b[0;34m(\u001b[0m\u001b[0mdtype\u001b[0m\u001b[0;34m)\u001b[0m\u001b[0;34m\u001b[0m\u001b[0;34m\u001b[0m\u001b[0m\n",
            "\u001b[0;31mValueError\u001b[0m: could not convert string to float: 'nao_sei'"
          ]
        }
      ]
    },
    {
      "cell_type": "code",
      "metadata": {
        "id": "tDGscOC-aqXV"
      },
      "source": [
        "## Com o replace podemos substituir demais valores que são inconsistentes \n",
        "df = df.replace(['nao_sei'], np.nan)"
      ],
      "execution_count": 16,
      "outputs": []
    },
    {
      "cell_type": "code",
      "metadata": {
        "colab": {
          "base_uri": "https://localhost:8080/",
          "height": 467
        },
        "id": "L9L1GuJqa0xN",
        "outputId": "4211631d-c082-40b0-b657-0193e0b4f123"
      },
      "source": [
        "to_type(df, numerical_cols, 'float')\n",
        "to_type(df, categorical_cols, 'category') "
      ],
      "execution_count": 17,
      "outputs": [
        {
          "output_type": "stream",
          "name": "stdout",
          "text": [
            "song_duration_ms\n",
            "acousticness\n",
            "danceability\n",
            "energy\n",
            "instrumentalness\n",
            "liveness\n",
            "loudness\n",
            "speechiness\n"
          ]
        },
        {
          "output_type": "error",
          "ename": "ValueError",
          "evalue": "ignored",
          "traceback": [
            "\u001b[0;31m---------------------------------------------------------------------------\u001b[0m",
            "\u001b[0;31mValueError\u001b[0m                                Traceback (most recent call last)",
            "\u001b[0;32m<ipython-input-17-60fe30a932ff>\u001b[0m in \u001b[0;36m<module>\u001b[0;34m()\u001b[0m\n\u001b[0;32m----> 1\u001b[0;31m \u001b[0mto_type\u001b[0m\u001b[0;34m(\u001b[0m\u001b[0mdf\u001b[0m\u001b[0;34m,\u001b[0m \u001b[0mnumerical_cols\u001b[0m\u001b[0;34m,\u001b[0m \u001b[0;34m'float'\u001b[0m\u001b[0;34m)\u001b[0m\u001b[0;34m\u001b[0m\u001b[0;34m\u001b[0m\u001b[0m\n\u001b[0m\u001b[1;32m      2\u001b[0m \u001b[0mto_type\u001b[0m\u001b[0;34m(\u001b[0m\u001b[0mdf\u001b[0m\u001b[0;34m,\u001b[0m \u001b[0mcategorical_cols\u001b[0m\u001b[0;34m,\u001b[0m \u001b[0;34m'category'\u001b[0m\u001b[0;34m)\u001b[0m\u001b[0;34m\u001b[0m\u001b[0;34m\u001b[0m\u001b[0m\n",
            "\u001b[0;32m<ipython-input-15-8fa9f2911c24>\u001b[0m in \u001b[0;36mto_type\u001b[0;34m(df, columns, type)\u001b[0m\n\u001b[1;32m      4\u001b[0m     \u001b[0;32mfor\u001b[0m \u001b[0mcol\u001b[0m \u001b[0;32min\u001b[0m \u001b[0mcolumns\u001b[0m\u001b[0;34m:\u001b[0m\u001b[0;34m\u001b[0m\u001b[0;34m\u001b[0m\u001b[0m\n\u001b[1;32m      5\u001b[0m         \u001b[0mprint\u001b[0m\u001b[0;34m(\u001b[0m\u001b[0mcol\u001b[0m\u001b[0;34m)\u001b[0m\u001b[0;34m\u001b[0m\u001b[0;34m\u001b[0m\u001b[0m\n\u001b[0;32m----> 6\u001b[0;31m         \u001b[0mdf\u001b[0m\u001b[0;34m[\u001b[0m\u001b[0mcol\u001b[0m\u001b[0;34m]\u001b[0m \u001b[0;34m=\u001b[0m \u001b[0mdf\u001b[0m\u001b[0;34m[\u001b[0m\u001b[0mcol\u001b[0m\u001b[0;34m]\u001b[0m\u001b[0;34m.\u001b[0m\u001b[0mastype\u001b[0m\u001b[0;34m(\u001b[0m\u001b[0mtype\u001b[0m\u001b[0;34m)\u001b[0m\u001b[0;34m\u001b[0m\u001b[0;34m\u001b[0m\u001b[0m\n\u001b[0m\u001b[1;32m      7\u001b[0m \u001b[0;34m\u001b[0m\u001b[0m\n\u001b[1;32m      8\u001b[0m numerical_cols = ['song_duration_ms', 'acousticness', 'danceability',\n",
            "\u001b[0;32m/usr/local/lib/python3.7/dist-packages/pandas/core/generic.py\u001b[0m in \u001b[0;36mastype\u001b[0;34m(self, dtype, copy, errors)\u001b[0m\n\u001b[1;32m   5546\u001b[0m         \u001b[0;32melse\u001b[0m\u001b[0;34m:\u001b[0m\u001b[0;34m\u001b[0m\u001b[0;34m\u001b[0m\u001b[0m\n\u001b[1;32m   5547\u001b[0m             \u001b[0;31m# else, only a single dtype is given\u001b[0m\u001b[0;34m\u001b[0m\u001b[0;34m\u001b[0m\u001b[0;34m\u001b[0m\u001b[0m\n\u001b[0;32m-> 5548\u001b[0;31m             \u001b[0mnew_data\u001b[0m \u001b[0;34m=\u001b[0m \u001b[0mself\u001b[0m\u001b[0;34m.\u001b[0m\u001b[0m_mgr\u001b[0m\u001b[0;34m.\u001b[0m\u001b[0mastype\u001b[0m\u001b[0;34m(\u001b[0m\u001b[0mdtype\u001b[0m\u001b[0;34m=\u001b[0m\u001b[0mdtype\u001b[0m\u001b[0;34m,\u001b[0m \u001b[0mcopy\u001b[0m\u001b[0;34m=\u001b[0m\u001b[0mcopy\u001b[0m\u001b[0;34m,\u001b[0m \u001b[0merrors\u001b[0m\u001b[0;34m=\u001b[0m\u001b[0merrors\u001b[0m\u001b[0;34m,\u001b[0m\u001b[0;34m)\u001b[0m\u001b[0;34m\u001b[0m\u001b[0;34m\u001b[0m\u001b[0m\n\u001b[0m\u001b[1;32m   5549\u001b[0m             \u001b[0;32mreturn\u001b[0m \u001b[0mself\u001b[0m\u001b[0;34m.\u001b[0m\u001b[0m_constructor\u001b[0m\u001b[0;34m(\u001b[0m\u001b[0mnew_data\u001b[0m\u001b[0;34m)\u001b[0m\u001b[0;34m.\u001b[0m\u001b[0m__finalize__\u001b[0m\u001b[0;34m(\u001b[0m\u001b[0mself\u001b[0m\u001b[0;34m,\u001b[0m \u001b[0mmethod\u001b[0m\u001b[0;34m=\u001b[0m\u001b[0;34m\"astype\"\u001b[0m\u001b[0;34m)\u001b[0m\u001b[0;34m\u001b[0m\u001b[0;34m\u001b[0m\u001b[0m\n\u001b[1;32m   5550\u001b[0m \u001b[0;34m\u001b[0m\u001b[0m\n",
            "\u001b[0;32m/usr/local/lib/python3.7/dist-packages/pandas/core/internals/managers.py\u001b[0m in \u001b[0;36mastype\u001b[0;34m(self, dtype, copy, errors)\u001b[0m\n\u001b[1;32m    602\u001b[0m         \u001b[0mself\u001b[0m\u001b[0;34m,\u001b[0m \u001b[0mdtype\u001b[0m\u001b[0;34m,\u001b[0m \u001b[0mcopy\u001b[0m\u001b[0;34m:\u001b[0m \u001b[0mbool\u001b[0m \u001b[0;34m=\u001b[0m \u001b[0;32mFalse\u001b[0m\u001b[0;34m,\u001b[0m \u001b[0merrors\u001b[0m\u001b[0;34m:\u001b[0m \u001b[0mstr\u001b[0m \u001b[0;34m=\u001b[0m \u001b[0;34m\"raise\"\u001b[0m\u001b[0;34m\u001b[0m\u001b[0;34m\u001b[0m\u001b[0m\n\u001b[1;32m    603\u001b[0m     ) -> \"BlockManager\":\n\u001b[0;32m--> 604\u001b[0;31m         \u001b[0;32mreturn\u001b[0m \u001b[0mself\u001b[0m\u001b[0;34m.\u001b[0m\u001b[0mapply\u001b[0m\u001b[0;34m(\u001b[0m\u001b[0;34m\"astype\"\u001b[0m\u001b[0;34m,\u001b[0m \u001b[0mdtype\u001b[0m\u001b[0;34m=\u001b[0m\u001b[0mdtype\u001b[0m\u001b[0;34m,\u001b[0m \u001b[0mcopy\u001b[0m\u001b[0;34m=\u001b[0m\u001b[0mcopy\u001b[0m\u001b[0;34m,\u001b[0m \u001b[0merrors\u001b[0m\u001b[0;34m=\u001b[0m\u001b[0merrors\u001b[0m\u001b[0;34m)\u001b[0m\u001b[0;34m\u001b[0m\u001b[0;34m\u001b[0m\u001b[0m\n\u001b[0m\u001b[1;32m    605\u001b[0m \u001b[0;34m\u001b[0m\u001b[0m\n\u001b[1;32m    606\u001b[0m     def convert(\n",
            "\u001b[0;32m/usr/local/lib/python3.7/dist-packages/pandas/core/internals/managers.py\u001b[0m in \u001b[0;36mapply\u001b[0;34m(self, f, align_keys, **kwargs)\u001b[0m\n\u001b[1;32m    407\u001b[0m                 \u001b[0mapplied\u001b[0m \u001b[0;34m=\u001b[0m \u001b[0mb\u001b[0m\u001b[0;34m.\u001b[0m\u001b[0mapply\u001b[0m\u001b[0;34m(\u001b[0m\u001b[0mf\u001b[0m\u001b[0;34m,\u001b[0m \u001b[0;34m**\u001b[0m\u001b[0mkwargs\u001b[0m\u001b[0;34m)\u001b[0m\u001b[0;34m\u001b[0m\u001b[0;34m\u001b[0m\u001b[0m\n\u001b[1;32m    408\u001b[0m             \u001b[0;32melse\u001b[0m\u001b[0;34m:\u001b[0m\u001b[0;34m\u001b[0m\u001b[0;34m\u001b[0m\u001b[0m\n\u001b[0;32m--> 409\u001b[0;31m                 \u001b[0mapplied\u001b[0m \u001b[0;34m=\u001b[0m \u001b[0mgetattr\u001b[0m\u001b[0;34m(\u001b[0m\u001b[0mb\u001b[0m\u001b[0;34m,\u001b[0m \u001b[0mf\u001b[0m\u001b[0;34m)\u001b[0m\u001b[0;34m(\u001b[0m\u001b[0;34m**\u001b[0m\u001b[0mkwargs\u001b[0m\u001b[0;34m)\u001b[0m\u001b[0;34m\u001b[0m\u001b[0;34m\u001b[0m\u001b[0m\n\u001b[0m\u001b[1;32m    410\u001b[0m             \u001b[0mresult_blocks\u001b[0m \u001b[0;34m=\u001b[0m \u001b[0m_extend_blocks\u001b[0m\u001b[0;34m(\u001b[0m\u001b[0mapplied\u001b[0m\u001b[0;34m,\u001b[0m \u001b[0mresult_blocks\u001b[0m\u001b[0;34m)\u001b[0m\u001b[0;34m\u001b[0m\u001b[0;34m\u001b[0m\u001b[0m\n\u001b[1;32m    411\u001b[0m \u001b[0;34m\u001b[0m\u001b[0m\n",
            "\u001b[0;32m/usr/local/lib/python3.7/dist-packages/pandas/core/internals/blocks.py\u001b[0m in \u001b[0;36mastype\u001b[0;34m(self, dtype, copy, errors)\u001b[0m\n\u001b[1;32m    593\u001b[0m             \u001b[0mvals1d\u001b[0m \u001b[0;34m=\u001b[0m \u001b[0mvalues\u001b[0m\u001b[0;34m.\u001b[0m\u001b[0mravel\u001b[0m\u001b[0;34m(\u001b[0m\u001b[0;34m)\u001b[0m\u001b[0;34m\u001b[0m\u001b[0;34m\u001b[0m\u001b[0m\n\u001b[1;32m    594\u001b[0m             \u001b[0;32mtry\u001b[0m\u001b[0;34m:\u001b[0m\u001b[0;34m\u001b[0m\u001b[0;34m\u001b[0m\u001b[0m\n\u001b[0;32m--> 595\u001b[0;31m                 \u001b[0mvalues\u001b[0m \u001b[0;34m=\u001b[0m \u001b[0mastype_nansafe\u001b[0m\u001b[0;34m(\u001b[0m\u001b[0mvals1d\u001b[0m\u001b[0;34m,\u001b[0m \u001b[0mdtype\u001b[0m\u001b[0;34m,\u001b[0m \u001b[0mcopy\u001b[0m\u001b[0;34m=\u001b[0m\u001b[0;32mTrue\u001b[0m\u001b[0;34m)\u001b[0m\u001b[0;34m\u001b[0m\u001b[0;34m\u001b[0m\u001b[0m\n\u001b[0m\u001b[1;32m    596\u001b[0m             \u001b[0;32mexcept\u001b[0m \u001b[0;34m(\u001b[0m\u001b[0mValueError\u001b[0m\u001b[0;34m,\u001b[0m \u001b[0mTypeError\u001b[0m\u001b[0;34m)\u001b[0m\u001b[0;34m:\u001b[0m\u001b[0;34m\u001b[0m\u001b[0;34m\u001b[0m\u001b[0m\n\u001b[1;32m    597\u001b[0m                 \u001b[0;31m# e.g. astype_nansafe can fail on object-dtype of strings\u001b[0m\u001b[0;34m\u001b[0m\u001b[0;34m\u001b[0m\u001b[0;34m\u001b[0m\u001b[0m\n",
            "\u001b[0;32m/usr/local/lib/python3.7/dist-packages/pandas/core/dtypes/cast.py\u001b[0m in \u001b[0;36mastype_nansafe\u001b[0;34m(arr, dtype, copy, skipna)\u001b[0m\n\u001b[1;32m    995\u001b[0m     \u001b[0;32mif\u001b[0m \u001b[0mcopy\u001b[0m \u001b[0;32mor\u001b[0m \u001b[0mis_object_dtype\u001b[0m\u001b[0;34m(\u001b[0m\u001b[0marr\u001b[0m\u001b[0;34m)\u001b[0m \u001b[0;32mor\u001b[0m \u001b[0mis_object_dtype\u001b[0m\u001b[0;34m(\u001b[0m\u001b[0mdtype\u001b[0m\u001b[0;34m)\u001b[0m\u001b[0;34m:\u001b[0m\u001b[0;34m\u001b[0m\u001b[0;34m\u001b[0m\u001b[0m\n\u001b[1;32m    996\u001b[0m         \u001b[0;31m# Explicit copy, or required since NumPy can't view from / to object.\u001b[0m\u001b[0;34m\u001b[0m\u001b[0;34m\u001b[0m\u001b[0;34m\u001b[0m\u001b[0m\n\u001b[0;32m--> 997\u001b[0;31m         \u001b[0;32mreturn\u001b[0m \u001b[0marr\u001b[0m\u001b[0;34m.\u001b[0m\u001b[0mastype\u001b[0m\u001b[0;34m(\u001b[0m\u001b[0mdtype\u001b[0m\u001b[0;34m,\u001b[0m \u001b[0mcopy\u001b[0m\u001b[0;34m=\u001b[0m\u001b[0;32mTrue\u001b[0m\u001b[0;34m)\u001b[0m\u001b[0;34m\u001b[0m\u001b[0;34m\u001b[0m\u001b[0m\n\u001b[0m\u001b[1;32m    998\u001b[0m \u001b[0;34m\u001b[0m\u001b[0m\n\u001b[1;32m    999\u001b[0m     \u001b[0;32mreturn\u001b[0m \u001b[0marr\u001b[0m\u001b[0;34m.\u001b[0m\u001b[0mview\u001b[0m\u001b[0;34m(\u001b[0m\u001b[0mdtype\u001b[0m\u001b[0;34m)\u001b[0m\u001b[0;34m\u001b[0m\u001b[0;34m\u001b[0m\u001b[0m\n",
            "\u001b[0;31mValueError\u001b[0m: could not convert string to float: '0.nao_sei'"
          ]
        }
      ]
    },
    {
      "cell_type": "code",
      "metadata": {
        "id": "rDNvZeyKa-7t"
      },
      "source": [
        "df['speechiness'] = df['speechiness'].replace(['0.nao_sei'], np.nan)"
      ],
      "execution_count": 18,
      "outputs": []
    },
    {
      "cell_type": "code",
      "metadata": {
        "colab": {
          "base_uri": "https://localhost:8080/"
        },
        "id": "qDaqT47CbB2M",
        "outputId": "081baab9-b12d-415c-850b-049a004331c9"
      },
      "source": [
        "to_type(df, numerical_cols, 'float')\n",
        "to_type(df, categorical_cols, 'category') "
      ],
      "execution_count": 19,
      "outputs": [
        {
          "output_type": "stream",
          "name": "stdout",
          "text": [
            "song_duration_ms\n",
            "acousticness\n",
            "danceability\n",
            "energy\n",
            "instrumentalness\n",
            "liveness\n",
            "loudness\n",
            "speechiness\n",
            "tempo\n",
            "audio_valence\n",
            "song_popularity\n",
            "key\n",
            "audio_mode\n",
            "time_signature\n"
          ]
        }
      ]
    },
    {
      "cell_type": "code",
      "metadata": {
        "colab": {
          "base_uri": "https://localhost:8080/"
        },
        "id": "gZnk7cz1IRPx",
        "outputId": "920aebd3-ee67-4339-ef1c-c042495ea287"
      },
      "source": [
        "df.info()"
      ],
      "execution_count": 20,
      "outputs": [
        {
          "output_type": "stream",
          "name": "stdout",
          "text": [
            "<class 'pandas.core.frame.DataFrame'>\n",
            "Int64Index: 14932 entries, 1757 to 9956\n",
            "Data columns (total 15 columns):\n",
            " #   Column            Non-Null Count  Dtype   \n",
            "---  ------            --------------  -----   \n",
            " 0   song_name         14932 non-null  object  \n",
            " 1   song_popularity   14931 non-null  category\n",
            " 2   song_duration_ms  14932 non-null  float64 \n",
            " 3   acousticness      14932 non-null  float64 \n",
            " 4   danceability      14932 non-null  float64 \n",
            " 5   energy            14931 non-null  float64 \n",
            " 6   instrumentalness  14930 non-null  float64 \n",
            " 7   key               14932 non-null  category\n",
            " 8   liveness          14928 non-null  float64 \n",
            " 9   loudness          14931 non-null  float64 \n",
            " 10  audio_mode        14931 non-null  category\n",
            " 11  speechiness       14931 non-null  float64 \n",
            " 12  tempo             14931 non-null  float64 \n",
            " 13  time_signature    14931 non-null  category\n",
            " 14  audio_valence     14931 non-null  float64 \n",
            "dtypes: category(4), float64(10), object(1)\n",
            "memory usage: 1.4+ MB\n"
          ]
        }
      ]
    },
    {
      "cell_type": "code",
      "metadata": {
        "colab": {
          "base_uri": "https://localhost:8080/"
        },
        "id": "tKGUWauDcUIN",
        "outputId": "4421b609-9bc5-4031-b7c9-62f524eaa561"
      },
      "source": [
        "## Validação Variaveis Categoricas \n",
        "## Uma forma de validação é verificar a quantidade de elementos em cada uma das categorias. \n",
        "for col in categorical_cols:\n",
        "  print(f'{col}')\n",
        "  print(df[col].value_counts().sort_values())"
      ],
      "execution_count": 21,
      "outputs": [
        {
          "output_type": "stream",
          "name": "stdout",
          "text": [
            "song_popularity\n",
            "99       1\n",
            "100      1\n",
            "98       4\n",
            "97       4\n",
            "96       5\n",
            "      ... \n",
            "54     324\n",
            "53     325\n",
            "55     345\n",
            "58     347\n",
            "52     355\n",
            "Name: song_popularity, Length: 101, dtype: int64\n",
            "key\n",
            "0.177       1\n",
            "3.0       433\n",
            "10.0     1045\n",
            "8.0      1047\n",
            "6.0      1048\n",
            "4.0      1084\n",
            "11.0     1223\n",
            "5.0      1257\n",
            "2.0      1399\n",
            "9.0      1410\n",
            "1.0      1596\n",
            "7.0      1654\n",
            "0.0      1735\n",
            "Name: key, dtype: int64\n",
            "audio_mode\n",
            "0.105       1\n",
            "0        5496\n",
            "1        9434\n",
            "Name: audio_mode, dtype: int64\n",
            "time_signature\n",
            "2800000000        1\n",
            "0.7               1\n",
            "0                 3\n",
            "1                67\n",
            "5               195\n",
            "3               684\n",
            "4             13980\n",
            "Name: time_signature, dtype: int64\n"
          ]
        }
      ]
    },
    {
      "cell_type": "code",
      "metadata": {
        "id": "uyyPgz9QbwIX"
      },
      "source": [
        "## Acima observamos em cada uma das colunas alguns valores estranhos como 0.177 para key, e 0.105 para uma variavel binaria como audio_mode;\n",
        "df['key'] = df['key'].replace([0.177], np.nan)\n",
        "df['audio_mode'] = df['audio_mode'].replace(['0.105'], np.nan)\n",
        "df['time_signature'] = df['time_signature'].replace(['0.7', '2800000000'], np.nan)"
      ],
      "execution_count": 22,
      "outputs": []
    },
    {
      "cell_type": "markdown",
      "metadata": {
        "id": "AjImhgsld7RO"
      },
      "source": [
        "A partir de agora, temos um dataset com o minimo de consistencia e sem valores duplicados"
      ]
    },
    {
      "cell_type": "code",
      "metadata": {
        "colab": {
          "base_uri": "https://localhost:8080/"
        },
        "id": "tl91182iolsu",
        "outputId": "e3ce4ff3-f055-42a0-ce97-275e1e785930"
      },
      "source": [
        "df.info()"
      ],
      "execution_count": 23,
      "outputs": [
        {
          "output_type": "stream",
          "name": "stdout",
          "text": [
            "<class 'pandas.core.frame.DataFrame'>\n",
            "Int64Index: 14932 entries, 1757 to 9956\n",
            "Data columns (total 15 columns):\n",
            " #   Column            Non-Null Count  Dtype   \n",
            "---  ------            --------------  -----   \n",
            " 0   song_name         14932 non-null  object  \n",
            " 1   song_popularity   14931 non-null  category\n",
            " 2   song_duration_ms  14932 non-null  float64 \n",
            " 3   acousticness      14932 non-null  float64 \n",
            " 4   danceability      14932 non-null  float64 \n",
            " 5   energy            14931 non-null  float64 \n",
            " 6   instrumentalness  14930 non-null  float64 \n",
            " 7   key               14931 non-null  category\n",
            " 8   liveness          14928 non-null  float64 \n",
            " 9   loudness          14931 non-null  float64 \n",
            " 10  audio_mode        14930 non-null  category\n",
            " 11  speechiness       14931 non-null  float64 \n",
            " 12  tempo             14931 non-null  float64 \n",
            " 13  time_signature    14929 non-null  category\n",
            " 14  audio_valence     14931 non-null  float64 \n",
            "dtypes: category(4), float64(10), object(1)\n",
            "memory usage: 1.4+ MB\n"
          ]
        }
      ]
    },
    {
      "cell_type": "code",
      "metadata": {
        "colab": {
          "base_uri": "https://localhost:8080/"
        },
        "id": "5LUmVglkfOzt",
        "outputId": "c1728133-3c5c-4be3-e02c-48b66b508d31"
      },
      "source": [
        "## Validando quantidade de nulos de forma explicita\n",
        "df.isna().sum()"
      ],
      "execution_count": 24,
      "outputs": [
        {
          "output_type": "execute_result",
          "data": {
            "text/plain": [
              "song_name           0\n",
              "song_popularity     1\n",
              "song_duration_ms    0\n",
              "acousticness        0\n",
              "danceability        0\n",
              "energy              1\n",
              "instrumentalness    2\n",
              "key                 1\n",
              "liveness            4\n",
              "loudness            1\n",
              "audio_mode          2\n",
              "speechiness         1\n",
              "tempo               1\n",
              "time_signature      3\n",
              "audio_valence       1\n",
              "dtype: int64"
            ]
          },
          "metadata": {},
          "execution_count": 24
        }
      ]
    },
    {
      "cell_type": "code",
      "metadata": {
        "colab": {
          "base_uri": "https://localhost:8080/"
        },
        "id": "MUmCWD6ioa02",
        "outputId": "886f2279-431e-4107-d77e-97fcf2451235"
      },
      "source": [
        "## Também podemos remover valores negativos que não fazem sentido do ponto de vista do problema como duração da música negativa\n",
        "df[df[numerical_cols]<0].count()"
      ],
      "execution_count": 25,
      "outputs": [
        {
          "output_type": "execute_result",
          "data": {
            "text/plain": [
              "song_name               0\n",
              "song_popularity         0\n",
              "song_duration_ms        1\n",
              "acousticness            0\n",
              "danceability            0\n",
              "energy                  0\n",
              "instrumentalness        0\n",
              "key                     0\n",
              "liveness                1\n",
              "loudness            14923\n",
              "audio_mode              0\n",
              "speechiness             0\n",
              "tempo                   0\n",
              "time_signature          0\n",
              "audio_valence           0\n",
              "dtype: int64"
            ]
          },
          "metadata": {},
          "execution_count": 25
        }
      ]
    },
    {
      "cell_type": "markdown",
      "metadata": {
        "id": "af4Kama4eV98"
      },
      "source": [
        "# 6 - Remoção de Colunas:\n",
        "\n",
        "Algumas colunas podem ser consideradas desnecessárias para nossa análise, isso porque elas não nos passam informações relevantes a respeito do que queremos descobrir, ou até mesmo porque possuem tantos dados faltantes que mais atrapalham do que ajudam. Nesses casos uma forma rápida e fácil de solucionar esse problema seria excluí-las. \n",
        "\n",
        "Aqui eliminaremos apenas uma a nivel de experimentação."
      ]
    },
    {
      "cell_type": "code",
      "metadata": {
        "colab": {
          "base_uri": "https://localhost:8080/",
          "height": 739
        },
        "id": "tyogkSKue0Wr",
        "outputId": "6574196c-8664-421a-c4aa-c8c60dc657fe"
      },
      "source": [
        "## Podemos deletar passando o index e a orientação onde axis = 0 representa linhas e axis = 1 representa colunas\n",
        "## Doc - https://pandas.pydata.org/docs/reference/api/pandas.DataFrame.drop.html\n",
        "df.drop(['liveness'], axis=1)"
      ],
      "execution_count": 26,
      "outputs": [
        {
          "output_type": "execute_result",
          "data": {
            "text/html": [
              "<div>\n",
              "<style scoped>\n",
              "    .dataframe tbody tr th:only-of-type {\n",
              "        vertical-align: middle;\n",
              "    }\n",
              "\n",
              "    .dataframe tbody tr th {\n",
              "        vertical-align: top;\n",
              "    }\n",
              "\n",
              "    .dataframe thead th {\n",
              "        text-align: right;\n",
              "    }\n",
              "</style>\n",
              "<table border=\"1\" class=\"dataframe\">\n",
              "  <thead>\n",
              "    <tr style=\"text-align: right;\">\n",
              "      <th></th>\n",
              "      <th>song_name</th>\n",
              "      <th>song_popularity</th>\n",
              "      <th>song_duration_ms</th>\n",
              "      <th>acousticness</th>\n",
              "      <th>danceability</th>\n",
              "      <th>energy</th>\n",
              "      <th>instrumentalness</th>\n",
              "      <th>key</th>\n",
              "      <th>loudness</th>\n",
              "      <th>audio_mode</th>\n",
              "      <th>speechiness</th>\n",
              "      <th>tempo</th>\n",
              "      <th>time_signature</th>\n",
              "      <th>audio_valence</th>\n",
              "    </tr>\n",
              "  </thead>\n",
              "  <tbody>\n",
              "    <tr>\n",
              "      <th>1757</th>\n",
              "      <td>Party In The U.S.A.</td>\n",
              "      <td>NaN</td>\n",
              "      <td>0.822</td>\n",
              "      <td>0.51900</td>\n",
              "      <td>0.360</td>\n",
              "      <td>0.000</td>\n",
              "      <td>10.000000</td>\n",
              "      <td>NaN</td>\n",
              "      <td>0.000</td>\n",
              "      <td>NaN</td>\n",
              "      <td>97.4200</td>\n",
              "      <td>4.000</td>\n",
              "      <td>NaN</td>\n",
              "      <td>NaN</td>\n",
              "    </tr>\n",
              "    <tr>\n",
              "      <th>7574</th>\n",
              "      <td>I Love It (&amp; Lil Pump)</td>\n",
              "      <td>99</td>\n",
              "      <td>127946.000</td>\n",
              "      <td>0.01140</td>\n",
              "      <td>0.901</td>\n",
              "      <td>0.522</td>\n",
              "      <td>0.000000</td>\n",
              "      <td>2.0</td>\n",
              "      <td>-8.304</td>\n",
              "      <td>1</td>\n",
              "      <td>0.3300</td>\n",
              "      <td>104.053</td>\n",
              "      <td>4</td>\n",
              "      <td>0.329</td>\n",
              "    </tr>\n",
              "    <tr>\n",
              "      <th>17588</th>\n",
              "      <td>Taki Taki (with Selena Gomez, Ozuna &amp; Cardi B)</td>\n",
              "      <td>98</td>\n",
              "      <td>212500.000</td>\n",
              "      <td>0.15300</td>\n",
              "      <td>0.841</td>\n",
              "      <td>0.798</td>\n",
              "      <td>0.000003</td>\n",
              "      <td>1.0</td>\n",
              "      <td>-4.206</td>\n",
              "      <td>0</td>\n",
              "      <td>0.2290</td>\n",
              "      <td>95.948</td>\n",
              "      <td>4</td>\n",
              "      <td>0.591</td>\n",
              "    </tr>\n",
              "    <tr>\n",
              "      <th>17394</th>\n",
              "      <td>Promises (with Sam Smith)</td>\n",
              "      <td>98</td>\n",
              "      <td>213309.000</td>\n",
              "      <td>0.01190</td>\n",
              "      <td>0.781</td>\n",
              "      <td>0.768</td>\n",
              "      <td>0.000005</td>\n",
              "      <td>11.0</td>\n",
              "      <td>-5.991</td>\n",
              "      <td>1</td>\n",
              "      <td>0.0394</td>\n",
              "      <td>123.070</td>\n",
              "      <td>4</td>\n",
              "      <td>0.486</td>\n",
              "    </tr>\n",
              "    <tr>\n",
              "      <th>12665</th>\n",
              "      <td>Eastside (with Halsey &amp; Khalid)</td>\n",
              "      <td>98</td>\n",
              "      <td>173799.000</td>\n",
              "      <td>0.55500</td>\n",
              "      <td>0.560</td>\n",
              "      <td>0.680</td>\n",
              "      <td>0.000000</td>\n",
              "      <td>6.0</td>\n",
              "      <td>-7.648</td>\n",
              "      <td>0</td>\n",
              "      <td>0.3210</td>\n",
              "      <td>89.391</td>\n",
              "      <td>4</td>\n",
              "      <td>0.319</td>\n",
              "    </tr>\n",
              "    <tr>\n",
              "      <th>...</th>\n",
              "      <td>...</td>\n",
              "      <td>...</td>\n",
              "      <td>...</td>\n",
              "      <td>...</td>\n",
              "      <td>...</td>\n",
              "      <td>...</td>\n",
              "      <td>...</td>\n",
              "      <td>...</td>\n",
              "      <td>...</td>\n",
              "      <td>...</td>\n",
              "      <td>...</td>\n",
              "      <td>...</td>\n",
              "      <td>...</td>\n",
              "      <td>...</td>\n",
              "    </tr>\n",
              "    <tr>\n",
              "      <th>11278</th>\n",
              "      <td>María</td>\n",
              "      <td>0</td>\n",
              "      <td>161986.000</td>\n",
              "      <td>0.90600</td>\n",
              "      <td>0.843</td>\n",
              "      <td>0.483</td>\n",
              "      <td>0.005230</td>\n",
              "      <td>3.0</td>\n",
              "      <td>-14.776</td>\n",
              "      <td>1</td>\n",
              "      <td>0.0638</td>\n",
              "      <td>141.295</td>\n",
              "      <td>4</td>\n",
              "      <td>0.964</td>\n",
              "    </tr>\n",
              "    <tr>\n",
              "      <th>12923</th>\n",
              "      <td>Unfuck The World</td>\n",
              "      <td>0</td>\n",
              "      <td>250213.000</td>\n",
              "      <td>0.00142</td>\n",
              "      <td>0.574</td>\n",
              "      <td>0.831</td>\n",
              "      <td>0.010800</td>\n",
              "      <td>7.0</td>\n",
              "      <td>-5.576</td>\n",
              "      <td>0</td>\n",
              "      <td>0.0325</td>\n",
              "      <td>101.988</td>\n",
              "      <td>4</td>\n",
              "      <td>0.518</td>\n",
              "    </tr>\n",
              "    <tr>\n",
              "      <th>11282</th>\n",
              "      <td>Kimbya (feat. Manny Roman)</td>\n",
              "      <td>0</td>\n",
              "      <td>261590.000</td>\n",
              "      <td>0.49600</td>\n",
              "      <td>0.418</td>\n",
              "      <td>0.958</td>\n",
              "      <td>0.058300</td>\n",
              "      <td>7.0</td>\n",
              "      <td>-5.678</td>\n",
              "      <td>1</td>\n",
              "      <td>0.0728</td>\n",
              "      <td>123.639</td>\n",
              "      <td>4</td>\n",
              "      <td>0.676</td>\n",
              "    </tr>\n",
              "    <tr>\n",
              "      <th>12905</th>\n",
              "      <td>Mad World</td>\n",
              "      <td>0</td>\n",
              "      <td>174253.000</td>\n",
              "      <td>0.00002</td>\n",
              "      <td>0.298</td>\n",
              "      <td>0.931</td>\n",
              "      <td>0.404000</td>\n",
              "      <td>2.0</td>\n",
              "      <td>-6.185</td>\n",
              "      <td>1</td>\n",
              "      <td>0.1300</td>\n",
              "      <td>135.970</td>\n",
              "      <td>4</td>\n",
              "      <td>0.404</td>\n",
              "    </tr>\n",
              "    <tr>\n",
              "      <th>9956</th>\n",
              "      <td>All in My Feelings</td>\n",
              "      <td>0</td>\n",
              "      <td>187123.000</td>\n",
              "      <td>0.51100</td>\n",
              "      <td>0.459</td>\n",
              "      <td>0.476</td>\n",
              "      <td>0.000000</td>\n",
              "      <td>2.0</td>\n",
              "      <td>-5.277</td>\n",
              "      <td>1</td>\n",
              "      <td>0.0467</td>\n",
              "      <td>139.624</td>\n",
              "      <td>4</td>\n",
              "      <td>0.247</td>\n",
              "    </tr>\n",
              "  </tbody>\n",
              "</table>\n",
              "<p>14932 rows × 14 columns</p>\n",
              "</div>"
            ],
            "text/plain": [
              "                                            song_name  ... audio_valence\n",
              "1757                              Party In The U.S.A.  ...           NaN\n",
              "7574                           I Love It (& Lil Pump)  ...         0.329\n",
              "17588  Taki Taki (with Selena Gomez, Ozuna & Cardi B)  ...         0.591\n",
              "17394                       Promises (with Sam Smith)  ...         0.486\n",
              "12665                 Eastside (with Halsey & Khalid)  ...         0.319\n",
              "...                                               ...  ...           ...\n",
              "11278                                           María  ...         0.964\n",
              "12923                                Unfuck The World  ...         0.518\n",
              "11282                      Kimbya (feat. Manny Roman)  ...         0.676\n",
              "12905                                       Mad World  ...         0.404\n",
              "9956                               All in My Feelings  ...         0.247\n",
              "\n",
              "[14932 rows x 14 columns]"
            ]
          },
          "metadata": {},
          "execution_count": 26
        }
      ]
    },
    {
      "cell_type": "code",
      "metadata": {
        "id": "4lom0f2Jfjqs",
        "colab": {
          "base_uri": "https://localhost:8080/",
          "height": 328
        },
        "outputId": "b13038d9-a8c6-4760-c233-d0911669a421"
      },
      "source": [
        "## Ou podemos deletar diretamente passando o parametro columns\n",
        "df.drop(columns=['liveness'], inplace=True)"
      ],
      "execution_count": 28,
      "outputs": [
        {
          "output_type": "error",
          "ename": "KeyError",
          "evalue": "ignored",
          "traceback": [
            "\u001b[0;31m---------------------------------------------------------------------------\u001b[0m",
            "\u001b[0;31mKeyError\u001b[0m                                  Traceback (most recent call last)",
            "\u001b[0;32m<ipython-input-28-9052eefc4426>\u001b[0m in \u001b[0;36m<module>\u001b[0;34m()\u001b[0m\n\u001b[1;32m      1\u001b[0m \u001b[0;31m## Ou podemos deletar diretamente passando o parametro columns\u001b[0m\u001b[0;34m\u001b[0m\u001b[0;34m\u001b[0m\u001b[0;34m\u001b[0m\u001b[0m\n\u001b[0;32m----> 2\u001b[0;31m \u001b[0mdf\u001b[0m\u001b[0;34m.\u001b[0m\u001b[0mdrop\u001b[0m\u001b[0;34m(\u001b[0m\u001b[0mcolumns\u001b[0m\u001b[0;34m=\u001b[0m\u001b[0;34m[\u001b[0m\u001b[0;34m'liveness'\u001b[0m\u001b[0;34m]\u001b[0m\u001b[0;34m,\u001b[0m \u001b[0minplace\u001b[0m\u001b[0;34m=\u001b[0m\u001b[0;32mTrue\u001b[0m\u001b[0;34m)\u001b[0m\u001b[0;34m\u001b[0m\u001b[0;34m\u001b[0m\u001b[0m\n\u001b[0m",
            "\u001b[0;32m/usr/local/lib/python3.7/dist-packages/pandas/core/frame.py\u001b[0m in \u001b[0;36mdrop\u001b[0;34m(self, labels, axis, index, columns, level, inplace, errors)\u001b[0m\n\u001b[1;32m   4172\u001b[0m             \u001b[0mlevel\u001b[0m\u001b[0;34m=\u001b[0m\u001b[0mlevel\u001b[0m\u001b[0;34m,\u001b[0m\u001b[0;34m\u001b[0m\u001b[0;34m\u001b[0m\u001b[0m\n\u001b[1;32m   4173\u001b[0m             \u001b[0minplace\u001b[0m\u001b[0;34m=\u001b[0m\u001b[0minplace\u001b[0m\u001b[0;34m,\u001b[0m\u001b[0;34m\u001b[0m\u001b[0;34m\u001b[0m\u001b[0m\n\u001b[0;32m-> 4174\u001b[0;31m             \u001b[0merrors\u001b[0m\u001b[0;34m=\u001b[0m\u001b[0merrors\u001b[0m\u001b[0;34m,\u001b[0m\u001b[0;34m\u001b[0m\u001b[0;34m\u001b[0m\u001b[0m\n\u001b[0m\u001b[1;32m   4175\u001b[0m         )\n\u001b[1;32m   4176\u001b[0m \u001b[0;34m\u001b[0m\u001b[0m\n",
            "\u001b[0;32m/usr/local/lib/python3.7/dist-packages/pandas/core/generic.py\u001b[0m in \u001b[0;36mdrop\u001b[0;34m(self, labels, axis, index, columns, level, inplace, errors)\u001b[0m\n\u001b[1;32m   3887\u001b[0m         \u001b[0;32mfor\u001b[0m \u001b[0maxis\u001b[0m\u001b[0;34m,\u001b[0m \u001b[0mlabels\u001b[0m \u001b[0;32min\u001b[0m \u001b[0maxes\u001b[0m\u001b[0;34m.\u001b[0m\u001b[0mitems\u001b[0m\u001b[0;34m(\u001b[0m\u001b[0;34m)\u001b[0m\u001b[0;34m:\u001b[0m\u001b[0;34m\u001b[0m\u001b[0;34m\u001b[0m\u001b[0m\n\u001b[1;32m   3888\u001b[0m             \u001b[0;32mif\u001b[0m \u001b[0mlabels\u001b[0m \u001b[0;32mis\u001b[0m \u001b[0;32mnot\u001b[0m \u001b[0;32mNone\u001b[0m\u001b[0;34m:\u001b[0m\u001b[0;34m\u001b[0m\u001b[0;34m\u001b[0m\u001b[0m\n\u001b[0;32m-> 3889\u001b[0;31m                 \u001b[0mobj\u001b[0m \u001b[0;34m=\u001b[0m \u001b[0mobj\u001b[0m\u001b[0;34m.\u001b[0m\u001b[0m_drop_axis\u001b[0m\u001b[0;34m(\u001b[0m\u001b[0mlabels\u001b[0m\u001b[0;34m,\u001b[0m \u001b[0maxis\u001b[0m\u001b[0;34m,\u001b[0m \u001b[0mlevel\u001b[0m\u001b[0;34m=\u001b[0m\u001b[0mlevel\u001b[0m\u001b[0;34m,\u001b[0m \u001b[0merrors\u001b[0m\u001b[0;34m=\u001b[0m\u001b[0merrors\u001b[0m\u001b[0;34m)\u001b[0m\u001b[0;34m\u001b[0m\u001b[0;34m\u001b[0m\u001b[0m\n\u001b[0m\u001b[1;32m   3890\u001b[0m \u001b[0;34m\u001b[0m\u001b[0m\n\u001b[1;32m   3891\u001b[0m         \u001b[0;32mif\u001b[0m \u001b[0minplace\u001b[0m\u001b[0;34m:\u001b[0m\u001b[0;34m\u001b[0m\u001b[0;34m\u001b[0m\u001b[0m\n",
            "\u001b[0;32m/usr/local/lib/python3.7/dist-packages/pandas/core/generic.py\u001b[0m in \u001b[0;36m_drop_axis\u001b[0;34m(self, labels, axis, level, errors)\u001b[0m\n\u001b[1;32m   3921\u001b[0m                 \u001b[0mnew_axis\u001b[0m \u001b[0;34m=\u001b[0m \u001b[0maxis\u001b[0m\u001b[0;34m.\u001b[0m\u001b[0mdrop\u001b[0m\u001b[0;34m(\u001b[0m\u001b[0mlabels\u001b[0m\u001b[0;34m,\u001b[0m \u001b[0mlevel\u001b[0m\u001b[0;34m=\u001b[0m\u001b[0mlevel\u001b[0m\u001b[0;34m,\u001b[0m \u001b[0merrors\u001b[0m\u001b[0;34m=\u001b[0m\u001b[0merrors\u001b[0m\u001b[0;34m)\u001b[0m\u001b[0;34m\u001b[0m\u001b[0;34m\u001b[0m\u001b[0m\n\u001b[1;32m   3922\u001b[0m             \u001b[0;32melse\u001b[0m\u001b[0;34m:\u001b[0m\u001b[0;34m\u001b[0m\u001b[0;34m\u001b[0m\u001b[0m\n\u001b[0;32m-> 3923\u001b[0;31m                 \u001b[0mnew_axis\u001b[0m \u001b[0;34m=\u001b[0m \u001b[0maxis\u001b[0m\u001b[0;34m.\u001b[0m\u001b[0mdrop\u001b[0m\u001b[0;34m(\u001b[0m\u001b[0mlabels\u001b[0m\u001b[0;34m,\u001b[0m \u001b[0merrors\u001b[0m\u001b[0;34m=\u001b[0m\u001b[0merrors\u001b[0m\u001b[0;34m)\u001b[0m\u001b[0;34m\u001b[0m\u001b[0;34m\u001b[0m\u001b[0m\n\u001b[0m\u001b[1;32m   3924\u001b[0m             \u001b[0mresult\u001b[0m \u001b[0;34m=\u001b[0m \u001b[0mself\u001b[0m\u001b[0;34m.\u001b[0m\u001b[0mreindex\u001b[0m\u001b[0;34m(\u001b[0m\u001b[0;34m**\u001b[0m\u001b[0;34m{\u001b[0m\u001b[0maxis_name\u001b[0m\u001b[0;34m:\u001b[0m \u001b[0mnew_axis\u001b[0m\u001b[0;34m}\u001b[0m\u001b[0;34m)\u001b[0m\u001b[0;34m\u001b[0m\u001b[0;34m\u001b[0m\u001b[0m\n\u001b[1;32m   3925\u001b[0m \u001b[0;34m\u001b[0m\u001b[0m\n",
            "\u001b[0;32m/usr/local/lib/python3.7/dist-packages/pandas/core/indexes/base.py\u001b[0m in \u001b[0;36mdrop\u001b[0;34m(self, labels, errors)\u001b[0m\n\u001b[1;32m   5285\u001b[0m         \u001b[0;32mif\u001b[0m \u001b[0mmask\u001b[0m\u001b[0;34m.\u001b[0m\u001b[0many\u001b[0m\u001b[0;34m(\u001b[0m\u001b[0;34m)\u001b[0m\u001b[0;34m:\u001b[0m\u001b[0;34m\u001b[0m\u001b[0;34m\u001b[0m\u001b[0m\n\u001b[1;32m   5286\u001b[0m             \u001b[0;32mif\u001b[0m \u001b[0merrors\u001b[0m \u001b[0;34m!=\u001b[0m \u001b[0;34m\"ignore\"\u001b[0m\u001b[0;34m:\u001b[0m\u001b[0;34m\u001b[0m\u001b[0;34m\u001b[0m\u001b[0m\n\u001b[0;32m-> 5287\u001b[0;31m                 \u001b[0;32mraise\u001b[0m \u001b[0mKeyError\u001b[0m\u001b[0;34m(\u001b[0m\u001b[0;34mf\"{labels[mask]} not found in axis\"\u001b[0m\u001b[0;34m)\u001b[0m\u001b[0;34m\u001b[0m\u001b[0;34m\u001b[0m\u001b[0m\n\u001b[0m\u001b[1;32m   5288\u001b[0m             \u001b[0mindexer\u001b[0m \u001b[0;34m=\u001b[0m \u001b[0mindexer\u001b[0m\u001b[0;34m[\u001b[0m\u001b[0;34m~\u001b[0m\u001b[0mmask\u001b[0m\u001b[0;34m]\u001b[0m\u001b[0;34m\u001b[0m\u001b[0;34m\u001b[0m\u001b[0m\n\u001b[1;32m   5289\u001b[0m         \u001b[0;32mreturn\u001b[0m \u001b[0mself\u001b[0m\u001b[0;34m.\u001b[0m\u001b[0mdelete\u001b[0m\u001b[0;34m(\u001b[0m\u001b[0mindexer\u001b[0m\u001b[0;34m)\u001b[0m\u001b[0;34m\u001b[0m\u001b[0;34m\u001b[0m\u001b[0m\n",
            "\u001b[0;31mKeyError\u001b[0m: \"['liveness'] not found in axis\""
          ]
        }
      ]
    },
    {
      "cell_type": "markdown",
      "metadata": {
        "id": "M2ydLiGkQNLg"
      },
      "source": [
        "# 7 - Dados faltantes Missing Values:\n",
        "\n",
        "\n",
        "Em algumas situações, podemos ter muitas informações incompletas no nosso df. Essas informações faltantes podem prejudicar nossa análise e outras etapas que dependem dela e do pré-processamento, portanto, precisamos removê-los ou substituir esses valores por outros. O fluxo a seguir pode auxiliar na decisão e trazer sugestões de como tratar cada caso.\n",
        "\n",
        "![alt text](https://res.cloudinary.com/dyd911kmh/image/upload/v1633673400/handling-missing-values-diagram_xr4ryx.png \"Fluxo de Tratamento Dados Faltantes https://www.datacamp.com/community/tutorials/data-preparation-with-pandas\")\n",
        "\n",
        "Para dados que não são séries temporais, nossa primeira opção é substitui-los pela média da coluna, entretanto, às vezes, a média pode ter sido afetada pelos valores destoantes da coluna (outliers), então podemos substituir também pela moda ou mediana. \n",
        "\n",
        "Podemos fazer isso com a função .fillna que preenche todos os campos com dados ausentes. Vamos criar alguns loops como exemplo.\n",
        "O primeiro passa por algumas colunas e substitui os valores faltantes pela moda:\n",
        "\n",
        "\n",
        "\n",
        "\n"
      ]
    },
    {
      "cell_type": "code",
      "metadata": {
        "colab": {
          "base_uri": "https://localhost:8080/"
        },
        "id": "MX01tkTCqd4S",
        "outputId": "12ebe983-b8ab-423d-ab65-3b16ac2e45b7"
      },
      "source": [
        "df.isna().sum()"
      ],
      "execution_count": 29,
      "outputs": [
        {
          "output_type": "execute_result",
          "data": {
            "text/plain": [
              "song_name           0\n",
              "song_popularity     1\n",
              "song_duration_ms    0\n",
              "acousticness        0\n",
              "danceability        0\n",
              "energy              1\n",
              "instrumentalness    2\n",
              "key                 1\n",
              "loudness            1\n",
              "audio_mode          2\n",
              "speechiness         1\n",
              "tempo               1\n",
              "time_signature      3\n",
              "audio_valence       1\n",
              "dtype: int64"
            ]
          },
          "metadata": {},
          "execution_count": 29
        }
      ]
    },
    {
      "cell_type": "code",
      "metadata": {
        "id": "NczZI6TkQLnU"
      },
      "source": [
        "## Substituição Pela Moda\n",
        "## Doc .fillna - https://pandas.pydata.org/docs/reference/api/pandas.DataFrame.fillna.html\n",
        "\n",
        "for column in ['acousticness', 'speechiness']:\n",
        "    df[column].fillna(df[column].mode()[0], inplace=True)"
      ],
      "execution_count": 30,
      "outputs": []
    },
    {
      "cell_type": "code",
      "metadata": {
        "id": "H_01T1WjhHk7"
      },
      "source": [
        "## Substituição pela Mediana \n",
        "for column in ['song_duration_ms',  'danceability', 'energy', \n",
        "                'loudness', 'audio_valence']:\n",
        "    df[column].fillna(df[column].median(), inplace=True)"
      ],
      "execution_count": 31,
      "outputs": []
    },
    {
      "cell_type": "code",
      "metadata": {
        "colab": {
          "base_uri": "https://localhost:8080/"
        },
        "id": "-g0t_pwMqw4I",
        "outputId": "7127cbbf-37f1-4368-de4e-2fa3ee4c2db0"
      },
      "source": [
        "df.isna().sum()"
      ],
      "execution_count": 32,
      "outputs": [
        {
          "output_type": "execute_result",
          "data": {
            "text/plain": [
              "song_name           0\n",
              "song_popularity     1\n",
              "song_duration_ms    0\n",
              "acousticness        0\n",
              "danceability        0\n",
              "energy              0\n",
              "instrumentalness    2\n",
              "key                 1\n",
              "loudness            0\n",
              "audio_mode          2\n",
              "speechiness         0\n",
              "tempo               1\n",
              "time_signature      3\n",
              "audio_valence       0\n",
              "dtype: int64"
            ]
          },
          "metadata": {},
          "execution_count": 32
        }
      ]
    },
    {
      "cell_type": "code",
      "metadata": {
        "id": "Y0Qkh3o5hXcT"
      },
      "source": [
        "## Para excluir apenas os valores faltantes temos a função\n",
        "## Doc - https://pandas.pydata.org/docs/reference/api/pandas.DataFrame.dropna.html?highlight=dropna#pandas.DataFrame.dropna\n",
        "df.dropna(inplace=True)"
      ],
      "execution_count": 33,
      "outputs": []
    },
    {
      "cell_type": "code",
      "metadata": {
        "colab": {
          "base_uri": "https://localhost:8080/"
        },
        "id": "lPOlzzPuLWxv",
        "outputId": "ad720adf-a112-47a2-cafc-157d5553fd1b"
      },
      "source": [
        "df.isna().sum()"
      ],
      "execution_count": 34,
      "outputs": [
        {
          "output_type": "execute_result",
          "data": {
            "text/plain": [
              "song_name           0\n",
              "song_popularity     0\n",
              "song_duration_ms    0\n",
              "acousticness        0\n",
              "danceability        0\n",
              "energy              0\n",
              "instrumentalness    0\n",
              "key                 0\n",
              "loudness            0\n",
              "audio_mode          0\n",
              "speechiness         0\n",
              "tempo               0\n",
              "time_signature      0\n",
              "audio_valence       0\n",
              "dtype: int64"
            ]
          },
          "metadata": {},
          "execution_count": 34
        }
      ]
    },
    {
      "cell_type": "markdown",
      "metadata": {
        "id": "ZvnAxivShr5u"
      },
      "source": [
        "# Conclusão\n",
        "\n",
        "Ao final temos o dataset pronto para a análise exploratória, aqui ainda não tratamos outliers pois dependendo do cenário podemos fazer uso deles."
      ]
    },
    {
      "cell_type": "code",
      "metadata": {
        "colab": {
          "base_uri": "https://localhost:8080/"
        },
        "id": "3KVqZ0tdY_Nz",
        "outputId": "2986b164-44c0-4e03-d981-28318dfeebce"
      },
      "source": [
        "df.info()"
      ],
      "execution_count": 37,
      "outputs": [
        {
          "output_type": "stream",
          "name": "stdout",
          "text": [
            "<class 'pandas.core.frame.DataFrame'>\n",
            "Int64Index: 14925 entries, 7574 to 9956\n",
            "Data columns (total 14 columns):\n",
            " #   Column            Non-Null Count  Dtype   \n",
            "---  ------            --------------  -----   \n",
            " 0   song_name         14925 non-null  object  \n",
            " 1   song_popularity   14925 non-null  category\n",
            " 2   song_duration_ms  14925 non-null  float64 \n",
            " 3   acousticness      14925 non-null  float64 \n",
            " 4   danceability      14925 non-null  float64 \n",
            " 5   energy            14925 non-null  float64 \n",
            " 6   instrumentalness  14925 non-null  float64 \n",
            " 7   key               14925 non-null  category\n",
            " 8   loudness          14925 non-null  float64 \n",
            " 9   audio_mode        14925 non-null  category\n",
            " 10  speechiness       14925 non-null  float64 \n",
            " 11  tempo             14925 non-null  float64 \n",
            " 12  time_signature    14925 non-null  category\n",
            " 13  audio_valence     14925 non-null  float64 \n",
            "dtypes: category(4), float64(9), object(1)\n",
            "memory usage: 1.3+ MB\n"
          ]
        }
      ]
    },
    {
      "cell_type": "code",
      "metadata": {
        "colab": {
          "base_uri": "https://localhost:8080/",
          "height": 434
        },
        "id": "DacBrUXyZAm3",
        "outputId": "5d485fb0-18c6-48c1-ea52-50d939c88fb3"
      },
      "source": [
        "df.head()"
      ],
      "execution_count": 38,
      "outputs": [
        {
          "output_type": "execute_result",
          "data": {
            "text/html": [
              "<div>\n",
              "<style scoped>\n",
              "    .dataframe tbody tr th:only-of-type {\n",
              "        vertical-align: middle;\n",
              "    }\n",
              "\n",
              "    .dataframe tbody tr th {\n",
              "        vertical-align: top;\n",
              "    }\n",
              "\n",
              "    .dataframe thead th {\n",
              "        text-align: right;\n",
              "    }\n",
              "</style>\n",
              "<table border=\"1\" class=\"dataframe\">\n",
              "  <thead>\n",
              "    <tr style=\"text-align: right;\">\n",
              "      <th></th>\n",
              "      <th>song_name</th>\n",
              "      <th>song_popularity</th>\n",
              "      <th>song_duration_ms</th>\n",
              "      <th>acousticness</th>\n",
              "      <th>danceability</th>\n",
              "      <th>energy</th>\n",
              "      <th>instrumentalness</th>\n",
              "      <th>key</th>\n",
              "      <th>loudness</th>\n",
              "      <th>audio_mode</th>\n",
              "      <th>speechiness</th>\n",
              "      <th>tempo</th>\n",
              "      <th>time_signature</th>\n",
              "      <th>audio_valence</th>\n",
              "    </tr>\n",
              "  </thead>\n",
              "  <tbody>\n",
              "    <tr>\n",
              "      <th>7574</th>\n",
              "      <td>I Love It (&amp; Lil Pump)</td>\n",
              "      <td>99</td>\n",
              "      <td>127946.0</td>\n",
              "      <td>0.0114</td>\n",
              "      <td>0.901</td>\n",
              "      <td>0.522</td>\n",
              "      <td>0.000000</td>\n",
              "      <td>2.0</td>\n",
              "      <td>-8.304</td>\n",
              "      <td>1</td>\n",
              "      <td>0.3300</td>\n",
              "      <td>104.053</td>\n",
              "      <td>4</td>\n",
              "      <td>0.329</td>\n",
              "    </tr>\n",
              "    <tr>\n",
              "      <th>17588</th>\n",
              "      <td>Taki Taki (with Selena Gomez, Ozuna &amp; Cardi B)</td>\n",
              "      <td>98</td>\n",
              "      <td>212500.0</td>\n",
              "      <td>0.1530</td>\n",
              "      <td>0.841</td>\n",
              "      <td>0.798</td>\n",
              "      <td>0.000003</td>\n",
              "      <td>1.0</td>\n",
              "      <td>-4.206</td>\n",
              "      <td>0</td>\n",
              "      <td>0.2290</td>\n",
              "      <td>95.948</td>\n",
              "      <td>4</td>\n",
              "      <td>0.591</td>\n",
              "    </tr>\n",
              "    <tr>\n",
              "      <th>17394</th>\n",
              "      <td>Promises (with Sam Smith)</td>\n",
              "      <td>98</td>\n",
              "      <td>213309.0</td>\n",
              "      <td>0.0119</td>\n",
              "      <td>0.781</td>\n",
              "      <td>0.768</td>\n",
              "      <td>0.000005</td>\n",
              "      <td>11.0</td>\n",
              "      <td>-5.991</td>\n",
              "      <td>1</td>\n",
              "      <td>0.0394</td>\n",
              "      <td>123.070</td>\n",
              "      <td>4</td>\n",
              "      <td>0.486</td>\n",
              "    </tr>\n",
              "    <tr>\n",
              "      <th>12665</th>\n",
              "      <td>Eastside (with Halsey &amp; Khalid)</td>\n",
              "      <td>98</td>\n",
              "      <td>173799.0</td>\n",
              "      <td>0.5550</td>\n",
              "      <td>0.560</td>\n",
              "      <td>0.680</td>\n",
              "      <td>0.000000</td>\n",
              "      <td>6.0</td>\n",
              "      <td>-7.648</td>\n",
              "      <td>0</td>\n",
              "      <td>0.3210</td>\n",
              "      <td>89.391</td>\n",
              "      <td>4</td>\n",
              "      <td>0.319</td>\n",
              "    </tr>\n",
              "    <tr>\n",
              "      <th>17618</th>\n",
              "      <td>In My Feelings</td>\n",
              "      <td>98</td>\n",
              "      <td>217925.0</td>\n",
              "      <td>0.0589</td>\n",
              "      <td>0.835</td>\n",
              "      <td>0.626</td>\n",
              "      <td>0.000060</td>\n",
              "      <td>1.0</td>\n",
              "      <td>-5.833</td>\n",
              "      <td>1</td>\n",
              "      <td>0.1250</td>\n",
              "      <td>91.030</td>\n",
              "      <td>4</td>\n",
              "      <td>0.350</td>\n",
              "    </tr>\n",
              "  </tbody>\n",
              "</table>\n",
              "</div>"
            ],
            "text/plain": [
              "                                            song_name  ... audio_valence\n",
              "7574                           I Love It (& Lil Pump)  ...         0.329\n",
              "17588  Taki Taki (with Selena Gomez, Ozuna & Cardi B)  ...         0.591\n",
              "17394                       Promises (with Sam Smith)  ...         0.486\n",
              "12665                 Eastside (with Halsey & Khalid)  ...         0.319\n",
              "17618                                  In My Feelings  ...         0.350\n",
              "\n",
              "[5 rows x 14 columns]"
            ]
          },
          "metadata": {},
          "execution_count": 38
        }
      ]
    }
  ]
}