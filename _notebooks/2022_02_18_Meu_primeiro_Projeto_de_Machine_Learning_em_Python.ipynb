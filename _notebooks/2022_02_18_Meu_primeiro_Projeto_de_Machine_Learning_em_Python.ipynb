{
  "nbformat": 4,
  "nbformat_minor": 0,
  "metadata": {
    "colab": {
      "name": "Cópia de Meu_primeiro_Projeto_de_Machine_Learning_em_Python.ipynb",
      "provenance": [],
      "include_colab_link": true
    },
    "kernelspec": {
      "name": "python3",
      "display_name": "Python 3"
    },
    "language_info": {
      "name": "python"
    }
  },
  "cells": [
    {
      "cell_type": "markdown",
      "metadata": {
        "id": "view-in-github",
        "colab_type": "text"
      },
      "source": [
        "<a href=\"https://colab.research.google.com/github/Vinicius-L-R-Matos/-Repositorio-DS/blob/master/_notebooks/2022_02_18_Meu_primeiro_Projeto_de_Machine_Learning_em_Python.ipynb\" target=\"_parent\"><img src=\"https://colab.research.google.com/assets/colab-badge.svg\" alt=\"Open In Colab\"/></a>"
      ]
    },
    {
      "cell_type": "markdown",
      "source": [
        "# Meu primeiro Projeto de Machine Learning em Python\n",
        ">   \"Uma demosntração prática e com passo à passo de modelos de classificação e preditivos\"\n",
        "\n",
        "- toc: false\n",
        "- branch: master\n",
        "- badges: true\n",
        "- comments: false\n",
        "- categories: [fastepages, jupyter, Machine Learning]\n",
        "- hide: false\n",
        "- author: Vinicius Matos\n",
        "---"
      ],
      "metadata": {
        "id": "yjWg5LACzQo3"
      }
    },
    {
      "cell_type": "markdown",
      "source": [
        ">   \"Ouvi, esqueci.\n",
        ">   Ví, lembrei.\n",
        ">   Fiz, aprendi\"\n",
        ">   (孔夫子, Kǒng Fūzǐ, \"Confúcio\". * 551 a.C até +\t479 a.C.)\n",
        "\n",
        "## Introdução\n",
        "\n",
        "Nada é mais revelador a respeito da consdição humana do que nossa capacidade de super obstáculos.\n",
        "\n",
        "Algo que foi percebido já desde tempos antigos. E que tem sido usado como jornada heroica de muitos entusiastas, inclussive na área de programação, em especial do Machine Learning. \n",
        "\n",
        "Todos passam por uma pequena jornada heróica diante tudo que é novo.\n",
        "No começo, temos difuculdades. Depois, passamos por provações. Por final, a mente agora expandida se recusa ao regredir ao seu estado anterior.\n",
        "\n",
        "Parte importante disso foi chamado de [\"Vale do desespero\"](https://understandinginnovation.blog/2015/07/03/the-dunning-kruger-effect-in-innovation/), dentro do chamado: ['Efeito Dunning-Kruger'](https://www.themurligroup.com/Blog/BlogView.asp?BlogId=4096841&title=Are+You+Learning+Throughout+the+Curve+Or+Is+the+Learning+Throwing+You+a+Curve%3F). Que é a fase mais dificl da curva e aprendizagem de qualquer assunto. \n",
        "Onde a maioria das pessoas desistem de sua empreitada de inovação.\n",
        "\n",
        "Depois de muito insistir, com um desafeixo tão memorável quanto, colecionamos nossas pequenas e merecidas conquistas ao rumo do domínio de um saber.\n",
        "\n",
        "Deste modo poderemos compartilhar o conheciemnto como processo e replica-lo de modo livre. Chegaremos ao ponto de um dia sermos lembrados como criadores, visionários, pioneiros em algo. Para que assim também repitam o mesmo processo.\n",
        "\n",
        "Este notebook é portanto a celebração do resultado de quase um ano de estudos do absoluto zero em programação, quando digo zero acho que estou sendo gentil,  até chegar a esta criação: \n",
        "\n",
        "**A minha primeira máquina virtual que faz uso de aprendizado não supervisionado e de dados Dados Multidimensionais para problemas de classificação. **\n",
        "\n",
        "Foi uma ardua caminhada por um longo vale do desespero. E foi graças ao incentivos que recebi de diversas fontes, que pudesse concluir, ao menos em parte, esta minha jornada.\n",
        "\n",
        "De modo simplista Gostaria de agradecer:\n",
        "-   Minha esposa, a bióloga que divide comigo a paixão por compreender o mundo. Dedico a nos a escolha deste tema.\n",
        "-   Meus filhos e nossas famílias, que me inspiram a ser sempre um pouco melhor do que minha versão anterior, ao estarem sempre por perto me apoiando.\n",
        "-   Meu mentor de aprendizado,  Vasco Braga, mentora de carreira, Larissa Cardoso e toda a equipe da escola Awari. Sem vocês não consiguiria nem 10% do que consegui aprender chegando até aqui.\n",
        "\n",
        "Todas as informações aqui contidas são de acesso e verificação livre. Estão disponíveis para serem usadas por qualquer um que deseje recriar ou conferir os resultados demonstrados.\n",
        "\n",
        "Eu acredito em você. Não desista. Nunca pare de caminhar."
      ],
      "metadata": {
        "id": "MAWaX9k9zdTO"
      }
    },
    {
      "cell_type": "markdown",
      "source": [
        "##O que é Machine Learning?\n",
        "\n",
        "Machine Learning (ML) é um subgrupo da IA que utiliza técnicas estatísticas para dar aos computadores a habilidade de aprender com dados, sem serem explicitamente programados."
      ],
      "metadata": {
        "id": "zelzF5se0LSe"
      }
    },
    {
      "cell_type": "markdown",
      "source": [
        "##No que se baseia este projeto?\n",
        "\n",
        "Aqui irei usar um conjunto de dados de uma API muito conhecida e explorada na literatura a respeito do tema, o [data set Iris](https://archive.ics.uci.edu/ml/datasets/Iris), a fim de usar estatistica descritiva para ensinar um programa em Python a como catalogar diferentes itens, flores no caso, da mesma forma que um humano faria. \n",
        "\n",
        "Para isso serão testados métodos e será eleito aquele que for mais eficiente. \n",
        "\n",
        "A fim disso acontecer, o projeto foi separado em 5 fases diferentes:\n",
        "\n",
        "1.   Definição do problema\n",
        "2.   Preparação dos dados\n",
        "3.   Avaliação dos algoritmos\n",
        "4.   Melhora dos resultados\n",
        "5.   Entrega dos resultados"
      ],
      "metadata": {
        "id": "8v0ERtnk0iN2"
      }
    },
    {
      "cell_type": "markdown",
      "source": [
        "Algumas copetências serão observadas:\n",
        "\n",
        "\n",
        "*   Capacidade de carregar e manipular dados numéricos.\n",
        "*   Como resolver um problema de classificação por um algoritmo de aprendizado supervisionado.\n",
        "*   Como classificar múltiplas classes (multi-nominal).\n",
        "*   O banco de bados usado possui 4 atributos e 150 linhas, o que significa que é pequeno o suficiente para caber facilmente na memória no processamento de qualquer dispositivo web, ou ser facilmente conferido numa tela ou impressão em página A4.\n",
        "*   Todos os atributos são numéricos, estão nas mesmas unidades e na mesma escala, não requerendo nenhum dimensionamento especial ou transformações para começar, sem nulos ou duplicados. Preentende-se que estas Habilidades de feature engeniring já foram devidamente aplicas.\n",
        "\n"
      ],
      "metadata": {
        "id": "67Ppayrpz6BO"
      }
    },
    {
      "cell_type": "markdown",
      "source": [
        "##1.   Definição do problema\n",
        "\n",
        "A taxonomia é o ramo de estudos que diferenciam seres de acordo com suas caracteristicas. Originalemtne o trabalho é manual e se baseia na comparação de caracteristicas físicas já previamente catalogadas. \n",
        "\n",
        ">   Pode-se aprender mais sobre isso clicando [Aqui](https://en.wikipedia.org/wiki/Iris_flower_data_set).\n",
        "\n",
        "O banco de dados usado neste notebook portanto respeita o mesmo método, fazendo com que cada um dos indivíduos possuam medidas diferentes das seguintes caracteristicas:\n",
        "\n",
        "1. sepal length: Medida em cm\n",
        "2. sepal width: Medida em cm\n",
        "3. petal length: Medida em cm\n",
        "4. petal width: Medida em cm\n",
        "5. class: podem ser: Setosa, Versicolour, Virginica.\n",
        "\n",
        "Cada um destes recebe uma classe de acordo com suas caracteristicas de medida de sépala e pétala. \n",
        "\n",
        "O que torna possível, dentro de uma população, separa-los em 3 grupos diferentes de acordo com as suas classes.\n",
        "\n",
        "###**Uma vez sabendo disso, seria possivél um programa realizar tal tarefa da mesma forma que um humano faria? **\n",
        "\n",
        "Para decobrir isso, necessitamos:\n",
        "*   Fazer a máquina classificar sozinha (Aprender) a qual classe pertence cada indivíduo, sempre de acordo com as suas caracteristicas de medida.\n",
        "*   Testar a eficiencia do método de classificação desenvolvido por ela, encontrar o melhor destes e comparar com uma classificação real. \n"
      ],
      "metadata": {
        "id": "1I30pWN_4gjz"
      }
    },
    {
      "cell_type": "markdown",
      "source": [
        "##2.   Preparação dos dados\n",
        "\n",
        "Para esta aplicação em Python funcionar corretamente, todas as seguintes bibliotecas devem ser capazes de rodar sem erros:"
      ],
      "metadata": {
        "id": "0FQlwmGR7Y88"
      }
    },
    {
      "cell_type": "code",
      "execution_count": null,
      "metadata": {
        "id": "dIMtBUF8zG1V"
      },
      "outputs": [],
      "source": [
        "# Bibliotecas mais usadas em ML:\n",
        "import sys\n",
        "import scipy\n",
        "import numpy as np\n",
        "import matplotlib.pyplot as plt\n",
        "import pandas as pd\n",
        "import sklearn"
      ]
    },
    {
      "cell_type": "code",
      "source": [
        "# Módulos, Funções e Objetos mais usados em ML:\n",
        "from pandas.plotting import scatter_matrix\n",
        "import matplotlib.pyplot as plt\n",
        "from sklearn import model_selection\n",
        "from sklearn.model_selection import train_test_split\n",
        "from sklearn.model_selection import cross_val_score\n",
        "from sklearn.model_selection import GridSearchCV\n",
        "from sklearn.metrics import classification_report\n",
        "from sklearn.metrics import confusion_matrix\n",
        "from sklearn.metrics import accuracy_score\n",
        "from sklearn.metrics import plot_confusion_matrix\n",
        "from sklearn.linear_model import LogisticRegression\n",
        "from sklearn.tree import DecisionTreeClassifier\n",
        "from sklearn.neighbors import KNeighborsClassifier\n",
        "from sklearn.discriminant_analysis import LinearDiscriminantAnalysis\n",
        "from sklearn.naive_bayes import GaussianNB\n",
        "from sklearn.svm import SVC"
      ],
      "metadata": {
        "id": "BZXmx6cQJqhZ"
      },
      "execution_count": null,
      "outputs": []
    },
    {
      "cell_type": "markdown",
      "source": [
        "###2.1. Carregando o conjunto de dados\n",
        "\n",
        "A biblioteca do Pandas será usada aqui tanto para carregar, quanto para analizar os dados com estatísticas descritivas também para a visualização de dados."
      ],
      "metadata": {
        "id": "SybLbDDmLTaX"
      }
    },
    {
      "cell_type": "code",
      "source": [
        "url = 'http://archive.ics.uci.edu/ml/machine-learning-databases/iris/iris.data'\n",
        "\n",
        "attributes = [\"sepal_length\", \"sepal_width\", \"petal_length\", \"petal_width\", \"class\"]\n",
        "\n",
        "dataset = pd.read_csv(url, names = attributes)\n",
        "\n",
        "dataset.columns = attributes"
      ],
      "metadata": {
        "id": "TdWq1-OeL4Kc"
      },
      "execution_count": null,
      "outputs": []
    },
    {
      "cell_type": "markdown",
      "source": [
        "###2.2. Resumindo o conjunto de dados\n",
        "\n",
        "Nesta momento já é possível olhar para os dados de algumas maneiras diferentes:\n",
        "\n",
        "-   Saber as dimensões do conjunto de dados.\n",
        "-   Espreitar os dados em si.\n",
        "-   Resumo estatístico de todos os atributos.\n",
        "-   Agrupar os dados de acordo variável de classe."
      ],
      "metadata": {
        "id": "v2olDcLdL3sx"
      }
    },
    {
      "cell_type": "code",
      "source": [
        "# Saber as dimensões do conjunto de dados\n",
        "print(dataset.shape)"
      ],
      "metadata": {
        "colab": {
          "base_uri": "https://localhost:8080/"
        },
        "id": "KY7atiyOM0N3",
        "outputId": "54005570-2a79-485a-d4c6-a143f9660199"
      },
      "execution_count": null,
      "outputs": [
        {
          "output_type": "stream",
          "name": "stdout",
          "text": [
            "(150, 5)\n"
          ]
        }
      ]
    },
    {
      "cell_type": "code",
      "source": [
        "# Espreitar os dados em si.\n",
        "print(dataset.head(20))"
      ],
      "metadata": {
        "colab": {
          "base_uri": "https://localhost:8080/"
        },
        "id": "MHx3DOq7NCWj",
        "outputId": "332a4053-ce54-401f-eacc-4502f61ebc5e"
      },
      "execution_count": null,
      "outputs": [
        {
          "output_type": "stream",
          "name": "stdout",
          "text": [
            "    sepal_length  sepal_width  petal_length  petal_width        class\n",
            "0            5.1          3.5           1.4          0.2  Iris-setosa\n",
            "1            4.9          3.0           1.4          0.2  Iris-setosa\n",
            "2            4.7          3.2           1.3          0.2  Iris-setosa\n",
            "3            4.6          3.1           1.5          0.2  Iris-setosa\n",
            "4            5.0          3.6           1.4          0.2  Iris-setosa\n",
            "5            5.4          3.9           1.7          0.4  Iris-setosa\n",
            "6            4.6          3.4           1.4          0.3  Iris-setosa\n",
            "7            5.0          3.4           1.5          0.2  Iris-setosa\n",
            "8            4.4          2.9           1.4          0.2  Iris-setosa\n",
            "9            4.9          3.1           1.5          0.1  Iris-setosa\n",
            "10           5.4          3.7           1.5          0.2  Iris-setosa\n",
            "11           4.8          3.4           1.6          0.2  Iris-setosa\n",
            "12           4.8          3.0           1.4          0.1  Iris-setosa\n",
            "13           4.3          3.0           1.1          0.1  Iris-setosa\n",
            "14           5.8          4.0           1.2          0.2  Iris-setosa\n",
            "15           5.7          4.4           1.5          0.4  Iris-setosa\n",
            "16           5.4          3.9           1.3          0.4  Iris-setosa\n",
            "17           5.1          3.5           1.4          0.3  Iris-setosa\n",
            "18           5.7          3.8           1.7          0.3  Iris-setosa\n",
            "19           5.1          3.8           1.5          0.3  Iris-setosa\n"
          ]
        }
      ]
    },
    {
      "cell_type": "code",
      "source": [
        "# Resumo estatístico de todos os atributos\n",
        "print(dataset.describe())"
      ],
      "metadata": {
        "colab": {
          "base_uri": "https://localhost:8080/"
        },
        "id": "e08ocrVkNKje",
        "outputId": "950822e2-3cf8-4aaf-a96f-ac23c083badb"
      },
      "execution_count": null,
      "outputs": [
        {
          "output_type": "stream",
          "name": "stdout",
          "text": [
            "       sepal_length  sepal_width  petal_length  petal_width\n",
            "count    150.000000   150.000000    150.000000   150.000000\n",
            "mean       5.843333     3.054000      3.758667     1.198667\n",
            "std        0.828066     0.433594      1.764420     0.763161\n",
            "min        4.300000     2.000000      1.000000     0.100000\n",
            "25%        5.100000     2.800000      1.600000     0.300000\n",
            "50%        5.800000     3.000000      4.350000     1.300000\n",
            "75%        6.400000     3.300000      5.100000     1.800000\n",
            "max        7.900000     4.400000      6.900000     2.500000\n"
          ]
        }
      ]
    },
    {
      "cell_type": "markdown",
      "source": [
        "Este comando mostra cada atributo.\n",
        "Isso inclui a contagem, a média, os valores mínimo e máximo, bem como alguns percentis.\n",
        "Podemos ver neste caso que todos os valores numéricos têm a mesma escala (centímetros) e intervalos semelhantes entre 0 e 8 centímetros."
      ],
      "metadata": {
        "id": "YgZKZlY4NSrc"
      }
    },
    {
      "cell_type": "code",
      "source": [
        "# Agrupar os dados de acordo variável de classe\n",
        "print(dataset.groupby('class').size())"
      ],
      "metadata": {
        "colab": {
          "base_uri": "https://localhost:8080/"
        },
        "id": "7-R-F6WZNOoM",
        "outputId": "869e1c1f-7362-4229-eb9d-686b511f8534"
      },
      "execution_count": null,
      "outputs": [
        {
          "output_type": "stream",
          "name": "stdout",
          "text": [
            "class\n",
            "Iris-setosa        50\n",
            "Iris-versicolor    50\n",
            "Iris-virginica     50\n",
            "dtype: int64\n"
          ]
        }
      ]
    },
    {
      "cell_type": "markdown",
      "source": [
        "Podemos ver aqui que cada classe tem o mesmo número de instâncias. 50 ou 33% do conjunto de dados.\n",
        "Agora temos uma ideia básica sobre os dados. \n",
        "Precisamos estender isso com algumas visualizações."
      ],
      "metadata": {
        "id": "LesCam_uO1Ff"
      }
    },
    {
      "cell_type": "markdown",
      "source": [
        "##2.3. Visualização de Dados\n",
        "\n",
        "Vamos trabalhar agora com dois tipos de visualização com gráficos para estes dados:\n",
        "*   Gráficos univariados: Para entender melhor cada atributos.\n",
        "*   Gráficos multivariados: Para entender melhor as relações entre os atributos."
      ],
      "metadata": {
        "id": "fZZa9dtOPLzu"
      }
    },
    {
      "cell_type": "markdown",
      "source": [
        "###2.3.1 Gráficos univariados\n",
        "\n",
        "Vamos conhecer o valor de cada variável individualmente.\n",
        "\n",
        "As variáveis ​​de entrada são numéricas, portanto, podemos criar gráficos de 'caixa' e 'bigode' de cada um."
      ],
      "metadata": {
        "id": "mZqBADhpP3xX"
      }
    },
    {
      "cell_type": "markdown",
      "source": [
        "Podemos criar um histograma de cada variável de entrada, para ter uma ideia da distribuição destes valores:"
      ],
      "metadata": {
        "id": "MXxD1l5aRCwu"
      }
    },
    {
      "cell_type": "code",
      "source": [
        "#\"Caixas\"\n",
        "dataset.hist()\n",
        "plt.show()"
      ],
      "metadata": {
        "colab": {
          "base_uri": "https://localhost:8080/",
          "height": 281
        },
        "id": "kRGT0_MFRLDC",
        "outputId": "4eb8c2a7-5e9d-45de-8ea6-aa023c7a8efb"
      },
      "execution_count": null,
      "outputs": [
        {
          "output_type": "display_data",
          "data": {
            "image/png": "[encoded data removed]",
            "text/plain": [
              "<Figure size 432x288 with 4 Axes>"
            ]
          },
          "metadata": {
            "needs_background": "light"
          }
        }
      ]
    },
    {
      "cell_type": "markdown",
      "source": [
        "E podemos usar o box plot para conhecer de modo rápido onde se concentram.\n",
        "Observa-se como tanto a largura quanto o comprimento das pétalas possuem um histograma parecido de seus dados. Isso pode sugerir algum grau de correlação."
      ],
      "metadata": {
        "id": "hEx449ZLRibW"
      }
    },
    {
      "cell_type": "code",
      "source": [
        "#\"Bigode\"\n",
        "dataset.plot(kind='box', subplots=True, layout=(2,2), sharex=False, sharey=False)\n",
        "plt.show()"
      ],
      "metadata": {
        "colab": {
          "base_uri": "https://localhost:8080/",
          "height": 267
        },
        "id": "vWp1M4MuQimv",
        "outputId": "516681ba-eb12-4c7b-bab0-a9a918f8f1c2"
      },
      "execution_count": null,
      "outputs": [
        {
          "output_type": "display_data",
          "data": {
            "image/png": "[encoded data removed]",
            "text/plain": [
              "<Figure size 432x288 with 4 Axes>"
            ]
          },
          "metadata": {
            "needs_background": "light"
          }
        }
      ]
    },
    {
      "cell_type": "markdown",
      "source": [
        "Observa-se como tanto a largura quanto o comprimento das pétalas possuem caixas parecidas em seus \"bigodes\". Isso pode também sugerir algum grau de correlação."
      ],
      "metadata": {
        "id": "d6UWIkbY47ve"
      }
    },
    {
      "cell_type": "markdown",
      "source": [
        "###2.3.2. Gráficos Multivariados\n",
        "\n",
        "Agora podemos observar as interações entre as variáveis.\n",
        "Primeiro, vamos usar o Scatter plot matrix para conhecer a dispersão de todos os pares de atributos. \n",
        "Isso pode ser útil para identificar relações estruturadas entre as variáveis ​​de entrada."
      ],
      "metadata": {
        "id": "XskS0jFbSDk4"
      }
    },
    {
      "cell_type": "code",
      "source": [
        "# scatter plot matrix\n",
        "scatter_matrix(dataset)\n",
        "plt.show()"
      ],
      "metadata": {
        "colab": {
          "base_uri": "https://localhost:8080/",
          "height": 287
        },
        "id": "7YfrizYJSYpg",
        "outputId": "f0327c80-b067-4d27-8372-bbb7dcbc98e8"
      },
      "execution_count": null,
      "outputs": [
        {
          "output_type": "display_data",
          "data": {
            "image/png": "[encoded data removed]",
            "text/plain": [
              "<Figure size 432x288 with 16 Axes>"
            ]
          },
          "metadata": {
            "needs_background": "light"
          }
        }
      ]
    },
    {
      "cell_type": "markdown",
      "source": [
        "Observa-se o agrupamento diagonal de alguns pares de atributos. \n",
        "Como é o caso 'petal_length' com o 'petal_width'.\n",
        "Isso sugere uma alta correlação e um relacionamento previsível.\n",
        "Ou seja: Quando maior o comprimento da pátala, maior será sua largura também."
      ],
      "metadata": {
        "id": "5EN9JSYHSpve"
      }
    },
    {
      "cell_type": "markdown",
      "source": [
        "isso pode ser comprovado por um gráfico de dispersão de todas as classes, de acordo com os valores das larguras e comprimentos de suas pétalas e sépalas:"
      ],
      "metadata": {
        "id": "SP2NcWg-XaRg"
      }
    },
    {
      "cell_type": "code",
      "source": [
        "# construir um dicionário para codificar as classes:\n",
        "inv_name_dict = {'Iris-setosa': 0,\n",
        "'Iris-versicolor': 1,\n",
        "'Iris-virginica': 2}\n",
        "\n",
        "# construir um código de cores\n",
        "colors = [inv_name_dict[item] for item in dataset['class']]\n",
        "\n",
        "# aplicar o grafico de dispersão 'scatter plot':\n",
        "scatter = plt.scatter(dataset['sepal_length'], dataset['sepal_width'], c = colors)\n",
        "plt.xlabel('sepal_length')\n",
        "plt.ylabel('sepal_width')\n",
        "\n",
        "## add legend\n",
        "plt.legend(handles=scatter.legend_elements()[0],\n",
        "labels = inv_name_dict.keys())\n",
        "plt.savefig(\"plot.png\")\n",
        "plt.show()"
      ],
      "metadata": {
        "colab": {
          "base_uri": "https://localhost:8080/",
          "height": 283
        },
        "id": "97_D0lEUU77D",
        "outputId": "e350309a-e244-4987-ebf8-60d673867c45"
      },
      "execution_count": null,
      "outputs": [
        {
          "output_type": "display_data",
          "data": {
            "image/png": "[encoded data removed]",
            "text/plain": [
              "<Figure size 432x288 with 1 Axes>"
            ]
          },
          "metadata": {
            "needs_background": "light"
          }
        }
      ]
    },
    {
      "cell_type": "markdown",
      "source": [
        "Percebe-se aqui que, de acordo com a disperssão das classes de Iris, a 'Iris-virginica' chega e se concentra em tamanhos maiores, enquanto a 'Iris-setosa' fica e se concentra em tamanhos menores. Algo que pode guiar a nossa tarefa de Classificação em relação ao tamanho da sépala.\n",
        "\n",
        "Agora vamos colocar a pétala em suas dimenções como eixos x e y:\n"
      ],
      "metadata": {
        "id": "Ch0FvsxyX2aj"
      }
    },
    {
      "cell_type": "code",
      "source": [
        "#Construir um dicionário para codificar as classes:\n",
        "inv_name_dict = {'Iris-setosa': 0,\n",
        "'Iris-versicolor': 1,\n",
        "'Iris-virginica': 2}\n",
        "\n",
        "#Construir um código de cores\n",
        "colors = [inv_name_dict[item] for item in dataset['class']]\n",
        "\n",
        "#Aplicar o grafico de dispersão 'scatter plot':\n",
        "scatter = plt.scatter(dataset['petal_length'], dataset['petal_width'], c = colors)\n",
        "plt.xlabel('petal_lengt (cm)')\n",
        "plt.ylabel('petal_width (cm)')\n",
        "\n",
        "##Adicionar legenda:\n",
        "plt.legend(handles=scatter.legend_elements()[0],\n",
        "labels = inv_name_dict.keys())\n",
        "plt.savefig(\"plot.png\")\n",
        "plt.show()"
      ],
      "metadata": {
        "colab": {
          "base_uri": "https://localhost:8080/",
          "height": 280
        },
        "id": "lpQPRewuhFbV",
        "outputId": "84ad9f4d-6a1f-4b12-bad0-1dcba11f7737"
      },
      "execution_count": null,
      "outputs": [
        {
          "output_type": "display_data",
          "data": {
            "image/png": "[encoded data removed]",
            "text/plain": [
              "<Figure size 432x288 with 1 Axes>"
            ]
          },
          "metadata": {
            "needs_background": "light"
          }
        }
      ]
    },
    {
      "cell_type": "markdown",
      "source": [
        "Isso demonstra uma correlação positiva forte para o tamanho das pétalas como parâmetro para a definição da classe da planta.\n",
        "\n",
        "-   Observe que quanto maior forem as pétalas, mais provável será a classe pertencer a da 'Iris-virginica'.\n",
        "\n",
        "-   Em contra partida, quanto menorem forem as pétalas, maior a possibilidade desta pertencer a classe 'Iris-virginica'.\n",
        "\n",
        "-   Ficando a 'Iris-versicolor' na centralição destas medidas.\n",
        "\n",
        "Tornando tal parêmetro uma ferramenta útil para diferenciar as classes desta flor.\n",
        "\n",
        "Alguns limites entre a Iris 'Iris-versicolor' com a 'Iris-virginica' encontram um limite mal definido. Pode necessitar atenção ao se construir algum modelo quanto a isso, mas nada que comprometeria sua eficácia como um todo.\n",
        "\n",
        "Portanto, será esta correlação positiva forte op que usaremos daqui para frente para criar, testar e validar um modelo supervisionado de máquina. \n",
        "\n",
        "**Ele será capaz de catalogar as espécies, da mesma forma, ou até mesmo melhor, do que um humano faria?**"
      ],
      "metadata": {
        "id": "kRnmSv7OiNk3"
      }
    },
    {
      "cell_type": "markdown",
      "source": [
        "##3. Avaliação dos Algoritmos\n",
        "\n",
        "É chegada a hora de criar alguns modelos dos dados e estimar sua precisão em dados não vistos.\n"
      ],
      "metadata": {
        "id": "blvr-BdHTRwE"
      }
    },
    {
      "cell_type": "markdown",
      "source": [
        "Para isso, será necessário percorrer o seguine trilho:\n",
        "\n",
        "1.   Separar um conjunto de dados de validação.\n",
        "2.   Configurar os testes para utilizar validação cruzada de 10.\n",
        "3.   Construir 5 modelos diferentes para prever espécies a partir de medições de flores\n",
        "4.   Selecionar o melhor modelo."
      ],
      "metadata": {
        "id": "jqABbWeSTocX"
      }
    },
    {
      "cell_type": "markdown",
      "source": [
        "###3.1. 'KNeighborsClassifier'\n",
        "\n",
        "Este modelo necessita misturar todos os elementos, separar em grupo controle e teste. \n",
        "Realiza uma análise do controle, constroi um modelo e o aplica no grupo teste. Entrega com grau alto de performance, porém é sensível a randomização inicial dos dados. "
      ],
      "metadata": {
        "id": "Bn3RpukRF75x"
      }
    },
    {
      "cell_type": "markdown",
      "source": [
        "###3.1.1. Separar um conjunto de dados de validação\n",
        "\n",
        "Vamos misturar de modo homogênio e depois dividir o conjunto de dados carregado em dois: \n",
        "-   Um com 70% dos dados aleatórios dosdos quais usaremos para **treinar** nossos modelos.\n",
        "-   Um com 30% que iremos reter como um conjunto de dados que aplicaremos os modelos desenvolvidos e realizaremos no **teste** de validação."
      ],
      "metadata": {
        "id": "zO_kaQZtUb56"
      }
    },
    {
      "cell_type": "markdown",
      "source": [
        ""
      ],
      "metadata": {
        "id": "CxUWhkE2GSFR"
      }
    },
    {
      "cell_type": "code",
      "source": [
        "# Split-out validation dataset\n",
        "array = dataset.values\n",
        "X = dataset[['petal_length', 'petal_width']]\n",
        "y = dataset['class']\n",
        "\n",
        "X_train, X_test, y_train, y_test = train_test_split(X, y, test_size=0.30, random_state=1, stratify=y)\n",
        "\n",
        "print(y_train.value_counts())\n",
        "print(y_test.value_counts())"
      ],
      "metadata": {
        "colab": {
          "base_uri": "https://localhost:8080/"
        },
        "id": "vUumJxTMkaAx",
        "outputId": "288d2f9d-3d4f-42c5-842a-d9a5188286f8"
      },
      "execution_count": null,
      "outputs": [
        {
          "output_type": "stream",
          "name": "stdout",
          "text": [
            "Iris-setosa        35\n",
            "Iris-virginica     35\n",
            "Iris-versicolor    35\n",
            "Name: class, dtype: int64\n",
            "Iris-virginica     15\n",
            "Iris-setosa        15\n",
            "Iris-versicolor    15\n",
            "Name: class, dtype: int64\n"
          ]
        }
      ]
    },
    {
      "cell_type": "markdown",
      "source": [
        "Agora possuimos 2 conjuntos de dados:\n",
        "-   Dados de treinamento no X_train e no Y_train para preparar modelos. Com 35 elementos.\n",
        "-   Dados de teste no X_validation e Y_validation. Sets que podemos usar mais tarde. Com 15 elementos.\n",
        "\n",
        "O atributo 'stratify' da função 'train_test_split()' serve para homogenizar a mistura, possibilitandfo uma amostra o mais bem distribuida possível."
      ],
      "metadata": {
        "id": "YM49urtUkkCU"
      }
    },
    {
      "cell_type": "markdown",
      "source": [
        "###3.1.2. Treino de modelo\n",
        "\n",
        "Agora está na hora de treinar os modelo.\n",
        "Para isso, usaremos o 'KNeighborsClassifier'. um recurso do sklearn.\n",
        "Ele faz as estimação de probabilidade do vizinho mais próximo, dentro das possibidades disponíveis, de acordo com o modelo.\n",
        "Para isso acontecer:\n",
        "-   Estimar a instância.\n",
        "-   Treinar o modelo (\"fit\").\n",
        "-   Rodar o modelo."
      ],
      "metadata": {
        "id": "gttBsc1yq70n"
      }
    },
    {
      "cell_type": "code",
      "source": [
        "#Estimar a instância:\n",
        "knn = KNeighborsClassifier (n_neighbors=5)\n",
        "#Treinar o modelo (\"fit\"):\n",
        "knn.fit(X_train, y_train)\n",
        "print(knn.fit(X_train, y_train))"
      ],
      "metadata": {
        "colab": {
          "base_uri": "https://localhost:8080/"
        },
        "id": "nbhHuMLop9To",
        "outputId": "cd723280-5c71-4d0c-8478-d3cf315334a1"
      },
      "execution_count": null,
      "outputs": [
        {
          "output_type": "stream",
          "name": "stdout",
          "text": [
            "KNeighborsClassifier()\n"
          ]
        }
      ]
    },
    {
      "cell_type": "markdown",
      "source": [
        "Ele retona, quando sucesso, o nome da sua função vazia.\n",
        "\n",
        "Agora podemos aplicar o modelo numa previsão, usando o método: \"predict()\""
      ],
      "metadata": {
        "id": "jxWVQjXusBAq"
      }
    },
    {
      "cell_type": "code",
      "source": [
        "pred = knn.predict(X_test)"
      ],
      "metadata": {
        "id": "gvj4Fq4psZWe"
      },
      "execution_count": null,
      "outputs": []
    },
    {
      "cell_type": "markdown",
      "source": [
        "Ele retorna uma função vazia. Portanto agora vamos ver dentro do banco de teste, qual a previsão para os 5 primeiros elementos:"
      ],
      "metadata": {
        "id": "fJZ6pokTsos0"
      }
    },
    {
      "cell_type": "code",
      "source": [
        "#Prevendo os 5 1os elementos:\n",
        "print(pred[:5])"
      ],
      "metadata": {
        "colab": {
          "base_uri": "https://localhost:8080/"
        },
        "id": "m7yOKoOcszCW",
        "outputId": "d5308d44-a8f2-4559-cebc-c0b9c9459d40"
      },
      "execution_count": null,
      "outputs": [
        {
          "output_type": "stream",
          "name": "stdout",
          "text": [
            "['Iris-virginica' 'Iris-setosa' 'Iris-setosa' 'Iris-versicolor'\n",
            " 'Iris-versicolor']\n"
          ]
        }
      ]
    },
    {
      "cell_type": "markdown",
      "source": [
        "Desta forma foi criado um Array contendo esta informação."
      ],
      "metadata": {
        "id": "hVmD1JfvtM85"
      }
    },
    {
      "cell_type": "markdown",
      "source": [
        "###3.1.3. Previsão provável\n",
        "Existe um método dentro do \"Scikit Learn\" chamado de: 'Predict_prob'.\n",
        "Ele serve para determinar a provabilidade de surgir um determinado elemento de um dataframe, baseado em seus históricos de treino, sem a necessidade de preparar os dados de treino ou teste. \n",
        "\n",
        "Cada posição equivale a uma classe das plantas dentro do array:\n",
        ">   inv_name_dict = {'Iris-setosa': 0,\n",
        ">   'Iris-versicolor': 1,\n",
        ">   'Iris-virginica': 2}\n",
        "\n",
        "Dentro de cada uma das posições deste array, o valor '1' representa 100% de chance do indivíduo pertencer a esta classe.\n",
        "\n",
        "É assim que são definidas e calibras as definições:\n"
      ],
      "metadata": {
        "id": "-v4AN-4TtoF-"
      }
    },
    {
      "cell_type": "code",
      "source": [
        "#Quais classes provaveis do 10 ao e 11 do array de teste:\n",
        "y_pred_prob = knn.predict_proba(X_test)\n",
        "y_pred_prob[10:12]"
      ],
      "metadata": {
        "colab": {
          "base_uri": "https://localhost:8080/"
        },
        "id": "IB100LSivEc-",
        "outputId": "1019300a-c7bd-4278-fe85-a552ff37b174"
      },
      "execution_count": null,
      "outputs": [
        {
          "output_type": "execute_result",
          "data": {
            "text/plain": [
              "array([[1. , 0. , 0. ],\n",
              "       [0. , 0.2, 0.8]])"
            ]
          },
          "metadata": {},
          "execution_count": 21
        }
      ]
    },
    {
      "cell_type": "markdown",
      "source": [
        "Aqui demosntramos que o 1o elemento tem grande chance de ser 'Iris-setosa', já o segundo tem maior chance de ser da classe 'Iris-virginica'.\n",
        "\n",
        "Ao solicitar que seja demonstrada, a fórmula realiza o mesmo, trocando as porcentagens, pelas classes de palntas correspondentes:"
      ],
      "metadata": {
        "id": "kgdzGohaxHWw"
      }
    },
    {
      "cell_type": "code",
      "source": [
        "#Prova de proabilidade\n",
        "print(pred[10:12])"
      ],
      "metadata": {
        "colab": {
          "base_uri": "https://localhost:8080/"
        },
        "id": "LgGk8RS8xj60",
        "outputId": "21ba5002-edf1-4051-a804-a95846c2d48d"
      },
      "execution_count": null,
      "outputs": [
        {
          "output_type": "stream",
          "name": "stdout",
          "text": [
            "['Iris-setosa' 'Iris-virginica']\n"
          ]
        }
      ]
    },
    {
      "cell_type": "markdown",
      "source": [
        "###3.1.4. Acurácia\n",
        "\n",
        "Na classificação de um modelo de ML, este é o método mais relevante.\n",
        "Mostra qual é a proporção de dados do modelo que equivalem exatamente aos da amostra de treino. Ou seja, o grau de acerto que este proporciona. "
      ],
      "metadata": {
        "id": "vdEAt6q-_A_j"
      }
    },
    {
      "cell_type": "code",
      "source": [
        "#Teste de acurácia:\n",
        "knn.fit(X_train, y_train)\n",
        "y_pred = knn.predict(X_test)\n",
        "\n",
        "print((y_pred==y_test.values).sum())\n",
        "print(y_test.size)\n",
        "\n",
        "print('Porcentagem: ', ((y_pred==y_test.values).sum()/y_test.size)*100, '%')"
      ],
      "metadata": {
        "colab": {
          "base_uri": "https://localhost:8080/"
        },
        "id": "fcHEVI0Y_0pC",
        "outputId": "c87e8ba6-003f-41a2-e68d-1894272f1169"
      },
      "execution_count": null,
      "outputs": [
        {
          "output_type": "stream",
          "name": "stdout",
          "text": [
            "44\n",
            "45\n",
            "Porcentagem:  97.77777777777777 %\n"
          ]
        }
      ]
    },
    {
      "cell_type": "markdown",
      "source": [
        "Esta é uma previsisão de alta presisão! "
      ],
      "metadata": {
        "id": "HZ537VbIBfHv"
      }
    },
    {
      "cell_type": "markdown",
      "source": [
        "##3.1.5. Matrix de Confusão\n",
        "\n",
        "Uma classificação de acurácia apenas poderia ser mal interpretada, se haver uma quantidade igual de observações em cada classe, ou se houvessem mais de duas classes no mesmo dataset.\n",
        "\n",
        "Para isso existe este método. Ele cria uma matrix que demonstra:\n",
        "-   Onde o modelo está acertando.\n",
        "-   Onde o modelo está errando.\n",
        "\n"
      ],
      "metadata": {
        "id": "Grkm1rPJBlhi"
      }
    },
    {
      "cell_type": "code",
      "source": [
        "#Calculando a matrix de confusão:\n",
        "print(confusion_matrix(y_test, y_pred))"
      ],
      "metadata": {
        "colab": {
          "base_uri": "https://localhost:8080/"
        },
        "id": "vQbk8nLgCWql",
        "outputId": "d4b49c91-3b4f-4ce1-f774-20030c4eb910"
      },
      "execution_count": null,
      "outputs": [
        {
          "output_type": "stream",
          "name": "stdout",
          "text": [
            "[[15  0  0]\n",
            " [ 0 15  0]\n",
            " [ 0  1 14]]\n"
          ]
        }
      ]
    },
    {
      "cell_type": "markdown",
      "source": [
        "Este print demonstra que dos 45 indivíduos do grupo treino:\n",
        "-   15 foram corretamente previstos como 'Iris-setosa'. \n",
        "-   15 também o foram previstos como 'Iris-versicolor'.\n",
        "-   14 estavam corretos como 'Iris-virginica'.\n",
        "-   Apenas 1 estava previsto errado como 'Iris-versicolor'."
      ],
      "metadata": {
        "id": "TBEtzKdMCkm_"
      }
    },
    {
      "cell_type": "markdown",
      "source": [
        "Podemos criar inclussive uma visualização gráfica desta matrix de confusão:"
      ],
      "metadata": {
        "id": "tOg7ke2UDZvF"
      }
    },
    {
      "cell_type": "code",
      "source": [
        "#Plotando a matrix de confusão:\n",
        "plot_confusion_matrix(knn, X_test, y_test, cmap=plt.cm.Blues);\n",
        "plt.savefig(\"plot.png\")"
      ],
      "metadata": {
        "colab": {
          "base_uri": "https://localhost:8080/",
          "height": 334
        },
        "id": "uYfcVDIMDg17",
        "outputId": "65b2d44c-a3e7-4549-c98f-efc87e2b1104"
      },
      "execution_count": null,
      "outputs": [
        {
          "output_type": "stream",
          "name": "stderr",
          "text": [
            "/usr/local/lib/python3.7/dist-packages/sklearn/utils/deprecation.py:87: FutureWarning: Function plot_confusion_matrix is deprecated; Function `plot_confusion_matrix` is deprecated in 1.0 and will be removed in 1.2. Use one of the class methods: ConfusionMatrixDisplay.from_predictions or ConfusionMatrixDisplay.from_estimator.\n",
            "  warnings.warn(msg, category=FutureWarning)\n"
          ]
        },
        {
          "output_type": "display_data",
          "data": {
            "image/png": "[encoded data removed]",
            "text/plain": [
              "<Figure size 432x288 with 2 Axes>"
            ]
          },
          "metadata": {
            "needs_background": "light"
          }
        }
      ]
    },
    {
      "cell_type": "markdown",
      "source": [
        "Neste gráfico:\n",
        "-   O eixo Y(Vertical) demonstra a realidade dos dados de **teste**.\n",
        "-   O eixo X(horizontal) demosntra o quanto nosso modelo desenvolvido foi capaz de prever as classes corretas, e onde errou."
      ],
      "metadata": {
        "id": "9oI3vSPTEa3b"
      }
    },
    {
      "cell_type": "markdown",
      "source": [
        "##3.2. 'K-fold Cross Validation'\n",
        "\n",
        "Ela não depende de como a data foi previamente repartida. \n",
        "Os dados são repartidos em subsets 'k', então o experimento é repetido 'k' vezes sobre estes subsets. \n",
        "Onde um é o treino e os demais são o teste. \n",
        "Então a acurácia é medida pela média destes resultados, trazendo a tona a eficiencia do modelo. \n",
        "Desta forma todos os pontos de vista possíveis do modelo são usados no processo seu sua avaliação."
      ],
      "metadata": {
        "id": "uqbOiMF6Fiqd"
      }
    },
    {
      "cell_type": "markdown",
      "source": [
        "##3.2.1. Separar um conjunto de dados de validação\n",
        "\n",
        "Da mesma forma que o método anterior, realizaremos uma divisão 70/30. Após isso usaremos a função do sklearn para a tarefa:"
      ],
      "metadata": {
        "id": "rmgY_-SoIMk0"
      }
    },
    {
      "cell_type": "code",
      "source": [
        "# Criando um novo modelo KNN:\n",
        "knn_cv = KNeighborsClassifier(n_neighbors=3)\n",
        "# Treinando o modelo com 5-fold cv:\n",
        "cv_scores = cross_val_score(knn_cv, X, y, cv=5)\n",
        "# print cada cv score (acurácia):\n",
        "print(cv_scores)\n",
        "# realizando a média entre eles:\n",
        "print(cv_scores.mean())"
      ],
      "metadata": {
        "colab": {
          "base_uri": "https://localhost:8080/"
        },
        "id": "dFirSerNILzo",
        "outputId": "a62d9056-a9a7-4305-d6f3-cfc8eb9000ea"
      },
      "execution_count": null,
      "outputs": [
        {
          "output_type": "stream",
          "name": "stdout",
          "text": [
            "[0.96666667 0.96666667 0.9        0.93333333 1.        ]\n",
            "0.9533333333333334\n"
          ]
        }
      ]
    },
    {
      "cell_type": "markdown",
      "source": [
        "Aqui pode-se afirmar que o relatório para um modelo 3nn é de uma acurácia de 95,33%, baseado em uma validação de cruzamento de 5 dobras."
      ],
      "metadata": {
        "id": "MDFXcL_gJw2b"
      }
    },
    {
      "cell_type": "markdown",
      "source": [
        "##4. Melhora dos resultados - 'GridSearchCV'\n",
        "Quando construimos o 1o modelo, calibramos o hiperparâmetro 'k' para 5. Após isso, o mudamos para 3. \n",
        "Porém, qual seria o melhor hiperparâmetro possível de proximidade?\n",
        "Este processo é chamado de calibrar o hiperparâmetro.\n",
        "Este método vai testar diferentes vaolres e entregar o de melhor desempenho:\n"
      ],
      "metadata": {
        "id": "yTCPyARoKaIM"
      }
    },
    {
      "cell_type": "code",
      "source": [
        "#Criando novo modelo knn:\n",
        "knn2 = KNeighborsClassifier()\n",
        "#Criando um dicionário de todos os valores que queremos pa testar n_neighbors:\n",
        "param_grid = {'n_neighbors': np.arange(2, 10)}\n",
        "#Usando Busca em grade (gridsearch) para testar todos os valores para n_neighbors:\n",
        "knn_gscv = GridSearchCV(knn2, param_grid, cv=5)\n",
        "#Treinando o modelo nos dados:\n",
        "knn_gscv.fit(X, y)\n",
        "\n",
        "knn_final = KNeighborsClassifier(n_neighbors=knn_gscv.best_params_['n_neighbors'])\n",
        "knn_final.fit(X, y)\n",
        "\n",
        "y_pred = knn_final.predict(X)\n",
        "print(knn_final.score(X, y))"
      ],
      "metadata": {
        "colab": {
          "base_uri": "https://localhost:8080/"
        },
        "id": "-rccVLgOLjfi",
        "outputId": "73c04809-c330-4b08-820a-9516fffb56ad"
      },
      "execution_count": null,
      "outputs": [
        {
          "output_type": "stream",
          "name": "stdout",
          "text": [
            "0.9733333333333334\n"
          ]
        }
      ]
    },
    {
      "cell_type": "markdown",
      "source": [
        "Esta técnica é aplicável tanto para problemas de classificação quanto para os de regressão. Costuma trazer ótimos resultados. "
      ],
      "metadata": {
        "id": "5ZFDVgBaM68U"
      }
    },
    {
      "cell_type": "markdown",
      "source": [
        "##5. Entrega dos resultados\n",
        "\n",
        "Tendo encontrado o melhor hiperparâmetro, podemos colocar me teste nossa maquina de classificação.\n",
        "\n",
        "A ideia é alimentar por uma variável nova e deixar a maquina calcular sua classificação. \n",
        "\n",
        "Abaixo teremos o código final. O chamado 'Deploy'.\n",
        "\n",
        "Vamos agora finalmente inserir novos dados de uma flor, e fazer o programa nos dizer a qual classe esta pertence. Esta flor possui as seguintes caracteristicas:\n",
        "\n",
        "-   'pedal_length': \n",
        "-   'petal_width': \n",
        "\n",
        "Faremos isso ao cosiderar uma variavel com o nome de Nee Data, feita da função 'np.array', consitituida dos dados nesta mesma ordem:"
      ],
      "metadata": {
        "id": "eBjjCQ-_OY0S"
      }
    },
    {
      "cell_type": "code",
      "source": [
        "#Importando funçoes e módulos necessários:\n",
        "import numpy as np\n",
        "import pandas as pd\n",
        "from sklearn.model_selection import train_test_split\n",
        "from sklearn.neighbors import KNeighborsClassifier\n",
        "from sklearn.model_selection import GridSearchCV\n",
        "\n",
        "#Url da API:\n",
        "url = 'http://archive.ics.uci.edu/ml/machine-learning-databases/iris/iris.data'\n",
        "\n",
        "#Definindo os atributos:\n",
        "attributes = [\"sepal_length\", \"sepal_width\", \"petal_length\", \"petal_width\", \"class\"]\n",
        "\n",
        "dataset = pd.read_csv(url, names = attributes)\n",
        "\n",
        "#Substituindo as colunas por atributos recem definidos:\n",
        "dataset.columns = attributes\n",
        "\n",
        "#Definindo eixos:\n",
        "X = dataset[['petal_length', 'petal_width']]\n",
        "y = dataset['class']\n",
        "\n",
        "#Separando grupo treino e teste a 70/30%:\n",
        "X_train, X_test, y_train, y_test = train_test_split(X, y, test_size=0.30, random_state=1, stratify=y)\n",
        "\n",
        "# Criando modelo knn:\n",
        "knn2 = KNeighborsClassifier()\n",
        "\n",
        "#Criando um dicionário de todos os valores que queremos pa testar n_neighbors:\n",
        "param_grid = {'n_neighbors': np.arange(2, 10)}\n",
        "\n",
        "#Usando Busca em grade (gridsearch) para testar todos os valores para n_neighbors:\n",
        "knn_gscv = GridSearchCV(knn2, param_grid, cv=5)\n",
        "\n",
        "#Treinando o modelo nos dados. Limitando o treino a apenas valores, para não ocasionar erro de validação de nomes:\n",
        "knn_gscv.fit(X.values, y.values)\n",
        "knn_final = KNeighborsClassifier(n_neighbors=knn_gscv.best_params_['n_neighbors'])\n",
        "knn_final.fit(X.values, y.values)\n",
        "\n",
        "new_data = np.array([[3.76, 1.2], \n",
        "                     [5.25, 1.2],\n",
        "                     [1.58, 1.2]])\n",
        "print(knn_final.predict(new_data))"
      ],
      "metadata": {
        "colab": {
          "base_uri": "https://localhost:8080/"
        },
        "id": "LpF7Z7uMPhVV",
        "outputId": "fa3d63e9-7c55-4c90-aa98-0b7d61183744"
      },
      "execution_count": null,
      "outputs": [
        {
          "output_type": "stream",
          "name": "stdout",
          "text": [
            "['Iris-versicolor' 'Iris-virginica' 'Iris-setosa']\n"
          ]
        }
      ]
    },
    {
      "cell_type": "code",
      "source": [
        "#Entrega dos novos dados:\n",
        "print('Hiperparâmetros(\\'knn\\') usados: ', knn_gscv)\n",
        "\n",
        "print('Novos dados: ', new_data)"
      ],
      "metadata": {
        "colab": {
          "base_uri": "https://localhost:8080/"
        },
        "id": "Yw1TFdqHph91",
        "outputId": "b072a918-7093-4731-e80f-d0f33d5bcb86"
      },
      "execution_count": null,
      "outputs": [
        {
          "output_type": "stream",
          "name": "stdout",
          "text": [
            "Hiperparâmetros('knn') usados:  GridSearchCV(cv=5, estimator=KNeighborsClassifier(),\n",
            "             param_grid={'n_neighbors': array([2, 3, 4, 5, 6, 7, 8, 9])})\n",
            "Novos dados:  [[3.76 1.2 ]\n",
            " [5.25 1.2 ]\n",
            " [1.58 1.2 ]]\n"
          ]
        }
      ]
    },
    {
      "cell_type": "markdown",
      "source": [
        "##5.1. Construindo um Deploy nativo\n",
        "\n",
        "Existem diversos sistemas de Deploy. cada um dele com suas vantagens e desvantagens específicas. Portanto para este projeto foi criado um deploy nativo dentro do notebook usando o método de varias plantas como feito acima, ou com a inserção manual de uma apenas. Segue:"
      ],
      "metadata": {
        "id": "dXSYBBmSQONF"
      }
    },
    {
      "cell_type": "code",
      "source": [
        "#Deploy nativo com 1 input:\n",
        "new_data_2 = np.array([float(input('A planta possui a largura da pétala de: ')), float(input('A planta possui o cumprimento da pétala de: '))])\n",
        "\n",
        "#Transformando o dataset em um 1d array:\n",
        "new_data_2 = new_data_2.reshape(1, -1)\n",
        "\n",
        "print('Pertence a Classe: ', knn_final.predict(new_data_2))"
      ],
      "metadata": {
        "colab": {
          "base_uri": "https://localhost:8080/"
        },
        "id": "gaM_6649JmYH",
        "outputId": "27dc354f-97bc-496d-a0fe-67affa4a2b18"
      },
      "execution_count": null,
      "outputs": [
        {
          "output_type": "stream",
          "name": "stdout",
          "text": [
            "A planta possui a largura da pétala de: 5\n",
            "A planta possui o cumprimento da pétala de: 6\n",
            "Pertence a Classe:  ['Iris-virginica']\n"
          ]
        }
      ]
    },
    {
      "cell_type": "markdown",
      "source": [
        "##Conclusões\n",
        "\n",
        "-   O ML é uma desdobramento esperado quando possuimos uma possibilidade de cálcular e de análisar dados em quantidade grande. \n",
        "\n",
        "-   As impresões retiradas destes resultados podem ser úteis para guiar as tomadas de decisão em diversos processos, em diferentes áreas.\n",
        "\n",
        "-   Existem vários outros métodos de classificaçãoe criação de modelos pela literatura dentro das bibliotecas conhecidas. Porém isso não desabona de modo algum a acurácia que estes métodos são capazes de chegar, visto a alta porcentágem de acerto.\n",
        "\n",
        "-   Isso torna este notebook aplicável a demais banco de dados e problemas de classificação e previsão, podendo ainda ser melhorado com a adição de mais modelos e aprimoramento de seus respectivos hiperparâmetros.\n",
        "\n",
        "-   Deploys em plataformas específicas são muito usados para o compartilhamento de modelos. Mais estudos se fazem necessários entro das especificações de cada um deles.\n",
        "\n",
        "Ou seja: Quando bem calibrado o parâmetro de classificação, um modelo de ML poderia facilmente realizar esta tarefa da mesma forma que um humano o faria. \n",
        "\n",
        ">   \"Foi por que um amigo acreditou em mim e não tive coragem de decepciona-lo\"\n",
        ">   (Abraham Lincoln. * 1809 até + 1865)"
      ],
      "metadata": {
        "id": "udbyiNX-xtbN"
      }
    }
  ]
}